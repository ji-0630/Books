{
  "nbformat": 4,
  "nbformat_minor": 0,
  "metadata": {
    "colab": {
      "name": "3. 시카고 샌드위치 맛집 분석",
      "provenance": [],
      "collapsed_sections": [],
      "authorship_tag": "ABX9TyMBJcuXFmMqkQicUS+2Pr65"
    },
    "kernelspec": {
      "name": "python3",
      "display_name": "Python 3"
    },
    "language_info": {
      "name": "python"
    },
    "widgets": {
      "application/vnd.jupyter.widget-state+json": {
        "218bfa83091243d4b0d114e4ce8de3ce": {
          "model_module": "@jupyter-widgets/controls",
          "model_name": "HBoxModel",
          "model_module_version": "1.5.0",
          "state": {
            "_dom_classes": [],
            "_model_module": "@jupyter-widgets/controls",
            "_model_module_version": "1.5.0",
            "_model_name": "HBoxModel",
            "_view_count": null,
            "_view_module": "@jupyter-widgets/controls",
            "_view_module_version": "1.5.0",
            "_view_name": "HBoxView",
            "box_style": "",
            "children": [
              "IPY_MODEL_6f7ca48cda264dac8e2cb6851d19b741",
              "IPY_MODEL_a08cc2f21bdc4502890f11fd5b8f4df5",
              "IPY_MODEL_78f69f393df842f9aa630d61f7974865"
            ],
            "layout": "IPY_MODEL_8a8b3ddf25514c6bbb704090dc329e2b"
          }
        },
        "6f7ca48cda264dac8e2cb6851d19b741": {
          "model_module": "@jupyter-widgets/controls",
          "model_name": "HTMLModel",
          "model_module_version": "1.5.0",
          "state": {
            "_dom_classes": [],
            "_model_module": "@jupyter-widgets/controls",
            "_model_module_version": "1.5.0",
            "_model_name": "HTMLModel",
            "_view_count": null,
            "_view_module": "@jupyter-widgets/controls",
            "_view_module_version": "1.5.0",
            "_view_name": "HTMLView",
            "description": "",
            "description_tooltip": null,
            "layout": "IPY_MODEL_7121b3af6e894937ac59e4ca36593c96",
            "placeholder": "​",
            "style": "IPY_MODEL_29053c3d4480416181a9951cbea9f211",
            "value": "100%"
          }
        },
        "a08cc2f21bdc4502890f11fd5b8f4df5": {
          "model_module": "@jupyter-widgets/controls",
          "model_name": "FloatProgressModel",
          "model_module_version": "1.5.0",
          "state": {
            "_dom_classes": [],
            "_model_module": "@jupyter-widgets/controls",
            "_model_module_version": "1.5.0",
            "_model_name": "FloatProgressModel",
            "_view_count": null,
            "_view_module": "@jupyter-widgets/controls",
            "_view_module_version": "1.5.0",
            "_view_name": "ProgressView",
            "bar_style": "success",
            "description": "",
            "description_tooltip": null,
            "layout": "IPY_MODEL_65a507f85e5c4d11b0c4ffdbd22b00b1",
            "max": 50,
            "min": 0,
            "orientation": "horizontal",
            "style": "IPY_MODEL_4e229bc74e004831a3b340587347d8fc",
            "value": 50
          }
        },
        "78f69f393df842f9aa630d61f7974865": {
          "model_module": "@jupyter-widgets/controls",
          "model_name": "HTMLModel",
          "model_module_version": "1.5.0",
          "state": {
            "_dom_classes": [],
            "_model_module": "@jupyter-widgets/controls",
            "_model_module_version": "1.5.0",
            "_model_name": "HTMLModel",
            "_view_count": null,
            "_view_module": "@jupyter-widgets/controls",
            "_view_module_version": "1.5.0",
            "_view_name": "HTMLView",
            "description": "",
            "description_tooltip": null,
            "layout": "IPY_MODEL_73ba1aa2203a4a2fb09f10969f35d9db",
            "placeholder": "​",
            "style": "IPY_MODEL_20fdcb23dc2141e69b62167771508f01",
            "value": " 50/50 [00:24&lt;00:00,  2.17it/s]"
          }
        },
        "8a8b3ddf25514c6bbb704090dc329e2b": {
          "model_module": "@jupyter-widgets/base",
          "model_name": "LayoutModel",
          "model_module_version": "1.2.0",
          "state": {
            "_model_module": "@jupyter-widgets/base",
            "_model_module_version": "1.2.0",
            "_model_name": "LayoutModel",
            "_view_count": null,
            "_view_module": "@jupyter-widgets/base",
            "_view_module_version": "1.2.0",
            "_view_name": "LayoutView",
            "align_content": null,
            "align_items": null,
            "align_self": null,
            "border": null,
            "bottom": null,
            "display": null,
            "flex": null,
            "flex_flow": null,
            "grid_area": null,
            "grid_auto_columns": null,
            "grid_auto_flow": null,
            "grid_auto_rows": null,
            "grid_column": null,
            "grid_gap": null,
            "grid_row": null,
            "grid_template_areas": null,
            "grid_template_columns": null,
            "grid_template_rows": null,
            "height": null,
            "justify_content": null,
            "justify_items": null,
            "left": null,
            "margin": null,
            "max_height": null,
            "max_width": null,
            "min_height": null,
            "min_width": null,
            "object_fit": null,
            "object_position": null,
            "order": null,
            "overflow": null,
            "overflow_x": null,
            "overflow_y": null,
            "padding": null,
            "right": null,
            "top": null,
            "visibility": null,
            "width": null
          }
        },
        "7121b3af6e894937ac59e4ca36593c96": {
          "model_module": "@jupyter-widgets/base",
          "model_name": "LayoutModel",
          "model_module_version": "1.2.0",
          "state": {
            "_model_module": "@jupyter-widgets/base",
            "_model_module_version": "1.2.0",
            "_model_name": "LayoutModel",
            "_view_count": null,
            "_view_module": "@jupyter-widgets/base",
            "_view_module_version": "1.2.0",
            "_view_name": "LayoutView",
            "align_content": null,
            "align_items": null,
            "align_self": null,
            "border": null,
            "bottom": null,
            "display": null,
            "flex": null,
            "flex_flow": null,
            "grid_area": null,
            "grid_auto_columns": null,
            "grid_auto_flow": null,
            "grid_auto_rows": null,
            "grid_column": null,
            "grid_gap": null,
            "grid_row": null,
            "grid_template_areas": null,
            "grid_template_columns": null,
            "grid_template_rows": null,
            "height": null,
            "justify_content": null,
            "justify_items": null,
            "left": null,
            "margin": null,
            "max_height": null,
            "max_width": null,
            "min_height": null,
            "min_width": null,
            "object_fit": null,
            "object_position": null,
            "order": null,
            "overflow": null,
            "overflow_x": null,
            "overflow_y": null,
            "padding": null,
            "right": null,
            "top": null,
            "visibility": null,
            "width": null
          }
        },
        "29053c3d4480416181a9951cbea9f211": {
          "model_module": "@jupyter-widgets/controls",
          "model_name": "DescriptionStyleModel",
          "model_module_version": "1.5.0",
          "state": {
            "_model_module": "@jupyter-widgets/controls",
            "_model_module_version": "1.5.0",
            "_model_name": "DescriptionStyleModel",
            "_view_count": null,
            "_view_module": "@jupyter-widgets/base",
            "_view_module_version": "1.2.0",
            "_view_name": "StyleView",
            "description_width": ""
          }
        },
        "65a507f85e5c4d11b0c4ffdbd22b00b1": {
          "model_module": "@jupyter-widgets/base",
          "model_name": "LayoutModel",
          "model_module_version": "1.2.0",
          "state": {
            "_model_module": "@jupyter-widgets/base",
            "_model_module_version": "1.2.0",
            "_model_name": "LayoutModel",
            "_view_count": null,
            "_view_module": "@jupyter-widgets/base",
            "_view_module_version": "1.2.0",
            "_view_name": "LayoutView",
            "align_content": null,
            "align_items": null,
            "align_self": null,
            "border": null,
            "bottom": null,
            "display": null,
            "flex": null,
            "flex_flow": null,
            "grid_area": null,
            "grid_auto_columns": null,
            "grid_auto_flow": null,
            "grid_auto_rows": null,
            "grid_column": null,
            "grid_gap": null,
            "grid_row": null,
            "grid_template_areas": null,
            "grid_template_columns": null,
            "grid_template_rows": null,
            "height": null,
            "justify_content": null,
            "justify_items": null,
            "left": null,
            "margin": null,
            "max_height": null,
            "max_width": null,
            "min_height": null,
            "min_width": null,
            "object_fit": null,
            "object_position": null,
            "order": null,
            "overflow": null,
            "overflow_x": null,
            "overflow_y": null,
            "padding": null,
            "right": null,
            "top": null,
            "visibility": null,
            "width": null
          }
        },
        "4e229bc74e004831a3b340587347d8fc": {
          "model_module": "@jupyter-widgets/controls",
          "model_name": "ProgressStyleModel",
          "model_module_version": "1.5.0",
          "state": {
            "_model_module": "@jupyter-widgets/controls",
            "_model_module_version": "1.5.0",
            "_model_name": "ProgressStyleModel",
            "_view_count": null,
            "_view_module": "@jupyter-widgets/base",
            "_view_module_version": "1.2.0",
            "_view_name": "StyleView",
            "bar_color": null,
            "description_width": ""
          }
        },
        "73ba1aa2203a4a2fb09f10969f35d9db": {
          "model_module": "@jupyter-widgets/base",
          "model_name": "LayoutModel",
          "model_module_version": "1.2.0",
          "state": {
            "_model_module": "@jupyter-widgets/base",
            "_model_module_version": "1.2.0",
            "_model_name": "LayoutModel",
            "_view_count": null,
            "_view_module": "@jupyter-widgets/base",
            "_view_module_version": "1.2.0",
            "_view_name": "LayoutView",
            "align_content": null,
            "align_items": null,
            "align_self": null,
            "border": null,
            "bottom": null,
            "display": null,
            "flex": null,
            "flex_flow": null,
            "grid_area": null,
            "grid_auto_columns": null,
            "grid_auto_flow": null,
            "grid_auto_rows": null,
            "grid_column": null,
            "grid_gap": null,
            "grid_row": null,
            "grid_template_areas": null,
            "grid_template_columns": null,
            "grid_template_rows": null,
            "height": null,
            "justify_content": null,
            "justify_items": null,
            "left": null,
            "margin": null,
            "max_height": null,
            "max_width": null,
            "min_height": null,
            "min_width": null,
            "object_fit": null,
            "object_position": null,
            "order": null,
            "overflow": null,
            "overflow_x": null,
            "overflow_y": null,
            "padding": null,
            "right": null,
            "top": null,
            "visibility": null,
            "width": null
          }
        },
        "20fdcb23dc2141e69b62167771508f01": {
          "model_module": "@jupyter-widgets/controls",
          "model_name": "DescriptionStyleModel",
          "model_module_version": "1.5.0",
          "state": {
            "_model_module": "@jupyter-widgets/controls",
            "_model_module_version": "1.5.0",
            "_model_name": "DescriptionStyleModel",
            "_view_count": null,
            "_view_module": "@jupyter-widgets/base",
            "_view_module_version": "1.2.0",
            "_view_name": "StyleView",
            "description_width": ""
          }
        },
        "f5aa2ac89e014be0b5cbb0ebf95c1f1c": {
          "model_module": "@jupyter-widgets/controls",
          "model_name": "HBoxModel",
          "model_module_version": "1.5.0",
          "state": {
            "_dom_classes": [],
            "_model_module": "@jupyter-widgets/controls",
            "_model_module_version": "1.5.0",
            "_model_name": "HBoxModel",
            "_view_count": null,
            "_view_module": "@jupyter-widgets/controls",
            "_view_module_version": "1.5.0",
            "_view_name": "HBoxView",
            "box_style": "",
            "children": [
              "IPY_MODEL_6fae4a33377c42748b24edeecc5a394b",
              "IPY_MODEL_4a8bcbeda9be49a1a0e23b6372b0f10f",
              "IPY_MODEL_c3832889f5004f3cae4bec4d39f2e041"
            ],
            "layout": "IPY_MODEL_8c956433719444eb82a6ccbd0d1dc9d0"
          }
        },
        "6fae4a33377c42748b24edeecc5a394b": {
          "model_module": "@jupyter-widgets/controls",
          "model_name": "HTMLModel",
          "model_module_version": "1.5.0",
          "state": {
            "_dom_classes": [],
            "_model_module": "@jupyter-widgets/controls",
            "_model_module_version": "1.5.0",
            "_model_name": "HTMLModel",
            "_view_count": null,
            "_view_module": "@jupyter-widgets/controls",
            "_view_module_version": "1.5.0",
            "_view_name": "HTMLView",
            "description": "",
            "description_tooltip": null,
            "layout": "IPY_MODEL_4848ee5743f542f3ab42548443aa4e2e",
            "placeholder": "​",
            "style": "IPY_MODEL_c81d20c6db064d0985d1bcf9c7e13454",
            "value": "100%"
          }
        },
        "4a8bcbeda9be49a1a0e23b6372b0f10f": {
          "model_module": "@jupyter-widgets/controls",
          "model_name": "FloatProgressModel",
          "model_module_version": "1.5.0",
          "state": {
            "_dom_classes": [],
            "_model_module": "@jupyter-widgets/controls",
            "_model_module_version": "1.5.0",
            "_model_name": "FloatProgressModel",
            "_view_count": null,
            "_view_module": "@jupyter-widgets/controls",
            "_view_module_version": "1.5.0",
            "_view_name": "ProgressView",
            "bar_style": "success",
            "description": "",
            "description_tooltip": null,
            "layout": "IPY_MODEL_6185a4a779b543c8877763c2ed992377",
            "max": 50,
            "min": 0,
            "orientation": "horizontal",
            "style": "IPY_MODEL_bb816cf8436a433baaade51e535b6903",
            "value": 50
          }
        },
        "c3832889f5004f3cae4bec4d39f2e041": {
          "model_module": "@jupyter-widgets/controls",
          "model_name": "HTMLModel",
          "model_module_version": "1.5.0",
          "state": {
            "_dom_classes": [],
            "_model_module": "@jupyter-widgets/controls",
            "_model_module_version": "1.5.0",
            "_model_name": "HTMLModel",
            "_view_count": null,
            "_view_module": "@jupyter-widgets/controls",
            "_view_module_version": "1.5.0",
            "_view_name": "HTMLView",
            "description": "",
            "description_tooltip": null,
            "layout": "IPY_MODEL_8010fba64c6f4600a09b88173bdda771",
            "placeholder": "​",
            "style": "IPY_MODEL_c60d7860c88c4faca9f2588773f4b4c4",
            "value": " 50/50 [00:02&lt;00:00, 20.52it/s]"
          }
        },
        "8c956433719444eb82a6ccbd0d1dc9d0": {
          "model_module": "@jupyter-widgets/base",
          "model_name": "LayoutModel",
          "model_module_version": "1.2.0",
          "state": {
            "_model_module": "@jupyter-widgets/base",
            "_model_module_version": "1.2.0",
            "_model_name": "LayoutModel",
            "_view_count": null,
            "_view_module": "@jupyter-widgets/base",
            "_view_module_version": "1.2.0",
            "_view_name": "LayoutView",
            "align_content": null,
            "align_items": null,
            "align_self": null,
            "border": null,
            "bottom": null,
            "display": null,
            "flex": null,
            "flex_flow": null,
            "grid_area": null,
            "grid_auto_columns": null,
            "grid_auto_flow": null,
            "grid_auto_rows": null,
            "grid_column": null,
            "grid_gap": null,
            "grid_row": null,
            "grid_template_areas": null,
            "grid_template_columns": null,
            "grid_template_rows": null,
            "height": null,
            "justify_content": null,
            "justify_items": null,
            "left": null,
            "margin": null,
            "max_height": null,
            "max_width": null,
            "min_height": null,
            "min_width": null,
            "object_fit": null,
            "object_position": null,
            "order": null,
            "overflow": null,
            "overflow_x": null,
            "overflow_y": null,
            "padding": null,
            "right": null,
            "top": null,
            "visibility": null,
            "width": null
          }
        },
        "4848ee5743f542f3ab42548443aa4e2e": {
          "model_module": "@jupyter-widgets/base",
          "model_name": "LayoutModel",
          "model_module_version": "1.2.0",
          "state": {
            "_model_module": "@jupyter-widgets/base",
            "_model_module_version": "1.2.0",
            "_model_name": "LayoutModel",
            "_view_count": null,
            "_view_module": "@jupyter-widgets/base",
            "_view_module_version": "1.2.0",
            "_view_name": "LayoutView",
            "align_content": null,
            "align_items": null,
            "align_self": null,
            "border": null,
            "bottom": null,
            "display": null,
            "flex": null,
            "flex_flow": null,
            "grid_area": null,
            "grid_auto_columns": null,
            "grid_auto_flow": null,
            "grid_auto_rows": null,
            "grid_column": null,
            "grid_gap": null,
            "grid_row": null,
            "grid_template_areas": null,
            "grid_template_columns": null,
            "grid_template_rows": null,
            "height": null,
            "justify_content": null,
            "justify_items": null,
            "left": null,
            "margin": null,
            "max_height": null,
            "max_width": null,
            "min_height": null,
            "min_width": null,
            "object_fit": null,
            "object_position": null,
            "order": null,
            "overflow": null,
            "overflow_x": null,
            "overflow_y": null,
            "padding": null,
            "right": null,
            "top": null,
            "visibility": null,
            "width": null
          }
        },
        "c81d20c6db064d0985d1bcf9c7e13454": {
          "model_module": "@jupyter-widgets/controls",
          "model_name": "DescriptionStyleModel",
          "model_module_version": "1.5.0",
          "state": {
            "_model_module": "@jupyter-widgets/controls",
            "_model_module_version": "1.5.0",
            "_model_name": "DescriptionStyleModel",
            "_view_count": null,
            "_view_module": "@jupyter-widgets/base",
            "_view_module_version": "1.2.0",
            "_view_name": "StyleView",
            "description_width": ""
          }
        },
        "6185a4a779b543c8877763c2ed992377": {
          "model_module": "@jupyter-widgets/base",
          "model_name": "LayoutModel",
          "model_module_version": "1.2.0",
          "state": {
            "_model_module": "@jupyter-widgets/base",
            "_model_module_version": "1.2.0",
            "_model_name": "LayoutModel",
            "_view_count": null,
            "_view_module": "@jupyter-widgets/base",
            "_view_module_version": "1.2.0",
            "_view_name": "LayoutView",
            "align_content": null,
            "align_items": null,
            "align_self": null,
            "border": null,
            "bottom": null,
            "display": null,
            "flex": null,
            "flex_flow": null,
            "grid_area": null,
            "grid_auto_columns": null,
            "grid_auto_flow": null,
            "grid_auto_rows": null,
            "grid_column": null,
            "grid_gap": null,
            "grid_row": null,
            "grid_template_areas": null,
            "grid_template_columns": null,
            "grid_template_rows": null,
            "height": null,
            "justify_content": null,
            "justify_items": null,
            "left": null,
            "margin": null,
            "max_height": null,
            "max_width": null,
            "min_height": null,
            "min_width": null,
            "object_fit": null,
            "object_position": null,
            "order": null,
            "overflow": null,
            "overflow_x": null,
            "overflow_y": null,
            "padding": null,
            "right": null,
            "top": null,
            "visibility": null,
            "width": null
          }
        },
        "bb816cf8436a433baaade51e535b6903": {
          "model_module": "@jupyter-widgets/controls",
          "model_name": "ProgressStyleModel",
          "model_module_version": "1.5.0",
          "state": {
            "_model_module": "@jupyter-widgets/controls",
            "_model_module_version": "1.5.0",
            "_model_name": "ProgressStyleModel",
            "_view_count": null,
            "_view_module": "@jupyter-widgets/base",
            "_view_module_version": "1.2.0",
            "_view_name": "StyleView",
            "bar_color": null,
            "description_width": ""
          }
        },
        "8010fba64c6f4600a09b88173bdda771": {
          "model_module": "@jupyter-widgets/base",
          "model_name": "LayoutModel",
          "model_module_version": "1.2.0",
          "state": {
            "_model_module": "@jupyter-widgets/base",
            "_model_module_version": "1.2.0",
            "_model_name": "LayoutModel",
            "_view_count": null,
            "_view_module": "@jupyter-widgets/base",
            "_view_module_version": "1.2.0",
            "_view_name": "LayoutView",
            "align_content": null,
            "align_items": null,
            "align_self": null,
            "border": null,
            "bottom": null,
            "display": null,
            "flex": null,
            "flex_flow": null,
            "grid_area": null,
            "grid_auto_columns": null,
            "grid_auto_flow": null,
            "grid_auto_rows": null,
            "grid_column": null,
            "grid_gap": null,
            "grid_row": null,
            "grid_template_areas": null,
            "grid_template_columns": null,
            "grid_template_rows": null,
            "height": null,
            "justify_content": null,
            "justify_items": null,
            "left": null,
            "margin": null,
            "max_height": null,
            "max_width": null,
            "min_height": null,
            "min_width": null,
            "object_fit": null,
            "object_position": null,
            "order": null,
            "overflow": null,
            "overflow_x": null,
            "overflow_y": null,
            "padding": null,
            "right": null,
            "top": null,
            "visibility": null,
            "width": null
          }
        },
        "c60d7860c88c4faca9f2588773f4b4c4": {
          "model_module": "@jupyter-widgets/controls",
          "model_name": "DescriptionStyleModel",
          "model_module_version": "1.5.0",
          "state": {
            "_model_module": "@jupyter-widgets/controls",
            "_model_module_version": "1.5.0",
            "_model_name": "DescriptionStyleModel",
            "_view_count": null,
            "_view_module": "@jupyter-widgets/base",
            "_view_module_version": "1.2.0",
            "_view_name": "StyleView",
            "description_width": ""
          }
        }
      }
    }
  },
  "cells": [
    {
      "cell_type": "markdown",
      "source": [
        "## 3장. 시카고 샌드위치 맛집 분석\n",
        "\n",
        "### 1. 시카고 샌드위치 맛집 소개 사이트에 접근하기"
      ],
      "metadata": {
        "id": "JYNrPDhtQm7c"
      }
    },
    {
      "cell_type": "code",
      "execution_count": null,
      "metadata": {
        "id": "-wSfPfyZQi0G"
      },
      "outputs": [],
      "source": [
        "from bs4 import BeautifulSoup\n",
        "from urllib.request import Request, urlopen\n",
        "\n",
        "url_base = \"https://www.chicagomag.com\"\n",
        "url_sub = '/chicago-magazine/november-2012/best-sandwiches-chicago/'\n",
        "url = url_base + url_sub\n",
        "\n",
        "req = Request(url, headers={'User-Agent':'Mozilla/5.0'})\n",
        "html = urlopen(req)\n",
        "soup = BeautifulSoup(html, \"html.parser\")\n"
      ]
    },
    {
      "cell_type": "code",
      "source": [
        "len(soup.find_all('div', 'sammy'))"
      ],
      "metadata": {
        "colab": {
          "base_uri": "https://localhost:8080/"
        },
        "id": "Hjir66Mtcp37",
        "outputId": "9f4cb18e-4829-4f5d-9966-03e2bc0e77b6"
      },
      "execution_count": null,
      "outputs": [
        {
          "output_type": "execute_result",
          "data": {
            "text/plain": [
              "50"
            ]
          },
          "metadata": {},
          "execution_count": 3
        }
      ]
    },
    {
      "cell_type": "markdown",
      "source": [
        "50개의 맛집을 정확히 찾음을 확인할 수 있다."
      ],
      "metadata": {
        "id": "DzQuCHXYcvG9"
      }
    },
    {
      "cell_type": "code",
      "source": [
        "print(soup.find_all('div', 'sammy')[0])"
      ],
      "metadata": {
        "colab": {
          "base_uri": "https://localhost:8080/"
        },
        "id": "uBQl46XrczcE",
        "outputId": "310557b5-2c8e-4b34-cd7e-be98a0b3c109"
      },
      "execution_count": null,
      "outputs": [
        {
          "output_type": "stream",
          "name": "stdout",
          "text": [
            "<div class=\"sammy\" style=\"position: relative;\">\n",
            "<div class=\"sammyRank\">1</div>\n",
            "<div class=\"sammyListing\"><a href=\"/Chicago-Magazine/November-2012/Best-Sandwiches-in-Chicago-Old-Oak-Tap-BLT/\"><b>BLT</b><br/>\n",
            "Old Oak Tap<br/>\n",
            "<em>Read more</em> </a></div>\n",
            "</div>\n"
          ]
        }
      ]
    },
    {
      "cell_type": "markdown",
      "source": [
        "첫번째 맛집이 Old Oak Tap의 BLT임을 확인할 수 있다.\n",
        "\n",
        "### 2. 접근한 웹 페이지에서 원하는 데이터 추출하고 정리하기"
      ],
      "metadata": {
        "id": "IHGR_kvuc4XX"
      }
    },
    {
      "cell_type": "code",
      "source": [
        "tmp_one =soup.find_all('div', 'sammy')[0]\n",
        "type(tmp_one)"
      ],
      "metadata": {
        "colab": {
          "base_uri": "https://localhost:8080/"
        },
        "id": "dwiOAlcec7HE",
        "outputId": "482acb05-91ce-4f5b-a032-aebd7033c9d7"
      },
      "execution_count": null,
      "outputs": [
        {
          "output_type": "execute_result",
          "data": {
            "text/plain": [
              "bs4.element.Tag"
            ]
          },
          "metadata": {},
          "execution_count": 5
        }
      ]
    },
    {
      "cell_type": "markdown",
      "source": [
        "bs4.element.Tag형태는 그 변수에 다시 태그로 찾는 (find, find_all) 명령을 사용할 수 있다."
      ],
      "metadata": {
        "id": "dscHrm4hdSCl"
      }
    },
    {
      "cell_type": "code",
      "source": [
        "tmp_one.find(class_= 'sammyRank')"
      ],
      "metadata": {
        "colab": {
          "base_uri": "https://localhost:8080/"
        },
        "id": "mfXgWJo4dcUe",
        "outputId": "83b4ad4d-c22e-4de4-f144-d505824e0836"
      },
      "execution_count": null,
      "outputs": [
        {
          "output_type": "execute_result",
          "data": {
            "text/plain": [
              "<div class=\"sammyRank\">1</div>"
            ]
          },
          "metadata": {},
          "execution_count": 6
        }
      ]
    },
    {
      "cell_type": "markdown",
      "source": [
        "find 명령을 사용하고 sammyRank를 찾아보면 나타난다.  여기서 text만 취하면 된다."
      ],
      "metadata": {
        "id": "Tp7eFuZVdriU"
      }
    },
    {
      "cell_type": "code",
      "source": [
        "tmp_one.find(class_=\"sammyRank\").get_text()"
      ],
      "metadata": {
        "colab": {
          "base_uri": "https://localhost:8080/",
          "height": 35
        },
        "id": "YnCQhYtydrKf",
        "outputId": "7e2c6bf7-f44b-4908-f2a8-fe998f299628"
      },
      "execution_count": null,
      "outputs": [
        {
          "output_type": "execute_result",
          "data": {
            "text/plain": [
              "'1'"
            ],
            "application/vnd.google.colaboratory.intrinsic+json": {
              "type": "string"
            }
          },
          "metadata": {},
          "execution_count": 7
        }
      ]
    },
    {
      "cell_type": "markdown",
      "source": [
        "랭크를 추출할 수 있다."
      ],
      "metadata": {
        "id": "WaPqinwad5gk"
      }
    },
    {
      "cell_type": "code",
      "source": [
        "tmp_one.find(class_='sammyListing').get_text()"
      ],
      "metadata": {
        "colab": {
          "base_uri": "https://localhost:8080/",
          "height": 35
        },
        "id": "pqIq83pfd7dU",
        "outputId": "fec8d0af-30c2-4112-8312-9e4529607900"
      },
      "execution_count": null,
      "outputs": [
        {
          "output_type": "execute_result",
          "data": {
            "text/plain": [
              "'BLT\\nOld Oak Tap\\nRead more '"
            ],
            "application/vnd.google.colaboratory.intrinsic+json": {
              "type": "string"
            }
          },
          "metadata": {},
          "execution_count": 8
        }
      ]
    },
    {
      "cell_type": "markdown",
      "source": [
        "가게 이름과 메뉴이름이 함께 추출되었다."
      ],
      "metadata": {
        "id": "RqeOF1YQBA-w"
      }
    },
    {
      "cell_type": "code",
      "source": [
        "tmp_one.find('a')['href']"
      ],
      "metadata": {
        "colab": {
          "base_uri": "https://localhost:8080/",
          "height": 35
        },
        "id": "Stn9LRY7BEGF",
        "outputId": "b65365f6-8ff6-4647-b0d6-54466949c3fb"
      },
      "execution_count": null,
      "outputs": [
        {
          "output_type": "execute_result",
          "data": {
            "text/plain": [
              "'/Chicago-Magazine/November-2012/Best-Sandwiches-in-Chicago-Old-Oak-Tap-BLT/'"
            ],
            "application/vnd.google.colaboratory.intrinsic+json": {
              "type": "string"
            }
          },
          "metadata": {},
          "execution_count": 9
        }
      ]
    },
    {
      "cell_type": "markdown",
      "source": [
        "a 태그에서 href 정보를 가지고 클릭했을 때 연결될 주소도 저장할 수 있다."
      ],
      "metadata": {
        "id": "nCG4bRhJBJgt"
      }
    },
    {
      "cell_type": "code",
      "source": [
        "import re\n",
        "\n",
        "tmp_string = tmp_one.find(class_='sammyListing').get_text()\n",
        "\n",
        "re.split(('\\n|\\r\\n'),tmp_string)\n",
        "\n",
        "print(re.split(('\\n|\\r\\n'),tmp_string)[0])\n",
        "print(re.split(('\\n|\\r\\n'),tmp_string)[1])"
      ],
      "metadata": {
        "colab": {
          "base_uri": "https://localhost:8080/"
        },
        "id": "3iHNV0G_BOqY",
        "outputId": "92163c50-eed9-4f97-845b-03f07dca0409"
      },
      "execution_count": null,
      "outputs": [
        {
          "output_type": "stream",
          "name": "stdout",
          "text": [
            "BLT\n",
            "Old Oak Tap\n"
          ]
        }
      ]
    },
    {
      "cell_type": "markdown",
      "source": [
        "정규식을 사용하기 위해 re를 import했다.\n",
        "첫 번째 추출되는 내용은 메뉴, 두 번째로 추출되는 내용은 가게이름이다."
      ],
      "metadata": {
        "id": "PivRl5hMBt4X"
      }
    },
    {
      "cell_type": "code",
      "source": [
        "import urllib.parse\n",
        "\n",
        "rank=[]\n",
        "main_menu=[]\n",
        "cafe_name=[]\n",
        "url_add=[]\n",
        "\n",
        "list_soup = soup.find_all('div', 'sammy')\n",
        "\n",
        "for item in list_soup:\n",
        "  rank.append(item.find(class_='sammyRank').get_text())\n",
        "  tmp_string = item.find(class_='sammyListing').get_text()\n",
        "\n",
        "  main_menu.append(re.split(('\\n|\\r\\n'),tmp_string)[0])\n",
        "  cafe_name.append(re.split(('\\n|\\r\\n'),tmp_string)[1])\n",
        "\n",
        "  url_add.append(urllib.parse.urljoin(url_base, item.find('a')['href']))\n",
        "\n",
        "print(rank[:5])\n",
        "print(main_menu[:5])\n",
        "print(cafe_name[:5])\n",
        "print(url_add[:5])"
      ],
      "metadata": {
        "colab": {
          "base_uri": "https://localhost:8080/"
        },
        "id": "rrlU28htB57g",
        "outputId": "4d7cdc1c-7a77-4876-f2f4-3e75a857689c"
      },
      "execution_count": null,
      "outputs": [
        {
          "output_type": "stream",
          "name": "stdout",
          "text": [
            "['1', '2', '3', '4', '5']\n",
            "['BLT', 'Fried Bologna', 'Woodland Mushroom', 'Roast Beef', 'PB&L']\n",
            "['Old Oak Tap', 'Au Cheval', 'Xoco', 'Al’s Deli', 'Publican Quality Meats']\n",
            "['https://www.chicagomag.com/Chicago-Magazine/November-2012/Best-Sandwiches-in-Chicago-Old-Oak-Tap-BLT/', 'https://www.chicagomag.com/Chicago-Magazine/November-2012/Best-Sandwiches-in-Chicago-Au-Cheval-Fried-Bologna/', 'https://www.chicagomag.com/Chicago-Magazine/November-2012/Best-Sandwiches-in-Chicago-Xoco-Woodland-Mushroom/', 'https://www.chicagomag.com/Chicago-Magazine/November-2012/Best-Sandwiches-in-Chicago-Als-Deli-Roast-Beef/', 'https://www.chicagomag.com/Chicago-Magazine/November-2012/Best-Sandwiches-in-Chicago-Publican-Quality-Meats-PB-L/']\n"
          ]
        }
      ]
    },
    {
      "cell_type": "code",
      "source": [
        "len(rank), len(main_menu), len(cafe_name), len(url_add)\n"
      ],
      "metadata": {
        "colab": {
          "base_uri": "https://localhost:8080/"
        },
        "id": "YLTe835_DHXe",
        "outputId": "aba49154-d7ff-4c87-8c02-960b9aeebccb"
      },
      "execution_count": null,
      "outputs": [
        {
          "output_type": "execute_result",
          "data": {
            "text/plain": [
              "(50, 50, 50, 50)"
            ]
          },
          "metadata": {},
          "execution_count": 12
        }
      ]
    },
    {
      "cell_type": "markdown",
      "source": [
        "모두 각각 다 저장이 잘 되었음을 알 수 있다."
      ],
      "metadata": {
        "id": "sGk98hq3Da4x"
      }
    },
    {
      "cell_type": "code",
      "source": [
        "import pandas as pd\n",
        "\n",
        "data = {'Rank':rank, 'Cafe':cafe_name, 'Menu':main_menu, 'URL':url_add}\n",
        "df = pd.DataFrame(data)\n",
        "df.head()"
      ],
      "metadata": {
        "colab": {
          "base_uri": "https://localhost:8080/",
          "height": 206
        },
        "id": "hvdV29QfDdum",
        "outputId": "ec53f25c-139d-4ced-a2bb-e527b517f3b7"
      },
      "execution_count": null,
      "outputs": [
        {
          "output_type": "execute_result",
          "data": {
            "text/plain": [
              "  Rank                    Cafe               Menu  \\\n",
              "0    1             Old Oak Tap                BLT   \n",
              "1    2               Au Cheval      Fried Bologna   \n",
              "2    3                    Xoco  Woodland Mushroom   \n",
              "3    4               Al’s Deli         Roast Beef   \n",
              "4    5  Publican Quality Meats               PB&L   \n",
              "\n",
              "                                                 URL  \n",
              "0  https://www.chicagomag.com/Chicago-Magazine/No...  \n",
              "1  https://www.chicagomag.com/Chicago-Magazine/No...  \n",
              "2  https://www.chicagomag.com/Chicago-Magazine/No...  \n",
              "3  https://www.chicagomag.com/Chicago-Magazine/No...  \n",
              "4  https://www.chicagomag.com/Chicago-Magazine/No...  "
            ],
            "text/html": [
              "\n",
              "  <div id=\"df-bd7d96ce-2597-4a51-bbb2-0b36471927db\">\n",
              "    <div class=\"colab-df-container\">\n",
              "      <div>\n",
              "<style scoped>\n",
              "    .dataframe tbody tr th:only-of-type {\n",
              "        vertical-align: middle;\n",
              "    }\n",
              "\n",
              "    .dataframe tbody tr th {\n",
              "        vertical-align: top;\n",
              "    }\n",
              "\n",
              "    .dataframe thead th {\n",
              "        text-align: right;\n",
              "    }\n",
              "</style>\n",
              "<table border=\"1\" class=\"dataframe\">\n",
              "  <thead>\n",
              "    <tr style=\"text-align: right;\">\n",
              "      <th></th>\n",
              "      <th>Rank</th>\n",
              "      <th>Cafe</th>\n",
              "      <th>Menu</th>\n",
              "      <th>URL</th>\n",
              "    </tr>\n",
              "  </thead>\n",
              "  <tbody>\n",
              "    <tr>\n",
              "      <th>0</th>\n",
              "      <td>1</td>\n",
              "      <td>Old Oak Tap</td>\n",
              "      <td>BLT</td>\n",
              "      <td>https://www.chicagomag.com/Chicago-Magazine/No...</td>\n",
              "    </tr>\n",
              "    <tr>\n",
              "      <th>1</th>\n",
              "      <td>2</td>\n",
              "      <td>Au Cheval</td>\n",
              "      <td>Fried Bologna</td>\n",
              "      <td>https://www.chicagomag.com/Chicago-Magazine/No...</td>\n",
              "    </tr>\n",
              "    <tr>\n",
              "      <th>2</th>\n",
              "      <td>3</td>\n",
              "      <td>Xoco</td>\n",
              "      <td>Woodland Mushroom</td>\n",
              "      <td>https://www.chicagomag.com/Chicago-Magazine/No...</td>\n",
              "    </tr>\n",
              "    <tr>\n",
              "      <th>3</th>\n",
              "      <td>4</td>\n",
              "      <td>Al’s Deli</td>\n",
              "      <td>Roast Beef</td>\n",
              "      <td>https://www.chicagomag.com/Chicago-Magazine/No...</td>\n",
              "    </tr>\n",
              "    <tr>\n",
              "      <th>4</th>\n",
              "      <td>5</td>\n",
              "      <td>Publican Quality Meats</td>\n",
              "      <td>PB&amp;L</td>\n",
              "      <td>https://www.chicagomag.com/Chicago-Magazine/No...</td>\n",
              "    </tr>\n",
              "  </tbody>\n",
              "</table>\n",
              "</div>\n",
              "      <button class=\"colab-df-convert\" onclick=\"convertToInteractive('df-bd7d96ce-2597-4a51-bbb2-0b36471927db')\"\n",
              "              title=\"Convert this dataframe to an interactive table.\"\n",
              "              style=\"display:none;\">\n",
              "        \n",
              "  <svg xmlns=\"http://www.w3.org/2000/svg\" height=\"24px\"viewBox=\"0 0 24 24\"\n",
              "       width=\"24px\">\n",
              "    <path d=\"M0 0h24v24H0V0z\" fill=\"none\"/>\n",
              "    <path d=\"M18.56 5.44l.94 2.06.94-2.06 2.06-.94-2.06-.94-.94-2.06-.94 2.06-2.06.94zm-11 1L8.5 8.5l.94-2.06 2.06-.94-2.06-.94L8.5 2.5l-.94 2.06-2.06.94zm10 10l.94 2.06.94-2.06 2.06-.94-2.06-.94-.94-2.06-.94 2.06-2.06.94z\"/><path d=\"M17.41 7.96l-1.37-1.37c-.4-.4-.92-.59-1.43-.59-.52 0-1.04.2-1.43.59L10.3 9.45l-7.72 7.72c-.78.78-.78 2.05 0 2.83L4 21.41c.39.39.9.59 1.41.59.51 0 1.02-.2 1.41-.59l7.78-7.78 2.81-2.81c.8-.78.8-2.07 0-2.86zM5.41 20L4 18.59l7.72-7.72 1.47 1.35L5.41 20z\"/>\n",
              "  </svg>\n",
              "      </button>\n",
              "      \n",
              "  <style>\n",
              "    .colab-df-container {\n",
              "      display:flex;\n",
              "      flex-wrap:wrap;\n",
              "      gap: 12px;\n",
              "    }\n",
              "\n",
              "    .colab-df-convert {\n",
              "      background-color: #E8F0FE;\n",
              "      border: none;\n",
              "      border-radius: 50%;\n",
              "      cursor: pointer;\n",
              "      display: none;\n",
              "      fill: #1967D2;\n",
              "      height: 32px;\n",
              "      padding: 0 0 0 0;\n",
              "      width: 32px;\n",
              "    }\n",
              "\n",
              "    .colab-df-convert:hover {\n",
              "      background-color: #E2EBFA;\n",
              "      box-shadow: 0px 1px 2px rgba(60, 64, 67, 0.3), 0px 1px 3px 1px rgba(60, 64, 67, 0.15);\n",
              "      fill: #174EA6;\n",
              "    }\n",
              "\n",
              "    [theme=dark] .colab-df-convert {\n",
              "      background-color: #3B4455;\n",
              "      fill: #D2E3FC;\n",
              "    }\n",
              "\n",
              "    [theme=dark] .colab-df-convert:hover {\n",
              "      background-color: #434B5C;\n",
              "      box-shadow: 0px 1px 3px 1px rgba(0, 0, 0, 0.15);\n",
              "      filter: drop-shadow(0px 1px 2px rgba(0, 0, 0, 0.3));\n",
              "      fill: #FFFFFF;\n",
              "    }\n",
              "  </style>\n",
              "\n",
              "      <script>\n",
              "        const buttonEl =\n",
              "          document.querySelector('#df-bd7d96ce-2597-4a51-bbb2-0b36471927db button.colab-df-convert');\n",
              "        buttonEl.style.display =\n",
              "          google.colab.kernel.accessAllowed ? 'block' : 'none';\n",
              "\n",
              "        async function convertToInteractive(key) {\n",
              "          const element = document.querySelector('#df-bd7d96ce-2597-4a51-bbb2-0b36471927db');\n",
              "          const dataTable =\n",
              "            await google.colab.kernel.invokeFunction('convertToInteractive',\n",
              "                                                     [key], {});\n",
              "          if (!dataTable) return;\n",
              "\n",
              "          const docLinkHtml = 'Like what you see? Visit the ' +\n",
              "            '<a target=\"_blank\" href=https://colab.research.google.com/notebooks/data_table.ipynb>data table notebook</a>'\n",
              "            + ' to learn more about interactive tables.';\n",
              "          element.innerHTML = '';\n",
              "          dataTable['output_type'] = 'display_data';\n",
              "          await google.colab.output.renderOutput(dataTable, element);\n",
              "          const docLink = document.createElement('div');\n",
              "          docLink.innerHTML = docLinkHtml;\n",
              "          element.appendChild(docLink);\n",
              "        }\n",
              "      </script>\n",
              "    </div>\n",
              "  </div>\n",
              "  "
            ]
          },
          "metadata": {},
          "execution_count": 13
        }
      ]
    },
    {
      "cell_type": "markdown",
      "source": [
        "### 3. 다수의 웹 페이지에 자동으로 접근해서 원하는 정보 가져오기"
      ],
      "metadata": {
        "id": "lTQFUGMaEBoh"
      }
    },
    {
      "cell_type": "code",
      "source": [
        "df['URL'][0]"
      ],
      "metadata": {
        "colab": {
          "base_uri": "https://localhost:8080/",
          "height": 35
        },
        "id": "FUK1CfWaDw2l",
        "outputId": "acb98af4-d481-4e49-cf34-fe7838ede64d"
      },
      "execution_count": null,
      "outputs": [
        {
          "output_type": "execute_result",
          "data": {
            "text/plain": [
              "'https://www.chicagomag.com/Chicago-Magazine/November-2012/Best-Sandwiches-in-Chicago-Old-Oak-Tap-BLT/'"
            ],
            "application/vnd.google.colaboratory.intrinsic+json": {
              "type": "string"
            }
          },
          "metadata": {},
          "execution_count": 14
        }
      ]
    },
    {
      "cell_type": "code",
      "source": [
        "req_new = Request(df['URL'][0], headers={'User-Agent':'Mozilla/5.0'})\n",
        "html_new = urlopen(req_new)\n",
        "\n",
        "soup_tmp_new = BeautifulSoup(html_new, \"html.parser\")"
      ],
      "metadata": {
        "id": "5loYEX2MEYWx"
      },
      "execution_count": null,
      "outputs": []
    },
    {
      "cell_type": "code",
      "source": [
        "print(soup_tmp_new.find('p', 'addy'))"
      ],
      "metadata": {
        "colab": {
          "base_uri": "https://localhost:8080/"
        },
        "id": "Bsxch5lXEvCP",
        "outputId": "ea8af334-fba3-47f0-f6af-20d2b179870f"
      },
      "execution_count": null,
      "outputs": [
        {
          "output_type": "stream",
          "name": "stdout",
          "text": [
            "<p class=\"addy\">\n",
            "<em>$10. 2109 W. Chicago Ave., 773-772-0406, <a href=\"http://www.theoldoaktap.com/\">theoldoaktap.com</a></em></p>\n"
          ]
        }
      ]
    },
    {
      "cell_type": "code",
      "source": [
        "price_tmp = soup_tmp_new.find('p', 'addy').get_text()\n",
        "price_tmp"
      ],
      "metadata": {
        "colab": {
          "base_uri": "https://localhost:8080/",
          "height": 35
        },
        "id": "GKeKq93pEzSB",
        "outputId": "7f91f3eb-662e-4a81-8691-577c6e00ae5a"
      },
      "execution_count": null,
      "outputs": [
        {
          "output_type": "execute_result",
          "data": {
            "text/plain": [
              "'\\n$10. 2109 W. Chicago Ave., 773-772-0406, theoldoaktap.com'"
            ],
            "application/vnd.google.colaboratory.intrinsic+json": {
              "type": "string"
            }
          },
          "metadata": {},
          "execution_count": 17
        }
      ]
    },
    {
      "cell_type": "code",
      "source": [
        "price_tmp.split()"
      ],
      "metadata": {
        "colab": {
          "base_uri": "https://localhost:8080/"
        },
        "id": "a_zoRldPE7BG",
        "outputId": "66ebb359-a6e4-48dd-cf87-0964a9462eaf"
      },
      "execution_count": null,
      "outputs": [
        {
          "output_type": "execute_result",
          "data": {
            "text/plain": [
              "['$10.', '2109', 'W.', 'Chicago', 'Ave.,', '773-772-0406,', 'theoldoaktap.com']"
            ]
          },
          "metadata": {},
          "execution_count": 18
        }
      ]
    },
    {
      "cell_type": "code",
      "source": [
        "price_tmp.split()[0]"
      ],
      "metadata": {
        "colab": {
          "base_uri": "https://localhost:8080/",
          "height": 35
        },
        "id": "4rIDCt5cE-Ep",
        "outputId": "a9d17b66-6d0b-47ef-f2a3-bfe140021434"
      },
      "execution_count": null,
      "outputs": [
        {
          "output_type": "execute_result",
          "data": {
            "text/plain": [
              "'$10.'"
            ],
            "application/vnd.google.colaboratory.intrinsic+json": {
              "type": "string"
            }
          },
          "metadata": {},
          "execution_count": 19
        }
      ]
    },
    {
      "cell_type": "code",
      "source": [
        "price_tmp.split()[0][:-1]"
      ],
      "metadata": {
        "colab": {
          "base_uri": "https://localhost:8080/",
          "height": 35
        },
        "id": "B1Pe7OPMFCLO",
        "outputId": "cb03a9fc-66cb-41c2-f924-a1a783d11805"
      },
      "execution_count": null,
      "outputs": [
        {
          "output_type": "execute_result",
          "data": {
            "text/plain": [
              "'$10'"
            ],
            "application/vnd.google.colaboratory.intrinsic+json": {
              "type": "string"
            }
          },
          "metadata": {},
          "execution_count": 20
        }
      ]
    },
    {
      "cell_type": "code",
      "source": [
        "' '.join(price_tmp.split()[1:-2])"
      ],
      "metadata": {
        "colab": {
          "base_uri": "https://localhost:8080/",
          "height": 35
        },
        "id": "oqeeEY2aFHPY",
        "outputId": "37ad3954-f6c0-4294-945e-c6b2982bdc38"
      },
      "execution_count": null,
      "outputs": [
        {
          "output_type": "execute_result",
          "data": {
            "text/plain": [
              "'2109 W. Chicago Ave.,'"
            ],
            "application/vnd.google.colaboratory.intrinsic+json": {
              "type": "string"
            }
          },
          "metadata": {},
          "execution_count": 21
        }
      ]
    },
    {
      "cell_type": "code",
      "source": [
        "from tqdm import tqdm_notebook\n",
        "\n",
        "price = []\n",
        "address= []\n",
        "\n",
        "for n in tqdm_notebook(df.index):\n",
        "  req_new2 = Request(df['URL'][n], headers={'User-Agent':'Mozilla/5.0'})\n",
        "  html_new2 = urlopen(req_new2)\n",
        "  soup_tmp_new2 = BeautifulSoup(html_new2, 'lxml')\n",
        "  \n",
        "  gettings = soup_tmp_new2.find('p', 'addy').get_text()\n",
        "\n",
        "  price.append(gettings.split()[0][:-1])\n",
        "  address.append(' '.join(gettings.split()[1:-2]))\n",
        "\n",
        "print(price)\n",
        "print(address)"
      ],
      "metadata": {
        "colab": {
          "base_uri": "https://localhost:8080/",
          "height": 160,
          "referenced_widgets": [
            "218bfa83091243d4b0d114e4ce8de3ce",
            "6f7ca48cda264dac8e2cb6851d19b741",
            "a08cc2f21bdc4502890f11fd5b8f4df5",
            "78f69f393df842f9aa630d61f7974865",
            "8a8b3ddf25514c6bbb704090dc329e2b",
            "7121b3af6e894937ac59e4ca36593c96",
            "29053c3d4480416181a9951cbea9f211",
            "65a507f85e5c4d11b0c4ffdbd22b00b1",
            "4e229bc74e004831a3b340587347d8fc",
            "73ba1aa2203a4a2fb09f10969f35d9db",
            "20fdcb23dc2141e69b62167771508f01"
          ]
        },
        "id": "mQWBKTutFM70",
        "outputId": "f517cae0-86be-420f-dbc0-662101ff7f92"
      },
      "execution_count": null,
      "outputs": [
        {
          "output_type": "stream",
          "name": "stderr",
          "text": [
            "/usr/local/lib/python3.7/dist-packages/ipykernel_launcher.py:6: TqdmDeprecationWarning: This function will be removed in tqdm==5.0.0\n",
            "Please use `tqdm.notebook.tqdm` instead of `tqdm.tqdm_notebook`\n",
            "  \n"
          ]
        },
        {
          "output_type": "display_data",
          "data": {
            "text/plain": [
              "  0%|          | 0/50 [00:00<?, ?it/s]"
            ],
            "application/vnd.jupyter.widget-view+json": {
              "version_major": 2,
              "version_minor": 0,
              "model_id": "218bfa83091243d4b0d114e4ce8de3ce"
            }
          },
          "metadata": {}
        },
        {
          "output_type": "stream",
          "name": "stdout",
          "text": [
            "['$10', '$9', '$9.50', '$9.40', '$10', '$7.25', '$16', '$10', '$9', '$17', '$11', '$5.49', '$14', '$10', '$13', '$4.50', '$11.95', '$11.50', '$6.25', '$15', '$5', '$6', '$8', '$5.99', '$7.52', '$11.95', '$7.50', '$12.95', '$7', '$21', '$9.79', '$9.75', '$13', '$7.95', '$9', '$9', '$8', '$8', '$7', '$6', '$7.25', '$11', '$6', '$9', '$5.49', '$8', '$6.50', '$7.50', '$8.75', '$6.85']\n",
            "['2109 W. Chicago Ave.,', '800 W. Randolph St.,', '445 N. Clark St.,', '914 Noyes St., Evanston,', '825 W. Fulton Mkt.,', '100 E. Walton', '1639 S. Wabash Ave.,', '2211 W. North Ave.,', '3619 W. North Ave.,', '3267 S. Halsted St.,', '2537 N. Kedzie Blvd.,', 'Multiple', '3124 N. Broadway,', '3455 N. Southport Ave.,', '2657 N. Kedzie Ave.,', '1120 W. Grand Ave.,', '1141 S. Jefferson St.,', '333 E. Benton Pl.,', '1411 N. Wells St.,', '1747 N. Damen Ave.,', '3209 W. Irving Park', 'Multiple', '5347 N. Clark St.,', '2954 W. Irving Park Rd.,', 'Multiple', '191 Skokie Valley Rd., Highland Park,', 'Multiple', '1818 W. Wilson Ave.,', '2517 W. Division St.,', '218 W. Kinzie', 'Multiple', '1547 N. Wells St.,', '415 N. Milwaukee Ave.,', '1840 N. Damen Ave.,', '1220 W. Webster Ave.,', '5357 N. Ashland Ave.,', '1834 W. Montrose Ave.,', '615 N. State St.,', 'Multiple', '241 N. York Rd., Elmhurst,', '1323 E. 57th St.,', '655 Forest Ave., Lake Forest,', 'Hotel Lincoln, 1816 N. Clark St.,', '100 S. Marion St., Oak Park,', '26 E. Congress Pkwy.,', '2018 W. Chicago Ave.,', '25 E. Delaware Pl.,', '416 N. York St., Elmhurst,', '65 E. Washington St.,', '3351 N. Broadway,']\n"
          ]
        }
      ]
    },
    {
      "cell_type": "code",
      "source": [
        "len(price), len(address), len(df)"
      ],
      "metadata": {
        "colab": {
          "base_uri": "https://localhost:8080/"
        },
        "id": "jJ_WAncZGWp4",
        "outputId": "d4f7659d-81b5-4177-80ab-8a1a4dd33039"
      },
      "execution_count": null,
      "outputs": [
        {
          "output_type": "execute_result",
          "data": {
            "text/plain": [
              "(50, 50, 50)"
            ]
          },
          "metadata": {},
          "execution_count": 23
        }
      ]
    },
    {
      "cell_type": "markdown",
      "source": [
        "가격과 주소 정보가 잘 저장되었음을 확인할 수 있다."
      ],
      "metadata": {
        "id": "06oPl9OwF5Bx"
      }
    },
    {
      "cell_type": "code",
      "source": [
        "df = df.assign(Price = price, Address=address)\n",
        "\n",
        "df.set_index('Rank', inplace=True)\n",
        "df.head()"
      ],
      "metadata": {
        "colab": {
          "base_uri": "https://localhost:8080/",
          "height": 237
        },
        "id": "REu-8c8EGaEW",
        "outputId": "4c2de589-def5-40af-c075-6dac6b292dd5"
      },
      "execution_count": null,
      "outputs": [
        {
          "output_type": "execute_result",
          "data": {
            "text/plain": [
              "                        Cafe               Menu  \\\n",
              "Rank                                              \n",
              "1                Old Oak Tap                BLT   \n",
              "2                  Au Cheval      Fried Bologna   \n",
              "3                       Xoco  Woodland Mushroom   \n",
              "4                  Al’s Deli         Roast Beef   \n",
              "5     Publican Quality Meats               PB&L   \n",
              "\n",
              "                                                    URL  Price  \\\n",
              "Rank                                                             \n",
              "1     https://www.chicagomag.com/Chicago-Magazine/No...    $10   \n",
              "2     https://www.chicagomag.com/Chicago-Magazine/No...     $9   \n",
              "3     https://www.chicagomag.com/Chicago-Magazine/No...  $9.50   \n",
              "4     https://www.chicagomag.com/Chicago-Magazine/No...  $9.40   \n",
              "5     https://www.chicagomag.com/Chicago-Magazine/No...    $10   \n",
              "\n",
              "                       Address  \n",
              "Rank                            \n",
              "1        2109 W. Chicago Ave.,  \n",
              "2         800 W. Randolph St.,  \n",
              "3            445 N. Clark St.,  \n",
              "4     914 Noyes St., Evanston,  \n",
              "5          825 W. Fulton Mkt.,  "
            ],
            "text/html": [
              "\n",
              "  <div id=\"df-9c9fa11f-6bec-408b-bc60-fca5bae67ed3\">\n",
              "    <div class=\"colab-df-container\">\n",
              "      <div>\n",
              "<style scoped>\n",
              "    .dataframe tbody tr th:only-of-type {\n",
              "        vertical-align: middle;\n",
              "    }\n",
              "\n",
              "    .dataframe tbody tr th {\n",
              "        vertical-align: top;\n",
              "    }\n",
              "\n",
              "    .dataframe thead th {\n",
              "        text-align: right;\n",
              "    }\n",
              "</style>\n",
              "<table border=\"1\" class=\"dataframe\">\n",
              "  <thead>\n",
              "    <tr style=\"text-align: right;\">\n",
              "      <th></th>\n",
              "      <th>Cafe</th>\n",
              "      <th>Menu</th>\n",
              "      <th>URL</th>\n",
              "      <th>Price</th>\n",
              "      <th>Address</th>\n",
              "    </tr>\n",
              "    <tr>\n",
              "      <th>Rank</th>\n",
              "      <th></th>\n",
              "      <th></th>\n",
              "      <th></th>\n",
              "      <th></th>\n",
              "      <th></th>\n",
              "    </tr>\n",
              "  </thead>\n",
              "  <tbody>\n",
              "    <tr>\n",
              "      <th>1</th>\n",
              "      <td>Old Oak Tap</td>\n",
              "      <td>BLT</td>\n",
              "      <td>https://www.chicagomag.com/Chicago-Magazine/No...</td>\n",
              "      <td>$10</td>\n",
              "      <td>2109 W. Chicago Ave.,</td>\n",
              "    </tr>\n",
              "    <tr>\n",
              "      <th>2</th>\n",
              "      <td>Au Cheval</td>\n",
              "      <td>Fried Bologna</td>\n",
              "      <td>https://www.chicagomag.com/Chicago-Magazine/No...</td>\n",
              "      <td>$9</td>\n",
              "      <td>800 W. Randolph St.,</td>\n",
              "    </tr>\n",
              "    <tr>\n",
              "      <th>3</th>\n",
              "      <td>Xoco</td>\n",
              "      <td>Woodland Mushroom</td>\n",
              "      <td>https://www.chicagomag.com/Chicago-Magazine/No...</td>\n",
              "      <td>$9.50</td>\n",
              "      <td>445 N. Clark St.,</td>\n",
              "    </tr>\n",
              "    <tr>\n",
              "      <th>4</th>\n",
              "      <td>Al’s Deli</td>\n",
              "      <td>Roast Beef</td>\n",
              "      <td>https://www.chicagomag.com/Chicago-Magazine/No...</td>\n",
              "      <td>$9.40</td>\n",
              "      <td>914 Noyes St., Evanston,</td>\n",
              "    </tr>\n",
              "    <tr>\n",
              "      <th>5</th>\n",
              "      <td>Publican Quality Meats</td>\n",
              "      <td>PB&amp;L</td>\n",
              "      <td>https://www.chicagomag.com/Chicago-Magazine/No...</td>\n",
              "      <td>$10</td>\n",
              "      <td>825 W. Fulton Mkt.,</td>\n",
              "    </tr>\n",
              "  </tbody>\n",
              "</table>\n",
              "</div>\n",
              "      <button class=\"colab-df-convert\" onclick=\"convertToInteractive('df-9c9fa11f-6bec-408b-bc60-fca5bae67ed3')\"\n",
              "              title=\"Convert this dataframe to an interactive table.\"\n",
              "              style=\"display:none;\">\n",
              "        \n",
              "  <svg xmlns=\"http://www.w3.org/2000/svg\" height=\"24px\"viewBox=\"0 0 24 24\"\n",
              "       width=\"24px\">\n",
              "    <path d=\"M0 0h24v24H0V0z\" fill=\"none\"/>\n",
              "    <path d=\"M18.56 5.44l.94 2.06.94-2.06 2.06-.94-2.06-.94-.94-2.06-.94 2.06-2.06.94zm-11 1L8.5 8.5l.94-2.06 2.06-.94-2.06-.94L8.5 2.5l-.94 2.06-2.06.94zm10 10l.94 2.06.94-2.06 2.06-.94-2.06-.94-.94-2.06-.94 2.06-2.06.94z\"/><path d=\"M17.41 7.96l-1.37-1.37c-.4-.4-.92-.59-1.43-.59-.52 0-1.04.2-1.43.59L10.3 9.45l-7.72 7.72c-.78.78-.78 2.05 0 2.83L4 21.41c.39.39.9.59 1.41.59.51 0 1.02-.2 1.41-.59l7.78-7.78 2.81-2.81c.8-.78.8-2.07 0-2.86zM5.41 20L4 18.59l7.72-7.72 1.47 1.35L5.41 20z\"/>\n",
              "  </svg>\n",
              "      </button>\n",
              "      \n",
              "  <style>\n",
              "    .colab-df-container {\n",
              "      display:flex;\n",
              "      flex-wrap:wrap;\n",
              "      gap: 12px;\n",
              "    }\n",
              "\n",
              "    .colab-df-convert {\n",
              "      background-color: #E8F0FE;\n",
              "      border: none;\n",
              "      border-radius: 50%;\n",
              "      cursor: pointer;\n",
              "      display: none;\n",
              "      fill: #1967D2;\n",
              "      height: 32px;\n",
              "      padding: 0 0 0 0;\n",
              "      width: 32px;\n",
              "    }\n",
              "\n",
              "    .colab-df-convert:hover {\n",
              "      background-color: #E2EBFA;\n",
              "      box-shadow: 0px 1px 2px rgba(60, 64, 67, 0.3), 0px 1px 3px 1px rgba(60, 64, 67, 0.15);\n",
              "      fill: #174EA6;\n",
              "    }\n",
              "\n",
              "    [theme=dark] .colab-df-convert {\n",
              "      background-color: #3B4455;\n",
              "      fill: #D2E3FC;\n",
              "    }\n",
              "\n",
              "    [theme=dark] .colab-df-convert:hover {\n",
              "      background-color: #434B5C;\n",
              "      box-shadow: 0px 1px 3px 1px rgba(0, 0, 0, 0.15);\n",
              "      filter: drop-shadow(0px 1px 2px rgba(0, 0, 0, 0.3));\n",
              "      fill: #FFFFFF;\n",
              "    }\n",
              "  </style>\n",
              "\n",
              "      <script>\n",
              "        const buttonEl =\n",
              "          document.querySelector('#df-9c9fa11f-6bec-408b-bc60-fca5bae67ed3 button.colab-df-convert');\n",
              "        buttonEl.style.display =\n",
              "          google.colab.kernel.accessAllowed ? 'block' : 'none';\n",
              "\n",
              "        async function convertToInteractive(key) {\n",
              "          const element = document.querySelector('#df-9c9fa11f-6bec-408b-bc60-fca5bae67ed3');\n",
              "          const dataTable =\n",
              "            await google.colab.kernel.invokeFunction('convertToInteractive',\n",
              "                                                     [key], {});\n",
              "          if (!dataTable) return;\n",
              "\n",
              "          const docLinkHtml = 'Like what you see? Visit the ' +\n",
              "            '<a target=\"_blank\" href=https://colab.research.google.com/notebooks/data_table.ipynb>data table notebook</a>'\n",
              "            + ' to learn more about interactive tables.';\n",
              "          element.innerHTML = '';\n",
              "          dataTable['output_type'] = 'display_data';\n",
              "          await google.colab.output.renderOutput(dataTable, element);\n",
              "          const docLink = document.createElement('div');\n",
              "          docLink.innerHTML = docLinkHtml;\n",
              "          element.appendChild(docLink);\n",
              "        }\n",
              "      </script>\n",
              "    </div>\n",
              "  </div>\n",
              "  "
            ]
          },
          "metadata": {},
          "execution_count": 24
        }
      ]
    },
    {
      "cell_type": "markdown",
      "source": [
        "### 4. 맛집 위치를 지도에 표기하기"
      ],
      "metadata": {
        "id": "5hz5p30yPOsP"
      }
    },
    {
      "cell_type": "code",
      "source": [
        "import folium\n",
        "import googlemaps\n",
        "import numpy as np\n",
        "\n",
        "gmaps = googlemaps.Client(key=gmaps_key)"
      ],
      "metadata": {
        "id": "i0vUC4KvK-UH"
      },
      "execution_count": null,
      "outputs": []
    },
    {
      "cell_type": "code",
      "source": [
        "lat =[]\n",
        "lng =[]\n",
        "\n",
        "for n in tqdm_notebook(df.index):\n",
        "  if df['Address'][n] != \"Multiple\":\n",
        "    target_name = df['Address'][n] + ', '+'Chicago'\n",
        "    gmaps_output=gmaps.geocode(target_name)\n",
        "    location_output = gmaps_output[0].get('geometry')\n",
        "    lat.append(location_output['location']['lat'])\n",
        "    lng.append(location_output['location']['lng'])\n",
        "  else:\n",
        "    lat.append(np.nan)\n",
        "    lng.append(np.nan)"
      ],
      "metadata": {
        "colab": {
          "base_uri": "https://localhost:8080/",
          "height": 103,
          "referenced_widgets": [
            "f5aa2ac89e014be0b5cbb0ebf95c1f1c",
            "6fae4a33377c42748b24edeecc5a394b",
            "4a8bcbeda9be49a1a0e23b6372b0f10f",
            "c3832889f5004f3cae4bec4d39f2e041",
            "8c956433719444eb82a6ccbd0d1dc9d0",
            "4848ee5743f542f3ab42548443aa4e2e",
            "c81d20c6db064d0985d1bcf9c7e13454",
            "6185a4a779b543c8877763c2ed992377",
            "bb816cf8436a433baaade51e535b6903",
            "8010fba64c6f4600a09b88173bdda771",
            "c60d7860c88c4faca9f2588773f4b4c4"
          ]
        },
        "id": "KkHqnRHGrm_Z",
        "outputId": "59ebae22-a095-4635-9ba4-6d3489b839a7"
      },
      "execution_count": null,
      "outputs": [
        {
          "output_type": "stream",
          "name": "stderr",
          "text": [
            "/usr/local/lib/python3.7/dist-packages/ipykernel_launcher.py:4: TqdmDeprecationWarning: This function will be removed in tqdm==5.0.0\n",
            "Please use `tqdm.notebook.tqdm` instead of `tqdm.tqdm_notebook`\n",
            "  after removing the cwd from sys.path.\n"
          ]
        },
        {
          "output_type": "display_data",
          "data": {
            "text/plain": [
              "  0%|          | 0/50 [00:00<?, ?it/s]"
            ],
            "application/vnd.jupyter.widget-view+json": {
              "version_major": 2,
              "version_minor": 0,
              "model_id": "f5aa2ac89e014be0b5cbb0ebf95c1f1c"
            }
          },
          "metadata": {}
        }
      ]
    },
    {
      "cell_type": "code",
      "source": [
        "df['lat'] = lat\n",
        "df['lng'] = lng\n",
        "\n",
        "df.head()"
      ],
      "metadata": {
        "colab": {
          "base_uri": "https://localhost:8080/",
          "height": 237
        },
        "id": "i_VI7gdOtdy4",
        "outputId": "92e66376-6ae3-4027-aeb4-beac5e722aa1"
      },
      "execution_count": null,
      "outputs": [
        {
          "output_type": "execute_result",
          "data": {
            "text/plain": [
              "                        Cafe               Menu  \\\n",
              "Rank                                              \n",
              "1                Old Oak Tap                BLT   \n",
              "2                  Au Cheval      Fried Bologna   \n",
              "3                       Xoco  Woodland Mushroom   \n",
              "4                  Al’s Deli         Roast Beef   \n",
              "5     Publican Quality Meats               PB&L   \n",
              "\n",
              "                                                    URL  Price  \\\n",
              "Rank                                                             \n",
              "1     https://www.chicagomag.com/Chicago-Magazine/No...    $10   \n",
              "2     https://www.chicagomag.com/Chicago-Magazine/No...     $9   \n",
              "3     https://www.chicagomag.com/Chicago-Magazine/No...  $9.50   \n",
              "4     https://www.chicagomag.com/Chicago-Magazine/No...  $9.40   \n",
              "5     https://www.chicagomag.com/Chicago-Magazine/No...    $10   \n",
              "\n",
              "                       Address        lat        lng  \n",
              "Rank                                                  \n",
              "1        2109 W. Chicago Ave.,  41.895558 -87.679967  \n",
              "2         800 W. Randolph St.,  41.884639 -87.647590  \n",
              "3            445 N. Clark St.,  41.890523 -87.630783  \n",
              "4     914 Noyes St., Evanston,  42.058322 -87.683748  \n",
              "5          825 W. Fulton Mkt.,  41.886604 -87.648536  "
            ],
            "text/html": [
              "\n",
              "  <div id=\"df-ecc0e916-f2a9-453a-8223-4e66934d3e5a\">\n",
              "    <div class=\"colab-df-container\">\n",
              "      <div>\n",
              "<style scoped>\n",
              "    .dataframe tbody tr th:only-of-type {\n",
              "        vertical-align: middle;\n",
              "    }\n",
              "\n",
              "    .dataframe tbody tr th {\n",
              "        vertical-align: top;\n",
              "    }\n",
              "\n",
              "    .dataframe thead th {\n",
              "        text-align: right;\n",
              "    }\n",
              "</style>\n",
              "<table border=\"1\" class=\"dataframe\">\n",
              "  <thead>\n",
              "    <tr style=\"text-align: right;\">\n",
              "      <th></th>\n",
              "      <th>Cafe</th>\n",
              "      <th>Menu</th>\n",
              "      <th>URL</th>\n",
              "      <th>Price</th>\n",
              "      <th>Address</th>\n",
              "      <th>lat</th>\n",
              "      <th>lng</th>\n",
              "    </tr>\n",
              "    <tr>\n",
              "      <th>Rank</th>\n",
              "      <th></th>\n",
              "      <th></th>\n",
              "      <th></th>\n",
              "      <th></th>\n",
              "      <th></th>\n",
              "      <th></th>\n",
              "      <th></th>\n",
              "    </tr>\n",
              "  </thead>\n",
              "  <tbody>\n",
              "    <tr>\n",
              "      <th>1</th>\n",
              "      <td>Old Oak Tap</td>\n",
              "      <td>BLT</td>\n",
              "      <td>https://www.chicagomag.com/Chicago-Magazine/No...</td>\n",
              "      <td>$10</td>\n",
              "      <td>2109 W. Chicago Ave.,</td>\n",
              "      <td>41.895558</td>\n",
              "      <td>-87.679967</td>\n",
              "    </tr>\n",
              "    <tr>\n",
              "      <th>2</th>\n",
              "      <td>Au Cheval</td>\n",
              "      <td>Fried Bologna</td>\n",
              "      <td>https://www.chicagomag.com/Chicago-Magazine/No...</td>\n",
              "      <td>$9</td>\n",
              "      <td>800 W. Randolph St.,</td>\n",
              "      <td>41.884639</td>\n",
              "      <td>-87.647590</td>\n",
              "    </tr>\n",
              "    <tr>\n",
              "      <th>3</th>\n",
              "      <td>Xoco</td>\n",
              "      <td>Woodland Mushroom</td>\n",
              "      <td>https://www.chicagomag.com/Chicago-Magazine/No...</td>\n",
              "      <td>$9.50</td>\n",
              "      <td>445 N. Clark St.,</td>\n",
              "      <td>41.890523</td>\n",
              "      <td>-87.630783</td>\n",
              "    </tr>\n",
              "    <tr>\n",
              "      <th>4</th>\n",
              "      <td>Al’s Deli</td>\n",
              "      <td>Roast Beef</td>\n",
              "      <td>https://www.chicagomag.com/Chicago-Magazine/No...</td>\n",
              "      <td>$9.40</td>\n",
              "      <td>914 Noyes St., Evanston,</td>\n",
              "      <td>42.058322</td>\n",
              "      <td>-87.683748</td>\n",
              "    </tr>\n",
              "    <tr>\n",
              "      <th>5</th>\n",
              "      <td>Publican Quality Meats</td>\n",
              "      <td>PB&amp;L</td>\n",
              "      <td>https://www.chicagomag.com/Chicago-Magazine/No...</td>\n",
              "      <td>$10</td>\n",
              "      <td>825 W. Fulton Mkt.,</td>\n",
              "      <td>41.886604</td>\n",
              "      <td>-87.648536</td>\n",
              "    </tr>\n",
              "  </tbody>\n",
              "</table>\n",
              "</div>\n",
              "      <button class=\"colab-df-convert\" onclick=\"convertToInteractive('df-ecc0e916-f2a9-453a-8223-4e66934d3e5a')\"\n",
              "              title=\"Convert this dataframe to an interactive table.\"\n",
              "              style=\"display:none;\">\n",
              "        \n",
              "  <svg xmlns=\"http://www.w3.org/2000/svg\" height=\"24px\"viewBox=\"0 0 24 24\"\n",
              "       width=\"24px\">\n",
              "    <path d=\"M0 0h24v24H0V0z\" fill=\"none\"/>\n",
              "    <path d=\"M18.56 5.44l.94 2.06.94-2.06 2.06-.94-2.06-.94-.94-2.06-.94 2.06-2.06.94zm-11 1L8.5 8.5l.94-2.06 2.06-.94-2.06-.94L8.5 2.5l-.94 2.06-2.06.94zm10 10l.94 2.06.94-2.06 2.06-.94-2.06-.94-.94-2.06-.94 2.06-2.06.94z\"/><path d=\"M17.41 7.96l-1.37-1.37c-.4-.4-.92-.59-1.43-.59-.52 0-1.04.2-1.43.59L10.3 9.45l-7.72 7.72c-.78.78-.78 2.05 0 2.83L4 21.41c.39.39.9.59 1.41.59.51 0 1.02-.2 1.41-.59l7.78-7.78 2.81-2.81c.8-.78.8-2.07 0-2.86zM5.41 20L4 18.59l7.72-7.72 1.47 1.35L5.41 20z\"/>\n",
              "  </svg>\n",
              "      </button>\n",
              "      \n",
              "  <style>\n",
              "    .colab-df-container {\n",
              "      display:flex;\n",
              "      flex-wrap:wrap;\n",
              "      gap: 12px;\n",
              "    }\n",
              "\n",
              "    .colab-df-convert {\n",
              "      background-color: #E8F0FE;\n",
              "      border: none;\n",
              "      border-radius: 50%;\n",
              "      cursor: pointer;\n",
              "      display: none;\n",
              "      fill: #1967D2;\n",
              "      height: 32px;\n",
              "      padding: 0 0 0 0;\n",
              "      width: 32px;\n",
              "    }\n",
              "\n",
              "    .colab-df-convert:hover {\n",
              "      background-color: #E2EBFA;\n",
              "      box-shadow: 0px 1px 2px rgba(60, 64, 67, 0.3), 0px 1px 3px 1px rgba(60, 64, 67, 0.15);\n",
              "      fill: #174EA6;\n",
              "    }\n",
              "\n",
              "    [theme=dark] .colab-df-convert {\n",
              "      background-color: #3B4455;\n",
              "      fill: #D2E3FC;\n",
              "    }\n",
              "\n",
              "    [theme=dark] .colab-df-convert:hover {\n",
              "      background-color: #434B5C;\n",
              "      box-shadow: 0px 1px 3px 1px rgba(0, 0, 0, 0.15);\n",
              "      filter: drop-shadow(0px 1px 2px rgba(0, 0, 0, 0.3));\n",
              "      fill: #FFFFFF;\n",
              "    }\n",
              "  </style>\n",
              "\n",
              "      <script>\n",
              "        const buttonEl =\n",
              "          document.querySelector('#df-ecc0e916-f2a9-453a-8223-4e66934d3e5a button.colab-df-convert');\n",
              "        buttonEl.style.display =\n",
              "          google.colab.kernel.accessAllowed ? 'block' : 'none';\n",
              "\n",
              "        async function convertToInteractive(key) {\n",
              "          const element = document.querySelector('#df-ecc0e916-f2a9-453a-8223-4e66934d3e5a');\n",
              "          const dataTable =\n",
              "            await google.colab.kernel.invokeFunction('convertToInteractive',\n",
              "                                                     [key], {});\n",
              "          if (!dataTable) return;\n",
              "\n",
              "          const docLinkHtml = 'Like what you see? Visit the ' +\n",
              "            '<a target=\"_blank\" href=https://colab.research.google.com/notebooks/data_table.ipynb>data table notebook</a>'\n",
              "            + ' to learn more about interactive tables.';\n",
              "          element.innerHTML = '';\n",
              "          dataTable['output_type'] = 'display_data';\n",
              "          await google.colab.output.renderOutput(dataTable, element);\n",
              "          const docLink = document.createElement('div');\n",
              "          docLink.innerHTML = docLinkHtml;\n",
              "          element.appendChild(docLink);\n",
              "        }\n",
              "      </script>\n",
              "    </div>\n",
              "  </div>\n",
              "  "
            ]
          },
          "metadata": {},
          "execution_count": 34
        }
      ]
    },
    {
      "cell_type": "code",
      "source": [
        "mapping = folium.Map(location=[df['lat'].mean(), df['lng'].mean()], zoom_start=11)\n",
        "folium.Marker([df['lat'].mean(), df['lng'].mean()], popup='center').add_to(mapping)\n",
        "\n",
        "mapping"
      ],
      "metadata": {
        "colab": {
          "base_uri": "https://localhost:8080/",
          "height": 866
        },
        "id": "mgM110FUslI5",
        "outputId": "2722f948-620e-441d-c2b7-37a69ad829d2"
      },
      "execution_count": null,
      "outputs": [
        {
          "output_type": "execute_result",
          "data": {
            "text/plain": [
              "<folium.folium.Map at 0x7fa64979a6d0>"
            ],
            "text/html": [
              "<div style=\"width:100%;\"><div style=\"position:relative;width:100%;height:0;padding-bottom:60%;\"><span style=\"color:#565656\">Make this Notebook Trusted to load map: File -> Trust Notebook</span><iframe srcdoc=\"&lt;!DOCTYPE html&gt;\n",
              "&lt;head&gt;    \n",
              "    &lt;meta http-equiv=&quot;content-type&quot; content=&quot;text/html; charset=UTF-8&quot; /&gt;\n",
              "    \n",
              "        &lt;script&gt;\n",
              "            L_NO_TOUCH = false;\n",
              "            L_DISABLE_3D = false;\n",
              "        &lt;/script&gt;\n",
              "    \n",
              "    &lt;style&gt;html, body {width: 100%;height: 100%;margin: 0;padding: 0;}&lt;/style&gt;\n",
              "    &lt;style&gt;#map {position:absolute;top:0;bottom:0;right:0;left:0;}&lt;/style&gt;\n",
              "    &lt;script src=&quot;https://cdn.jsdelivr.net/npm/leaflet@1.6.0/dist/leaflet.js&quot;&gt;&lt;/script&gt;\n",
              "    &lt;script src=&quot;https://code.jquery.com/jquery-1.12.4.min.js&quot;&gt;&lt;/script&gt;\n",
              "    &lt;script src=&quot;https://maxcdn.bootstrapcdn.com/bootstrap/3.2.0/js/bootstrap.min.js&quot;&gt;&lt;/script&gt;\n",
              "    &lt;script src=&quot;https://cdnjs.cloudflare.com/ajax/libs/Leaflet.awesome-markers/2.0.2/leaflet.awesome-markers.js&quot;&gt;&lt;/script&gt;\n",
              "    &lt;link rel=&quot;stylesheet&quot; href=&quot;https://cdn.jsdelivr.net/npm/leaflet@1.6.0/dist/leaflet.css&quot;/&gt;\n",
              "    &lt;link rel=&quot;stylesheet&quot; href=&quot;https://maxcdn.bootstrapcdn.com/bootstrap/3.2.0/css/bootstrap.min.css&quot;/&gt;\n",
              "    &lt;link rel=&quot;stylesheet&quot; href=&quot;https://maxcdn.bootstrapcdn.com/bootstrap/3.2.0/css/bootstrap-theme.min.css&quot;/&gt;\n",
              "    &lt;link rel=&quot;stylesheet&quot; href=&quot;https://maxcdn.bootstrapcdn.com/font-awesome/4.6.3/css/font-awesome.min.css&quot;/&gt;\n",
              "    &lt;link rel=&quot;stylesheet&quot; href=&quot;https://cdnjs.cloudflare.com/ajax/libs/Leaflet.awesome-markers/2.0.2/leaflet.awesome-markers.css&quot;/&gt;\n",
              "    &lt;link rel=&quot;stylesheet&quot; href=&quot;https://cdn.jsdelivr.net/gh/python-visualization/folium/folium/templates/leaflet.awesome.rotate.min.css&quot;/&gt;\n",
              "    \n",
              "            &lt;meta name=&quot;viewport&quot; content=&quot;width=device-width,\n",
              "                initial-scale=1.0, maximum-scale=1.0, user-scalable=no&quot; /&gt;\n",
              "            &lt;style&gt;\n",
              "                #map_f6c1a5ebfda62b5c681bf9d52f0c0688 {\n",
              "                    position: relative;\n",
              "                    width: 100.0%;\n",
              "                    height: 100.0%;\n",
              "                    left: 0.0%;\n",
              "                    top: 0.0%;\n",
              "                }\n",
              "            &lt;/style&gt;\n",
              "        \n",
              "&lt;/head&gt;\n",
              "&lt;body&gt;    \n",
              "    \n",
              "            &lt;div class=&quot;folium-map&quot; id=&quot;map_f6c1a5ebfda62b5c681bf9d52f0c0688&quot; &gt;&lt;/div&gt;\n",
              "        \n",
              "&lt;/body&gt;\n",
              "&lt;script&gt;    \n",
              "    \n",
              "            var map_f6c1a5ebfda62b5c681bf9d52f0c0688 = L.map(\n",
              "                &quot;map_f6c1a5ebfda62b5c681bf9d52f0c0688&quot;,\n",
              "                {\n",
              "                    center: [41.92423741590909, -87.680973625],\n",
              "                    crs: L.CRS.EPSG3857,\n",
              "                    zoom: 11,\n",
              "                    zoomControl: true,\n",
              "                    preferCanvas: false,\n",
              "                }\n",
              "            );\n",
              "\n",
              "            \n",
              "\n",
              "        \n",
              "    \n",
              "            var tile_layer_d18d05b85a09a1f60f55b99a69df314f = L.tileLayer(\n",
              "                &quot;https://{s}.tile.openstreetmap.org/{z}/{x}/{y}.png&quot;,\n",
              "                {&quot;attribution&quot;: &quot;Data by \\u0026copy; \\u003ca href=\\&quot;http://openstreetmap.org\\&quot;\\u003eOpenStreetMap\\u003c/a\\u003e, under \\u003ca href=\\&quot;http://www.openstreetmap.org/copyright\\&quot;\\u003eODbL\\u003c/a\\u003e.&quot;, &quot;detectRetina&quot;: false, &quot;maxNativeZoom&quot;: 18, &quot;maxZoom&quot;: 18, &quot;minZoom&quot;: 0, &quot;noWrap&quot;: false, &quot;opacity&quot;: 1, &quot;subdomains&quot;: &quot;abc&quot;, &quot;tms&quot;: false}\n",
              "            ).addTo(map_f6c1a5ebfda62b5c681bf9d52f0c0688);\n",
              "        \n",
              "    \n",
              "            var marker_5c2360104329b3a2e4e67fa558430608 = L.marker(\n",
              "                [41.92423741590909, -87.680973625],\n",
              "                {}\n",
              "            ).addTo(map_f6c1a5ebfda62b5c681bf9d52f0c0688);\n",
              "        \n",
              "    \n",
              "        var popup_d929c4d681e61112eed49f2299a3331a = L.popup({&quot;maxWidth&quot;: &quot;100%&quot;});\n",
              "\n",
              "        \n",
              "            var html_662ac8dfdb1dbde282e5a22341afe6cf = $(`&lt;div id=&quot;html_662ac8dfdb1dbde282e5a22341afe6cf&quot; style=&quot;width: 100.0%; height: 100.0%;&quot;&gt;center&lt;/div&gt;`)[0];\n",
              "            popup_d929c4d681e61112eed49f2299a3331a.setContent(html_662ac8dfdb1dbde282e5a22341afe6cf);\n",
              "        \n",
              "\n",
              "        marker_5c2360104329b3a2e4e67fa558430608.bindPopup(popup_d929c4d681e61112eed49f2299a3331a)\n",
              "        ;\n",
              "\n",
              "        \n",
              "    \n",
              "&lt;/script&gt;\" style=\"position:absolute;width:100%;height:100%;left:0;top:0;border:none !important;\" allowfullscreen webkitallowfullscreen mozallowfullscreen></iframe></div></div>"
            ]
          },
          "metadata": {},
          "execution_count": 35
        }
      ]
    },
    {
      "cell_type": "code",
      "source": [
        "mapping = folium.Map(location=[df['lat'].mean(), df['lng'].mean()], zoom_start=11)\n",
        "\n",
        "for n in df.index:\n",
        "  if df['Address'][n] != 'Multiple':\n",
        "    folium.Marker([df['lat'][n], df['lng'][n]], popup=df['Cafe'][n]).add_to(mapping)\n",
        "\n",
        "mapping"
      ],
      "metadata": {
        "colab": {
          "base_uri": "https://localhost:8080/",
          "height": 866
        },
        "id": "-ZILE8R1tnXa",
        "outputId": "2ab757db-2fdc-42ca-eb84-bb9738869b06"
      },
      "execution_count": null,
      "outputs": [
        {
          "output_type": "execute_result",
          "data": {
            "text/plain": [
              "<folium.folium.Map at 0x7fa64957b0d0>"
            ],
            "text/html": [
              "<div style=\"width:100%;\"><div style=\"position:relative;width:100%;height:0;padding-bottom:60%;\"><span style=\"color:#565656\">Make this Notebook Trusted to load map: File -> Trust Notebook</span><iframe srcdoc=\"&lt;!DOCTYPE html&gt;\n",
              "&lt;head&gt;    \n",
              "    &lt;meta http-equiv=&quot;content-type&quot; content=&quot;text/html; charset=UTF-8&quot; /&gt;\n",
              "    \n",
              "        &lt;script&gt;\n",
              "            L_NO_TOUCH = false;\n",
              "            L_DISABLE_3D = false;\n",
              "        &lt;/script&gt;\n",
              "    \n",
              "    &lt;style&gt;html, body {width: 100%;height: 100%;margin: 0;padding: 0;}&lt;/style&gt;\n",
              "    &lt;style&gt;#map {position:absolute;top:0;bottom:0;right:0;left:0;}&lt;/style&gt;\n",
              "    &lt;script src=&quot;https://cdn.jsdelivr.net/npm/leaflet@1.6.0/dist/leaflet.js&quot;&gt;&lt;/script&gt;\n",
              "    &lt;script src=&quot;https://code.jquery.com/jquery-1.12.4.min.js&quot;&gt;&lt;/script&gt;\n",
              "    &lt;script src=&quot;https://maxcdn.bootstrapcdn.com/bootstrap/3.2.0/js/bootstrap.min.js&quot;&gt;&lt;/script&gt;\n",
              "    &lt;script src=&quot;https://cdnjs.cloudflare.com/ajax/libs/Leaflet.awesome-markers/2.0.2/leaflet.awesome-markers.js&quot;&gt;&lt;/script&gt;\n",
              "    &lt;link rel=&quot;stylesheet&quot; href=&quot;https://cdn.jsdelivr.net/npm/leaflet@1.6.0/dist/leaflet.css&quot;/&gt;\n",
              "    &lt;link rel=&quot;stylesheet&quot; href=&quot;https://maxcdn.bootstrapcdn.com/bootstrap/3.2.0/css/bootstrap.min.css&quot;/&gt;\n",
              "    &lt;link rel=&quot;stylesheet&quot; href=&quot;https://maxcdn.bootstrapcdn.com/bootstrap/3.2.0/css/bootstrap-theme.min.css&quot;/&gt;\n",
              "    &lt;link rel=&quot;stylesheet&quot; href=&quot;https://maxcdn.bootstrapcdn.com/font-awesome/4.6.3/css/font-awesome.min.css&quot;/&gt;\n",
              "    &lt;link rel=&quot;stylesheet&quot; href=&quot;https://cdnjs.cloudflare.com/ajax/libs/Leaflet.awesome-markers/2.0.2/leaflet.awesome-markers.css&quot;/&gt;\n",
              "    &lt;link rel=&quot;stylesheet&quot; href=&quot;https://cdn.jsdelivr.net/gh/python-visualization/folium/folium/templates/leaflet.awesome.rotate.min.css&quot;/&gt;\n",
              "    \n",
              "            &lt;meta name=&quot;viewport&quot; content=&quot;width=device-width,\n",
              "                initial-scale=1.0, maximum-scale=1.0, user-scalable=no&quot; /&gt;\n",
              "            &lt;style&gt;\n",
              "                #map_be1ea6176800cf6719766c62d67fe06d {\n",
              "                    position: relative;\n",
              "                    width: 100.0%;\n",
              "                    height: 100.0%;\n",
              "                    left: 0.0%;\n",
              "                    top: 0.0%;\n",
              "                }\n",
              "            &lt;/style&gt;\n",
              "        \n",
              "&lt;/head&gt;\n",
              "&lt;body&gt;    \n",
              "    \n",
              "            &lt;div class=&quot;folium-map&quot; id=&quot;map_be1ea6176800cf6719766c62d67fe06d&quot; &gt;&lt;/div&gt;\n",
              "        \n",
              "&lt;/body&gt;\n",
              "&lt;script&gt;    \n",
              "    \n",
              "            var map_be1ea6176800cf6719766c62d67fe06d = L.map(\n",
              "                &quot;map_be1ea6176800cf6719766c62d67fe06d&quot;,\n",
              "                {\n",
              "                    center: [41.92423741590909, -87.680973625],\n",
              "                    crs: L.CRS.EPSG3857,\n",
              "                    zoom: 11,\n",
              "                    zoomControl: true,\n",
              "                    preferCanvas: false,\n",
              "                }\n",
              "            );\n",
              "\n",
              "            \n",
              "\n",
              "        \n",
              "    \n",
              "            var tile_layer_5f89f07ac2cdedb3523492aac4d38695 = L.tileLayer(\n",
              "                &quot;https://{s}.tile.openstreetmap.org/{z}/{x}/{y}.png&quot;,\n",
              "                {&quot;attribution&quot;: &quot;Data by \\u0026copy; \\u003ca href=\\&quot;http://openstreetmap.org\\&quot;\\u003eOpenStreetMap\\u003c/a\\u003e, under \\u003ca href=\\&quot;http://www.openstreetmap.org/copyright\\&quot;\\u003eODbL\\u003c/a\\u003e.&quot;, &quot;detectRetina&quot;: false, &quot;maxNativeZoom&quot;: 18, &quot;maxZoom&quot;: 18, &quot;minZoom&quot;: 0, &quot;noWrap&quot;: false, &quot;opacity&quot;: 1, &quot;subdomains&quot;: &quot;abc&quot;, &quot;tms&quot;: false}\n",
              "            ).addTo(map_be1ea6176800cf6719766c62d67fe06d);\n",
              "        \n",
              "    \n",
              "            var marker_4c45fd83d9b0505fa20b9a628082dcf3 = L.marker(\n",
              "                [41.8955577, -87.6799673],\n",
              "                {}\n",
              "            ).addTo(map_be1ea6176800cf6719766c62d67fe06d);\n",
              "        \n",
              "    \n",
              "        var popup_504bacaff2c9ff8b68f600b489892a41 = L.popup({&quot;maxWidth&quot;: &quot;100%&quot;});\n",
              "\n",
              "        \n",
              "            var html_3885a53550eb8b113d370cbd0e1919e7 = $(`&lt;div id=&quot;html_3885a53550eb8b113d370cbd0e1919e7&quot; style=&quot;width: 100.0%; height: 100.0%;&quot;&gt;Old Oak Tap&lt;/div&gt;`)[0];\n",
              "            popup_504bacaff2c9ff8b68f600b489892a41.setContent(html_3885a53550eb8b113d370cbd0e1919e7);\n",
              "        \n",
              "\n",
              "        marker_4c45fd83d9b0505fa20b9a628082dcf3.bindPopup(popup_504bacaff2c9ff8b68f600b489892a41)\n",
              "        ;\n",
              "\n",
              "        \n",
              "    \n",
              "    \n",
              "            var marker_de664e88193bdfbd9b7beac6e5d5f072 = L.marker(\n",
              "                [41.8846392, -87.6475897],\n",
              "                {}\n",
              "            ).addTo(map_be1ea6176800cf6719766c62d67fe06d);\n",
              "        \n",
              "    \n",
              "        var popup_2bb1136412c093173363ce3ad5321dcb = L.popup({&quot;maxWidth&quot;: &quot;100%&quot;});\n",
              "\n",
              "        \n",
              "            var html_756e48d38dfc498c08c5ce67486e0d65 = $(`&lt;div id=&quot;html_756e48d38dfc498c08c5ce67486e0d65&quot; style=&quot;width: 100.0%; height: 100.0%;&quot;&gt;Au Cheval&lt;/div&gt;`)[0];\n",
              "            popup_2bb1136412c093173363ce3ad5321dcb.setContent(html_756e48d38dfc498c08c5ce67486e0d65);\n",
              "        \n",
              "\n",
              "        marker_de664e88193bdfbd9b7beac6e5d5f072.bindPopup(popup_2bb1136412c093173363ce3ad5321dcb)\n",
              "        ;\n",
              "\n",
              "        \n",
              "    \n",
              "    \n",
              "            var marker_ff6392572d181fafcf634fcccb444e20 = L.marker(\n",
              "                [41.8905226, -87.6307834],\n",
              "                {}\n",
              "            ).addTo(map_be1ea6176800cf6719766c62d67fe06d);\n",
              "        \n",
              "    \n",
              "        var popup_b30a03070d38c6fa3b40cd362e8562c7 = L.popup({&quot;maxWidth&quot;: &quot;100%&quot;});\n",
              "\n",
              "        \n",
              "            var html_53b7d1c1d4c997fab351481b05de99b4 = $(`&lt;div id=&quot;html_53b7d1c1d4c997fab351481b05de99b4&quot; style=&quot;width: 100.0%; height: 100.0%;&quot;&gt;Xoco&lt;/div&gt;`)[0];\n",
              "            popup_b30a03070d38c6fa3b40cd362e8562c7.setContent(html_53b7d1c1d4c997fab351481b05de99b4);\n",
              "        \n",
              "\n",
              "        marker_ff6392572d181fafcf634fcccb444e20.bindPopup(popup_b30a03070d38c6fa3b40cd362e8562c7)\n",
              "        ;\n",
              "\n",
              "        \n",
              "    \n",
              "    \n",
              "            var marker_cdee6361903d8fa08096389f29db4574 = L.marker(\n",
              "                [42.0583217, -87.6837479],\n",
              "                {}\n",
              "            ).addTo(map_be1ea6176800cf6719766c62d67fe06d);\n",
              "        \n",
              "    \n",
              "        var popup_041e78ca8f96e3caffadbdd7a8d09f33 = L.popup({&quot;maxWidth&quot;: &quot;100%&quot;});\n",
              "\n",
              "        \n",
              "            var html_bbc42c5aebec2b11314d8427c07a9703 = $(`&lt;div id=&quot;html_bbc42c5aebec2b11314d8427c07a9703&quot; style=&quot;width: 100.0%; height: 100.0%;&quot;&gt;Al’s Deli&lt;/div&gt;`)[0];\n",
              "            popup_041e78ca8f96e3caffadbdd7a8d09f33.setContent(html_bbc42c5aebec2b11314d8427c07a9703);\n",
              "        \n",
              "\n",
              "        marker_cdee6361903d8fa08096389f29db4574.bindPopup(popup_041e78ca8f96e3caffadbdd7a8d09f33)\n",
              "        ;\n",
              "\n",
              "        \n",
              "    \n",
              "    \n",
              "            var marker_8c9f60c11297e08aa546f5858f99347f = L.marker(\n",
              "                [41.8866036, -87.64853649999999],\n",
              "                {}\n",
              "            ).addTo(map_be1ea6176800cf6719766c62d67fe06d);\n",
              "        \n",
              "    \n",
              "        var popup_718d67d7407d8591f7504d825e76e746 = L.popup({&quot;maxWidth&quot;: &quot;100%&quot;});\n",
              "\n",
              "        \n",
              "            var html_dddb5ab1a03b9ed7f5078c9fe09b8e3c = $(`&lt;div id=&quot;html_dddb5ab1a03b9ed7f5078c9fe09b8e3c&quot; style=&quot;width: 100.0%; height: 100.0%;&quot;&gt;Publican Quality Meats&lt;/div&gt;`)[0];\n",
              "            popup_718d67d7407d8591f7504d825e76e746.setContent(html_dddb5ab1a03b9ed7f5078c9fe09b8e3c);\n",
              "        \n",
              "\n",
              "        marker_8c9f60c11297e08aa546f5858f99347f.bindPopup(popup_718d67d7407d8591f7504d825e76e746)\n",
              "        ;\n",
              "\n",
              "        \n",
              "    \n",
              "    \n",
              "            var marker_248faa1c40b2c975923c9b93da4f4b17 = L.marker(\n",
              "                [41.9002501, -87.6250781],\n",
              "                {}\n",
              "            ).addTo(map_be1ea6176800cf6719766c62d67fe06d);\n",
              "        \n",
              "    \n",
              "        var popup_db5928be1061e95b46a375b71caa3db1 = L.popup({&quot;maxWidth&quot;: &quot;100%&quot;});\n",
              "\n",
              "        \n",
              "            var html_8228a53881b5534bdebcc1e1bdfc0acd = $(`&lt;div id=&quot;html_8228a53881b5534bdebcc1e1bdfc0acd&quot; style=&quot;width: 100.0%; height: 100.0%;&quot;&gt;Hendrickx Belgian Bread Crafter&lt;/div&gt;`)[0];\n",
              "            popup_db5928be1061e95b46a375b71caa3db1.setContent(html_8228a53881b5534bdebcc1e1bdfc0acd);\n",
              "        \n",
              "\n",
              "        marker_248faa1c40b2c975923c9b93da4f4b17.bindPopup(popup_db5928be1061e95b46a375b71caa3db1)\n",
              "        ;\n",
              "\n",
              "        \n",
              "    \n",
              "    \n",
              "            var marker_30b7dbed5985a788fc6da0740efb91f7 = L.marker(\n",
              "                [41.8590541, -87.6252007],\n",
              "                {}\n",
              "            ).addTo(map_be1ea6176800cf6719766c62d67fe06d);\n",
              "        \n",
              "    \n",
              "        var popup_1cab648d7271276f3bc8ff96f7c1d9e9 = L.popup({&quot;maxWidth&quot;: &quot;100%&quot;});\n",
              "\n",
              "        \n",
              "            var html_3a6f0fd840161f9333e2a10bf6dbfade = $(`&lt;div id=&quot;html_3a6f0fd840161f9333e2a10bf6dbfade&quot; style=&quot;width: 100.0%; height: 100.0%;&quot;&gt;Acadia&lt;/div&gt;`)[0];\n",
              "            popup_1cab648d7271276f3bc8ff96f7c1d9e9.setContent(html_3a6f0fd840161f9333e2a10bf6dbfade);\n",
              "        \n",
              "\n",
              "        marker_30b7dbed5985a788fc6da0740efb91f7.bindPopup(popup_1cab648d7271276f3bc8ff96f7c1d9e9)\n",
              "        ;\n",
              "\n",
              "        \n",
              "    \n",
              "    \n",
              "            var marker_412f795547c01c298a5ea69ab3347818 = L.marker(\n",
              "                [41.9102031, -87.68287529999999],\n",
              "                {}\n",
              "            ).addTo(map_be1ea6176800cf6719766c62d67fe06d);\n",
              "        \n",
              "    \n",
              "        var popup_80983f5385e9d7800a26ef2e69cbcf48 = L.popup({&quot;maxWidth&quot;: &quot;100%&quot;});\n",
              "\n",
              "        \n",
              "            var html_40f4715431a2fa7269cc5908a3888139 = $(`&lt;div id=&quot;html_40f4715431a2fa7269cc5908a3888139&quot; style=&quot;width: 100.0%; height: 100.0%;&quot;&gt;Birchwood Kitchen&lt;/div&gt;`)[0];\n",
              "            popup_80983f5385e9d7800a26ef2e69cbcf48.setContent(html_40f4715431a2fa7269cc5908a3888139);\n",
              "        \n",
              "\n",
              "        marker_412f795547c01c298a5ea69ab3347818.bindPopup(popup_80983f5385e9d7800a26ef2e69cbcf48)\n",
              "        ;\n",
              "\n",
              "        \n",
              "    \n",
              "    \n",
              "            var marker_458d52414bfbc183c1151564306c4f07 = L.marker(\n",
              "                [41.909758, -87.7176767],\n",
              "                {}\n",
              "            ).addTo(map_be1ea6176800cf6719766c62d67fe06d);\n",
              "        \n",
              "    \n",
              "        var popup_8e7b686e4514eb1cb9abc7f54fb1a55b = L.popup({&quot;maxWidth&quot;: &quot;100%&quot;});\n",
              "\n",
              "        \n",
              "            var html_240bedab74dbbe194a6ea10ab38c9783 = $(`&lt;div id=&quot;html_240bedab74dbbe194a6ea10ab38c9783&quot; style=&quot;width: 100.0%; height: 100.0%;&quot;&gt;Cemitas Puebla&lt;/div&gt;`)[0];\n",
              "            popup_8e7b686e4514eb1cb9abc7f54fb1a55b.setContent(html_240bedab74dbbe194a6ea10ab38c9783);\n",
              "        \n",
              "\n",
              "        marker_458d52414bfbc183c1151564306c4f07.bindPopup(popup_8e7b686e4514eb1cb9abc7f54fb1a55b)\n",
              "        ;\n",
              "\n",
              "        \n",
              "    \n",
              "    \n",
              "            var marker_160e17d22334f28fdf7e8c8fa2ac4afc = L.marker(\n",
              "                [41.8345302, -87.6456492],\n",
              "                {}\n",
              "            ).addTo(map_be1ea6176800cf6719766c62d67fe06d);\n",
              "        \n",
              "    \n",
              "        var popup_08a1c3a8e6923dc65ef0096c1ff48733 = L.popup({&quot;maxWidth&quot;: &quot;100%&quot;});\n",
              "\n",
              "        \n",
              "            var html_7824c88f44757067450f284c331144d8 = $(`&lt;div id=&quot;html_7824c88f44757067450f284c331144d8&quot; style=&quot;width: 100.0%; height: 100.0%;&quot;&gt;Nana&lt;/div&gt;`)[0];\n",
              "            popup_08a1c3a8e6923dc65ef0096c1ff48733.setContent(html_7824c88f44757067450f284c331144d8);\n",
              "        \n",
              "\n",
              "        marker_160e17d22334f28fdf7e8c8fa2ac4afc.bindPopup(popup_08a1c3a8e6923dc65ef0096c1ff48733)\n",
              "        ;\n",
              "\n",
              "        \n",
              "    \n",
              "    \n",
              "            var marker_7843c996cc3bcc22a02c0b478229910a = L.marker(\n",
              "                [41.9276207, -87.706792],\n",
              "                {}\n",
              "            ).addTo(map_be1ea6176800cf6719766c62d67fe06d);\n",
              "        \n",
              "    \n",
              "        var popup_e128d199fd5ddf0d9b6881091ea75712 = L.popup({&quot;maxWidth&quot;: &quot;100%&quot;});\n",
              "\n",
              "        \n",
              "            var html_2cd25b3be0775d68037397d887fae50a = $(`&lt;div id=&quot;html_2cd25b3be0775d68037397d887fae50a&quot; style=&quot;width: 100.0%; height: 100.0%;&quot;&gt;Lula Cafe&lt;/div&gt;`)[0];\n",
              "            popup_e128d199fd5ddf0d9b6881091ea75712.setContent(html_2cd25b3be0775d68037397d887fae50a);\n",
              "        \n",
              "\n",
              "        marker_7843c996cc3bcc22a02c0b478229910a.bindPopup(popup_e128d199fd5ddf0d9b6881091ea75712)\n",
              "        ;\n",
              "\n",
              "        \n",
              "    \n",
              "    \n",
              "            var marker_14515e1f35594e40da85a8827266fb86 = L.marker(\n",
              "                [41.9384419, -87.64464369999999],\n",
              "                {}\n",
              "            ).addTo(map_be1ea6176800cf6719766c62d67fe06d);\n",
              "        \n",
              "    \n",
              "        var popup_a9c666ab4926e60c1c8f01f2dee279f9 = L.popup({&quot;maxWidth&quot;: &quot;100%&quot;});\n",
              "\n",
              "        \n",
              "            var html_0280210913183f7ef242a29dba76bba9 = $(`&lt;div id=&quot;html_0280210913183f7ef242a29dba76bba9&quot; style=&quot;width: 100.0%; height: 100.0%;&quot;&gt;Frog n Snail&lt;/div&gt;`)[0];\n",
              "            popup_a9c666ab4926e60c1c8f01f2dee279f9.setContent(html_0280210913183f7ef242a29dba76bba9);\n",
              "        \n",
              "\n",
              "        marker_14515e1f35594e40da85a8827266fb86.bindPopup(popup_a9c666ab4926e60c1c8f01f2dee279f9)\n",
              "        ;\n",
              "\n",
              "        \n",
              "    \n",
              "    \n",
              "            var marker_a1caf2c7d3b418a2f4869358363bb1c0 = L.marker(\n",
              "                [41.9451116, -87.66369879999999],\n",
              "                {}\n",
              "            ).addTo(map_be1ea6176800cf6719766c62d67fe06d);\n",
              "        \n",
              "    \n",
              "        var popup_f7b9032d46707324e84bda470d420a46 = L.popup({&quot;maxWidth&quot;: &quot;100%&quot;});\n",
              "\n",
              "        \n",
              "            var html_fb7574527ed9aeebc5c06558d7a8f02a = $(`&lt;div id=&quot;html_fb7574527ed9aeebc5c06558d7a8f02a&quot; style=&quot;width: 100.0%; height: 100.0%;&quot;&gt;Crosby’s Kitchen&lt;/div&gt;`)[0];\n",
              "            popup_f7b9032d46707324e84bda470d420a46.setContent(html_fb7574527ed9aeebc5c06558d7a8f02a);\n",
              "        \n",
              "\n",
              "        marker_a1caf2c7d3b418a2f4869358363bb1c0.bindPopup(popup_f7b9032d46707324e84bda470d420a46)\n",
              "        ;\n",
              "\n",
              "        \n",
              "    \n",
              "    \n",
              "            var marker_5f1ef031d2150c4cea59fbcb0295ea7e = L.marker(\n",
              "                [41.9300559, -87.70703379999999],\n",
              "                {}\n",
              "            ).addTo(map_be1ea6176800cf6719766c62d67fe06d);\n",
              "        \n",
              "    \n",
              "        var popup_0a8109b4e7fb5d138605dfc952b0f85d = L.popup({&quot;maxWidth&quot;: &quot;100%&quot;});\n",
              "\n",
              "        \n",
              "            var html_b698684c539cf197f652a25d7d4c5ddb = $(`&lt;div id=&quot;html_b698684c539cf197f652a25d7d4c5ddb&quot; style=&quot;width: 100.0%; height: 100.0%;&quot;&gt;Longman &amp; Eagle&lt;/div&gt;`)[0];\n",
              "            popup_0a8109b4e7fb5d138605dfc952b0f85d.setContent(html_b698684c539cf197f652a25d7d4c5ddb);\n",
              "        \n",
              "\n",
              "        marker_5f1ef031d2150c4cea59fbcb0295ea7e.bindPopup(popup_0a8109b4e7fb5d138605dfc952b0f85d)\n",
              "        ;\n",
              "\n",
              "        \n",
              "    \n",
              "    \n",
              "            var marker_9fe6a609e705eea98d7cc388851bdc70 = L.marker(\n",
              "                [41.8912971, -87.6555453],\n",
              "                {}\n",
              "            ).addTo(map_be1ea6176800cf6719766c62d67fe06d);\n",
              "        \n",
              "    \n",
              "        var popup_5e2af9bbb31b8256e4a87ec809961847 = L.popup({&quot;maxWidth&quot;: &quot;100%&quot;});\n",
              "\n",
              "        \n",
              "            var html_16b2b5d7b198af26736d2a7df639c988 = $(`&lt;div id=&quot;html_16b2b5d7b198af26736d2a7df639c988&quot; style=&quot;width: 100.0%; height: 100.0%;&quot;&gt;Bari&lt;/div&gt;`)[0];\n",
              "            popup_5e2af9bbb31b8256e4a87ec809961847.setContent(html_16b2b5d7b198af26736d2a7df639c988);\n",
              "        \n",
              "\n",
              "        marker_9fe6a609e705eea98d7cc388851bdc70.bindPopup(popup_5e2af9bbb31b8256e4a87ec809961847)\n",
              "        ;\n",
              "\n",
              "        \n",
              "    \n",
              "    \n",
              "            var marker_8523d35801dd1e7fc425ae16303a24a1 = L.marker(\n",
              "                [41.8678529, -87.6419289],\n",
              "                {}\n",
              "            ).addTo(map_be1ea6176800cf6719766c62d67fe06d);\n",
              "        \n",
              "    \n",
              "        var popup_8de3d4dce5ac107b8b7552f775af28e4 = L.popup({&quot;maxWidth&quot;: &quot;100%&quot;});\n",
              "\n",
              "        \n",
              "            var html_27b0a781a2cb3bf07d488a0148019929 = $(`&lt;div id=&quot;html_27b0a781a2cb3bf07d488a0148019929&quot; style=&quot;width: 100.0%; height: 100.0%;&quot;&gt;Manny’s&lt;/div&gt;`)[0];\n",
              "            popup_8de3d4dce5ac107b8b7552f775af28e4.setContent(html_27b0a781a2cb3bf07d488a0148019929);\n",
              "        \n",
              "\n",
              "        marker_8523d35801dd1e7fc425ae16303a24a1.bindPopup(popup_8de3d4dce5ac107b8b7552f775af28e4)\n",
              "        ;\n",
              "\n",
              "        \n",
              "    \n",
              "    \n",
              "            var marker_fd43c0ad0ddd4cc95e5c0613c7576853 = L.marker(\n",
              "                [41.8852691, -87.6184837],\n",
              "                {}\n",
              "            ).addTo(map_be1ea6176800cf6719766c62d67fe06d);\n",
              "        \n",
              "    \n",
              "        var popup_a123cbd3b88a786b6f9204710ca32030 = L.popup({&quot;maxWidth&quot;: &quot;100%&quot;});\n",
              "\n",
              "        \n",
              "            var html_9884c1632c8ed1583db8f299e1cc2c74 = $(`&lt;div id=&quot;html_9884c1632c8ed1583db8f299e1cc2c74&quot; style=&quot;width: 100.0%; height: 100.0%;&quot;&gt;Eggy’s&lt;/div&gt;`)[0];\n",
              "            popup_a123cbd3b88a786b6f9204710ca32030.setContent(html_9884c1632c8ed1583db8f299e1cc2c74);\n",
              "        \n",
              "\n",
              "        marker_fd43c0ad0ddd4cc95e5c0613c7576853.bindPopup(popup_a123cbd3b88a786b6f9204710ca32030)\n",
              "        ;\n",
              "\n",
              "        \n",
              "    \n",
              "    \n",
              "            var marker_c4954dc6043b330471ec07ccc69b762d = L.marker(\n",
              "                [41.9080605, -87.6343033],\n",
              "                {}\n",
              "            ).addTo(map_be1ea6176800cf6719766c62d67fe06d);\n",
              "        \n",
              "    \n",
              "        var popup_920b89a9d4fc6362ac5db8243a34b0dd = L.popup({&quot;maxWidth&quot;: &quot;100%&quot;});\n",
              "\n",
              "        \n",
              "            var html_7890671f3524c9c2db9a6873c4598e60 = $(`&lt;div id=&quot;html_7890671f3524c9c2db9a6873c4598e60&quot; style=&quot;width: 100.0%; height: 100.0%;&quot;&gt;Old Jerusalem&lt;/div&gt;`)[0];\n",
              "            popup_920b89a9d4fc6362ac5db8243a34b0dd.setContent(html_7890671f3524c9c2db9a6873c4598e60);\n",
              "        \n",
              "\n",
              "        marker_c4954dc6043b330471ec07ccc69b762d.bindPopup(popup_920b89a9d4fc6362ac5db8243a34b0dd)\n",
              "        ;\n",
              "\n",
              "        \n",
              "    \n",
              "    \n",
              "            var marker_728040536c63157570949dcad80f2214 = L.marker(\n",
              "                [41.91369539999999, -87.6771273],\n",
              "                {}\n",
              "            ).addTo(map_be1ea6176800cf6719766c62d67fe06d);\n",
              "        \n",
              "    \n",
              "        var popup_43ee0979cba6411bc019537b1fa46f73 = L.popup({&quot;maxWidth&quot;: &quot;100%&quot;});\n",
              "\n",
              "        \n",
              "            var html_3a67a85d827d05ad20de949886d11386 = $(`&lt;div id=&quot;html_3a67a85d827d05ad20de949886d11386&quot; style=&quot;width: 100.0%; height: 100.0%;&quot;&gt;Mindy’s HotChocolate&lt;/div&gt;`)[0];\n",
              "            popup_43ee0979cba6411bc019537b1fa46f73.setContent(html_3a67a85d827d05ad20de949886d11386);\n",
              "        \n",
              "\n",
              "        marker_728040536c63157570949dcad80f2214.bindPopup(popup_43ee0979cba6411bc019537b1fa46f73)\n",
              "        ;\n",
              "\n",
              "        \n",
              "    \n",
              "    \n",
              "            var marker_2826607a77bb6200307ef71995d34570 = L.marker(\n",
              "                [41.95371249999999, -87.7084504],\n",
              "                {}\n",
              "            ).addTo(map_be1ea6176800cf6719766c62d67fe06d);\n",
              "        \n",
              "    \n",
              "        var popup_0b2a7a711bc4a06b68ef698e57ad55fc = L.popup({&quot;maxWidth&quot;: &quot;100%&quot;});\n",
              "\n",
              "        \n",
              "            var html_647fd562ee95fa1aaf1988f59fb5e1a3 = $(`&lt;div id=&quot;html_647fd562ee95fa1aaf1988f59fb5e1a3&quot; style=&quot;width: 100.0%; height: 100.0%;&quot;&gt;Olga’s Delicatessen&lt;/div&gt;`)[0];\n",
              "            popup_0b2a7a711bc4a06b68ef698e57ad55fc.setContent(html_647fd562ee95fa1aaf1988f59fb5e1a3);\n",
              "        \n",
              "\n",
              "        marker_2826607a77bb6200307ef71995d34570.bindPopup(popup_0b2a7a711bc4a06b68ef698e57ad55fc)\n",
              "        ;\n",
              "\n",
              "        \n",
              "    \n",
              "    \n",
              "            var marker_79c62c8a2445a952f5d9b2d30191f6cc = L.marker(\n",
              "                [41.9794496, -87.66795719999999],\n",
              "                {}\n",
              "            ).addTo(map_be1ea6176800cf6719766c62d67fe06d);\n",
              "        \n",
              "    \n",
              "        var popup_78b175b8e4761218f0534eccb3196030 = L.popup({&quot;maxWidth&quot;: &quot;100%&quot;});\n",
              "\n",
              "        \n",
              "            var html_51a04494bf1716e83c6ea8dd995a072a = $(`&lt;div id=&quot;html_51a04494bf1716e83c6ea8dd995a072a&quot; style=&quot;width: 100.0%; height: 100.0%;&quot;&gt;Big Jones&lt;/div&gt;`)[0];\n",
              "            popup_78b175b8e4761218f0534eccb3196030.setContent(html_51a04494bf1716e83c6ea8dd995a072a);\n",
              "        \n",
              "\n",
              "        marker_79c62c8a2445a952f5d9b2d30191f6cc.bindPopup(popup_78b175b8e4761218f0534eccb3196030)\n",
              "        ;\n",
              "\n",
              "        \n",
              "    \n",
              "    \n",
              "            var marker_a6f1a6381c9bd2be5f98af21c054e8ad = L.marker(\n",
              "                [41.9541592, -87.70271079999999],\n",
              "                {}\n",
              "            ).addTo(map_be1ea6176800cf6719766c62d67fe06d);\n",
              "        \n",
              "    \n",
              "        var popup_0a05ddbaf389598d1622841e8a989c95 = L.popup({&quot;maxWidth&quot;: &quot;100%&quot;});\n",
              "\n",
              "        \n",
              "            var html_4c2448de8ffbbf1675f709f84e82bdf2 = $(`&lt;div id=&quot;html_4c2448de8ffbbf1675f709f84e82bdf2&quot; style=&quot;width: 100.0%; height: 100.0%;&quot;&gt;La Pane&lt;/div&gt;`)[0];\n",
              "            popup_0a05ddbaf389598d1622841e8a989c95.setContent(html_4c2448de8ffbbf1675f709f84e82bdf2);\n",
              "        \n",
              "\n",
              "        marker_a6f1a6381c9bd2be5f98af21c054e8ad.bindPopup(popup_0a05ddbaf389598d1622841e8a989c95)\n",
              "        ;\n",
              "\n",
              "        \n",
              "    \n",
              "    \n",
              "            var marker_a6fa51af4c408f7c920524675fe9bf27 = L.marker(\n",
              "                [42.1567073, -87.8036345],\n",
              "                {}\n",
              "            ).addTo(map_be1ea6176800cf6719766c62d67fe06d);\n",
              "        \n",
              "    \n",
              "        var popup_12424eea50ca18c98422056ae58e7e7b = L.popup({&quot;maxWidth&quot;: &quot;100%&quot;});\n",
              "\n",
              "        \n",
              "            var html_2e7372a90559d65dd3a06a862d756dec = $(`&lt;div id=&quot;html_2e7372a90559d65dd3a06a862d756dec&quot; style=&quot;width: 100.0%; height: 100.0%;&quot;&gt;Max’s Deli&lt;/div&gt;`)[0];\n",
              "            popup_12424eea50ca18c98422056ae58e7e7b.setContent(html_2e7372a90559d65dd3a06a862d756dec);\n",
              "        \n",
              "\n",
              "        marker_a6fa51af4c408f7c920524675fe9bf27.bindPopup(popup_12424eea50ca18c98422056ae58e7e7b)\n",
              "        ;\n",
              "\n",
              "        \n",
              "    \n",
              "    \n",
              "            var marker_486dc780ef07ef58b7ce70714c8b07e9 = L.marker(\n",
              "                [41.96527, -87.67554179999999],\n",
              "                {}\n",
              "            ).addTo(map_be1ea6176800cf6719766c62d67fe06d);\n",
              "        \n",
              "    \n",
              "        var popup_49a3ee7135ef87b9a7a1950a5e418547 = L.popup({&quot;maxWidth&quot;: &quot;100%&quot;});\n",
              "\n",
              "        \n",
              "            var html_d561bd83fd8df9eee3643e9af566fc6f = $(`&lt;div id=&quot;html_d561bd83fd8df9eee3643e9af566fc6f&quot; style=&quot;width: 100.0%; height: 100.0%;&quot;&gt;City Provisions&lt;/div&gt;`)[0];\n",
              "            popup_49a3ee7135ef87b9a7a1950a5e418547.setContent(html_d561bd83fd8df9eee3643e9af566fc6f);\n",
              "        \n",
              "\n",
              "        marker_486dc780ef07ef58b7ce70714c8b07e9.bindPopup(popup_49a3ee7135ef87b9a7a1950a5e418547)\n",
              "        ;\n",
              "\n",
              "        \n",
              "    \n",
              "    \n",
              "            var marker_30271ac8f1503f70faa9707df4644d96 = L.marker(\n",
              "                [41.9027241, -87.6902299],\n",
              "                {}\n",
              "            ).addTo(map_be1ea6176800cf6719766c62d67fe06d);\n",
              "        \n",
              "    \n",
              "        var popup_f92c3d31498e41089f879a214c146a36 = L.popup({&quot;maxWidth&quot;: &quot;100%&quot;});\n",
              "\n",
              "        \n",
              "            var html_ef2cc66db5bd2ebbd90806590f778627 = $(`&lt;div id=&quot;html_ef2cc66db5bd2ebbd90806590f778627&quot; style=&quot;width: 100.0%; height: 100.0%;&quot;&gt;Papa’s Cache Sabroso&lt;/div&gt;`)[0];\n",
              "            popup_f92c3d31498e41089f879a214c146a36.setContent(html_ef2cc66db5bd2ebbd90806590f778627);\n",
              "        \n",
              "\n",
              "        marker_30271ac8f1503f70faa9707df4644d96.bindPopup(popup_f92c3d31498e41089f879a214c146a36)\n",
              "        ;\n",
              "\n",
              "        \n",
              "    \n",
              "    \n",
              "            var marker_e5881e7c4bb50a5f8eb79c663f6509b4 = L.marker(\n",
              "                [41.8893683, -87.6349487],\n",
              "                {}\n",
              "            ).addTo(map_be1ea6176800cf6719766c62d67fe06d);\n",
              "        \n",
              "    \n",
              "        var popup_d12d1b4f91dc039e2daf72de77702ce4 = L.popup({&quot;maxWidth&quot;: &quot;100%&quot;});\n",
              "\n",
              "        \n",
              "            var html_c43dba4122e5f94266a6ae1812a1e5de = $(`&lt;div id=&quot;html_c43dba4122e5f94266a6ae1812a1e5de&quot; style=&quot;width: 100.0%; height: 100.0%;&quot;&gt;Bavette’s Bar &amp; Boeuf&lt;/div&gt;`)[0];\n",
              "            popup_d12d1b4f91dc039e2daf72de77702ce4.setContent(html_c43dba4122e5f94266a6ae1812a1e5de);\n",
              "        \n",
              "\n",
              "        marker_e5881e7c4bb50a5f8eb79c663f6509b4.bindPopup(popup_d12d1b4f91dc039e2daf72de77702ce4)\n",
              "        ;\n",
              "\n",
              "        \n",
              "    \n",
              "    \n",
              "            var marker_74ba67119471ae6036e37156d5fbe985 = L.marker(\n",
              "                [41.9105258, -87.6343775],\n",
              "                {}\n",
              "            ).addTo(map_be1ea6176800cf6719766c62d67fe06d);\n",
              "        \n",
              "    \n",
              "        var popup_5262368f59b4432158b6a68310fc895e = L.popup({&quot;maxWidth&quot;: &quot;100%&quot;});\n",
              "\n",
              "        \n",
              "            var html_55f65edec0b298cdecadb082908cb8b7 = $(`&lt;div id=&quot;html_55f65edec0b298cdecadb082908cb8b7&quot; style=&quot;width: 100.0%; height: 100.0%;&quot;&gt;La Fournette&lt;/div&gt;`)[0];\n",
              "            popup_5262368f59b4432158b6a68310fc895e.setContent(html_55f65edec0b298cdecadb082908cb8b7);\n",
              "        \n",
              "\n",
              "        marker_74ba67119471ae6036e37156d5fbe985.bindPopup(popup_5262368f59b4432158b6a68310fc895e)\n",
              "        ;\n",
              "\n",
              "        \n",
              "    \n",
              "    \n",
              "            var marker_bb23764945ca5fdad01d3c9fb1fb99b4 = L.marker(\n",
              "                [41.8896298, -87.64487489999999],\n",
              "                {}\n",
              "            ).addTo(map_be1ea6176800cf6719766c62d67fe06d);\n",
              "        \n",
              "    \n",
              "        var popup_d0540352a07d64bdaf61a4d4762c7f4c = L.popup({&quot;maxWidth&quot;: &quot;100%&quot;});\n",
              "\n",
              "        \n",
              "            var html_f0753e9ff4a3417a788489bb9464bfd0 = $(`&lt;div id=&quot;html_f0753e9ff4a3417a788489bb9464bfd0&quot; style=&quot;width: 100.0%; height: 100.0%;&quot;&gt;Paramount Room&lt;/div&gt;`)[0];\n",
              "            popup_d0540352a07d64bdaf61a4d4762c7f4c.setContent(html_f0753e9ff4a3417a788489bb9464bfd0);\n",
              "        \n",
              "\n",
              "        marker_bb23764945ca5fdad01d3c9fb1fb99b4.bindPopup(popup_d0540352a07d64bdaf61a4d4762c7f4c)\n",
              "        ;\n",
              "\n",
              "        \n",
              "    \n",
              "    \n",
              "            var marker_82407fdb78ac6b864f269c9aafa5f455 = L.marker(\n",
              "                [41.91504990000001, -87.6778047],\n",
              "                {}\n",
              "            ).addTo(map_be1ea6176800cf6719766c62d67fe06d);\n",
              "        \n",
              "    \n",
              "        var popup_2a05192288639f2f93a043f8dbc50d93 = L.popup({&quot;maxWidth&quot;: &quot;100%&quot;});\n",
              "\n",
              "        \n",
              "            var html_871f99bb43a70a365756c59f53b82d10 = $(`&lt;div id=&quot;html_871f99bb43a70a365756c59f53b82d10&quot; style=&quot;width: 100.0%; height: 100.0%;&quot;&gt;Melt Sandwich Shoppe&lt;/div&gt;`)[0];\n",
              "            popup_2a05192288639f2f93a043f8dbc50d93.setContent(html_871f99bb43a70a365756c59f53b82d10);\n",
              "        \n",
              "\n",
              "        marker_82407fdb78ac6b864f269c9aafa5f455.bindPopup(popup_2a05192288639f2f93a043f8dbc50d93)\n",
              "        ;\n",
              "\n",
              "        \n",
              "    \n",
              "    \n",
              "            var marker_4087eef6fe92af6af535ce0dcd8302b2 = L.marker(\n",
              "                [41.9218523, -87.6592125],\n",
              "                {}\n",
              "            ).addTo(map_be1ea6176800cf6719766c62d67fe06d);\n",
              "        \n",
              "    \n",
              "        var popup_f5fa3aa255b6da347d48527ffb8bad00 = L.popup({&quot;maxWidth&quot;: &quot;100%&quot;});\n",
              "\n",
              "        \n",
              "            var html_6dc33f639007adc6c7e18552b50925ac = $(`&lt;div id=&quot;html_6dc33f639007adc6c7e18552b50925ac&quot; style=&quot;width: 100.0%; height: 100.0%;&quot;&gt;Floriole Cafe &amp; Bakery&lt;/div&gt;`)[0];\n",
              "            popup_f5fa3aa255b6da347d48527ffb8bad00.setContent(html_6dc33f639007adc6c7e18552b50925ac);\n",
              "        \n",
              "\n",
              "        marker_4087eef6fe92af6af535ce0dcd8302b2.bindPopup(popup_f5fa3aa255b6da347d48527ffb8bad00)\n",
              "        ;\n",
              "\n",
              "        \n",
              "    \n",
              "    \n",
              "            var marker_8105f92c62f0e86df433f2a609e204e6 = L.marker(\n",
              "                [41.9797099, -87.66934409999999],\n",
              "                {}\n",
              "            ).addTo(map_be1ea6176800cf6719766c62d67fe06d);\n",
              "        \n",
              "    \n",
              "        var popup_c79b9a8b1ad02810d4d747fb2640d36b = L.popup({&quot;maxWidth&quot;: &quot;100%&quot;});\n",
              "\n",
              "        \n",
              "            var html_60dc8d74509ec93b0d0b6f190e70aaa0 = $(`&lt;div id=&quot;html_60dc8d74509ec93b0d0b6f190e70aaa0&quot; style=&quot;width: 100.0%; height: 100.0%;&quot;&gt;First Slice Pie Café&lt;/div&gt;`)[0];\n",
              "            popup_c79b9a8b1ad02810d4d747fb2640d36b.setContent(html_60dc8d74509ec93b0d0b6f190e70aaa0);\n",
              "        \n",
              "\n",
              "        marker_8105f92c62f0e86df433f2a609e204e6.bindPopup(popup_c79b9a8b1ad02810d4d747fb2640d36b)\n",
              "        ;\n",
              "\n",
              "        \n",
              "    \n",
              "    \n",
              "            var marker_50c03106e2955fc80823371e306cf4c1 = L.marker(\n",
              "                [41.9617122, -87.67581620000001],\n",
              "                {}\n",
              "            ).addTo(map_be1ea6176800cf6719766c62d67fe06d);\n",
              "        \n",
              "    \n",
              "        var popup_2e5c171d7f2c05c0257f49f79855eed6 = L.popup({&quot;maxWidth&quot;: &quot;100%&quot;});\n",
              "\n",
              "        \n",
              "            var html_9255d67a2ac13966ff59e48806894be5 = $(`&lt;div id=&quot;html_9255d67a2ac13966ff59e48806894be5&quot; style=&quot;width: 100.0%; height: 100.0%;&quot;&gt;Troquet&lt;/div&gt;`)[0];\n",
              "            popup_2e5c171d7f2c05c0257f49f79855eed6.setContent(html_9255d67a2ac13966ff59e48806894be5);\n",
              "        \n",
              "\n",
              "        marker_50c03106e2955fc80823371e306cf4c1.bindPopup(popup_2e5c171d7f2c05c0257f49f79855eed6)\n",
              "        ;\n",
              "\n",
              "        \n",
              "    \n",
              "    \n",
              "            var marker_69bfaf569be2085048f63abebc218f62 = L.marker(\n",
              "                [41.8928895, -87.62787329999999],\n",
              "                {}\n",
              "            ).addTo(map_be1ea6176800cf6719766c62d67fe06d);\n",
              "        \n",
              "    \n",
              "        var popup_c509a81dfda864f5bfd86f9f7e57eb10 = L.popup({&quot;maxWidth&quot;: &quot;100%&quot;});\n",
              "\n",
              "        \n",
              "            var html_6dbe13379d07ec8150cef81644550fb4 = $(`&lt;div id=&quot;html_6dbe13379d07ec8150cef81644550fb4&quot; style=&quot;width: 100.0%; height: 100.0%;&quot;&gt;Grahamwich&lt;/div&gt;`)[0];\n",
              "            popup_c509a81dfda864f5bfd86f9f7e57eb10.setContent(html_6dbe13379d07ec8150cef81644550fb4);\n",
              "        \n",
              "\n",
              "        marker_69bfaf569be2085048f63abebc218f62.bindPopup(popup_c509a81dfda864f5bfd86f9f7e57eb10)\n",
              "        ;\n",
              "\n",
              "        \n",
              "    \n",
              "    \n",
              "            var marker_d0c3db6fcb729be5368918bbb238e064 = L.marker(\n",
              "                [41.9047551, -87.9396459],\n",
              "                {}\n",
              "            ).addTo(map_be1ea6176800cf6719766c62d67fe06d);\n",
              "        \n",
              "    \n",
              "        var popup_886bf045ebfa50974d78573c8d77262c = L.popup({&quot;maxWidth&quot;: &quot;100%&quot;});\n",
              "\n",
              "        \n",
              "            var html_2ed6aa8803c5d3333fdf3ac282daa1d2 = $(`&lt;div id=&quot;html_2ed6aa8803c5d3333fdf3ac282daa1d2&quot; style=&quot;width: 100.0%; height: 100.0%;&quot;&gt;Rosalia’s Deli&lt;/div&gt;`)[0];\n",
              "            popup_886bf045ebfa50974d78573c8d77262c.setContent(html_2ed6aa8803c5d3333fdf3ac282daa1d2);\n",
              "        \n",
              "\n",
              "        marker_d0c3db6fcb729be5368918bbb238e064.bindPopup(popup_886bf045ebfa50974d78573c8d77262c)\n",
              "        ;\n",
              "\n",
              "        \n",
              "    \n",
              "    \n",
              "            var marker_0a3173b5af85ead1f2796a164d5e78d2 = L.marker(\n",
              "                [41.7913249, -87.5938614],\n",
              "                {}\n",
              "            ).addTo(map_be1ea6176800cf6719766c62d67fe06d);\n",
              "        \n",
              "    \n",
              "        var popup_8323065749e817df76cef0a2b7a3b97c = L.popup({&quot;maxWidth&quot;: &quot;100%&quot;});\n",
              "\n",
              "        \n",
              "            var html_d7025e5b86ce1b5f55680c61e43e7726 = $(`&lt;div id=&quot;html_d7025e5b86ce1b5f55680c61e43e7726&quot; style=&quot;width: 100.0%; height: 100.0%;&quot;&gt;Z&amp;H MarketCafe&lt;/div&gt;`)[0];\n",
              "            popup_8323065749e817df76cef0a2b7a3b97c.setContent(html_d7025e5b86ce1b5f55680c61e43e7726);\n",
              "        \n",
              "\n",
              "        marker_0a3173b5af85ead1f2796a164d5e78d2.bindPopup(popup_8323065749e817df76cef0a2b7a3b97c)\n",
              "        ;\n",
              "\n",
              "        \n",
              "    \n",
              "    \n",
              "            var marker_fce1e850fefa355250d760e6c60c19a8 = L.marker(\n",
              "                [42.25178409999999, -87.8413535],\n",
              "                {}\n",
              "            ).addTo(map_be1ea6176800cf6719766c62d67fe06d);\n",
              "        \n",
              "    \n",
              "        var popup_cb26284ad1c805c5c3dfd6bbaf3c42b1 = L.popup({&quot;maxWidth&quot;: &quot;100%&quot;});\n",
              "\n",
              "        \n",
              "            var html_309143c90f705aa6eea120f67c0ab3a8 = $(`&lt;div id=&quot;html_309143c90f705aa6eea120f67c0ab3a8&quot; style=&quot;width: 100.0%; height: 100.0%;&quot;&gt;Market House on the Square&lt;/div&gt;`)[0];\n",
              "            popup_cb26284ad1c805c5c3dfd6bbaf3c42b1.setContent(html_309143c90f705aa6eea120f67c0ab3a8);\n",
              "        \n",
              "\n",
              "        marker_fce1e850fefa355250d760e6c60c19a8.bindPopup(popup_cb26284ad1c805c5c3dfd6bbaf3c42b1)\n",
              "        ;\n",
              "\n",
              "        \n",
              "    \n",
              "    \n",
              "            var marker_3c911f00d7f0b79b9b1e1e7d640e4f1e = L.marker(\n",
              "                [41.9152875, -87.6343888],\n",
              "                {}\n",
              "            ).addTo(map_be1ea6176800cf6719766c62d67fe06d);\n",
              "        \n",
              "    \n",
              "        var popup_0d9dfc62e2fc5d3710aab9b791f8bf1b = L.popup({&quot;maxWidth&quot;: &quot;100%&quot;});\n",
              "\n",
              "        \n",
              "            var html_7fd083f11ee71e0e3ffb0448151364e9 = $(`&lt;div id=&quot;html_7fd083f11ee71e0e3ffb0448151364e9&quot; style=&quot;width: 100.0%; height: 100.0%;&quot;&gt;Elaine’s Coffee Call&lt;/div&gt;`)[0];\n",
              "            popup_0d9dfc62e2fc5d3710aab9b791f8bf1b.setContent(html_7fd083f11ee71e0e3ffb0448151364e9);\n",
              "        \n",
              "\n",
              "        marker_3c911f00d7f0b79b9b1e1e7d640e4f1e.bindPopup(popup_0d9dfc62e2fc5d3710aab9b791f8bf1b)\n",
              "        ;\n",
              "\n",
              "        \n",
              "    \n",
              "    \n",
              "            var marker_77693a223c4f2679133a52414c4c97a9 = L.marker(\n",
              "                [41.8863622, -87.8022297],\n",
              "                {}\n",
              "            ).addTo(map_be1ea6176800cf6719766c62d67fe06d);\n",
              "        \n",
              "    \n",
              "        var popup_535f61767fd54df253fc741027d80c4c = L.popup({&quot;maxWidth&quot;: &quot;100%&quot;});\n",
              "\n",
              "        \n",
              "            var html_5a15d2fb2cfc8b3ebe50c8378e09a6fc = $(`&lt;div id=&quot;html_5a15d2fb2cfc8b3ebe50c8378e09a6fc&quot; style=&quot;width: 100.0%; height: 100.0%;&quot;&gt;Marion Street Cheese Market&lt;/div&gt;`)[0];\n",
              "            popup_535f61767fd54df253fc741027d80c4c.setContent(html_5a15d2fb2cfc8b3ebe50c8378e09a6fc);\n",
              "        \n",
              "\n",
              "        marker_77693a223c4f2679133a52414c4c97a9.bindPopup(popup_535f61767fd54df253fc741027d80c4c)\n",
              "        ;\n",
              "\n",
              "        \n",
              "    \n",
              "    \n",
              "            var marker_9d91b7eda4567bc0c0e94c7505470fc4 = L.marker(\n",
              "                [41.8758207, -87.6264589],\n",
              "                {}\n",
              "            ).addTo(map_be1ea6176800cf6719766c62d67fe06d);\n",
              "        \n",
              "    \n",
              "        var popup_4a3585a8ec1a3f215662e407766784e6 = L.popup({&quot;maxWidth&quot;: &quot;100%&quot;});\n",
              "\n",
              "        \n",
              "            var html_bafe3b2cc2968afd3d8a0605182f8f82 = $(`&lt;div id=&quot;html_bafe3b2cc2968afd3d8a0605182f8f82&quot; style=&quot;width: 100.0%; height: 100.0%;&quot;&gt;Cafecito&lt;/div&gt;`)[0];\n",
              "            popup_4a3585a8ec1a3f215662e407766784e6.setContent(html_bafe3b2cc2968afd3d8a0605182f8f82);\n",
              "        \n",
              "\n",
              "        marker_9d91b7eda4567bc0c0e94c7505470fc4.bindPopup(popup_4a3585a8ec1a3f215662e407766784e6)\n",
              "        ;\n",
              "\n",
              "        \n",
              "    \n",
              "    \n",
              "            var marker_32a17c94b212322f6ce1461b2fce701b = L.marker(\n",
              "                [41.8961134, -87.677857],\n",
              "                {}\n",
              "            ).addTo(map_be1ea6176800cf6719766c62d67fe06d);\n",
              "        \n",
              "    \n",
              "        var popup_9228ee6ff73de96a6f35c0899493df37 = L.popup({&quot;maxWidth&quot;: &quot;100%&quot;});\n",
              "\n",
              "        \n",
              "            var html_57a659b7f85484112a07d163932b2426 = $(`&lt;div id=&quot;html_57a659b7f85484112a07d163932b2426&quot; style=&quot;width: 100.0%; height: 100.0%;&quot;&gt;Chickpea&lt;/div&gt;`)[0];\n",
              "            popup_9228ee6ff73de96a6f35c0899493df37.setContent(html_57a659b7f85484112a07d163932b2426);\n",
              "        \n",
              "\n",
              "        marker_32a17c94b212322f6ce1461b2fce701b.bindPopup(popup_9228ee6ff73de96a6f35c0899493df37)\n",
              "        ;\n",
              "\n",
              "        \n",
              "    \n",
              "    \n",
              "            var marker_f08f6d6ee413563ca7a7aa29f5e79dd3 = L.marker(\n",
              "                [41.89897850000001, -87.6273926],\n",
              "                {}\n",
              "            ).addTo(map_be1ea6176800cf6719766c62d67fe06d);\n",
              "        \n",
              "    \n",
              "        var popup_0167474a02647c326974ef9462e8232b = L.popup({&quot;maxWidth&quot;: &quot;100%&quot;});\n",
              "\n",
              "        \n",
              "            var html_1127705c163aa324852d83edc99477cb = $(`&lt;div id=&quot;html_1127705c163aa324852d83edc99477cb&quot; style=&quot;width: 100.0%; height: 100.0%;&quot;&gt;The Goddess and Grocer&lt;/div&gt;`)[0];\n",
              "            popup_0167474a02647c326974ef9462e8232b.setContent(html_1127705c163aa324852d83edc99477cb);\n",
              "        \n",
              "\n",
              "        marker_f08f6d6ee413563ca7a7aa29f5e79dd3.bindPopup(popup_0167474a02647c326974ef9462e8232b)\n",
              "        ;\n",
              "\n",
              "        \n",
              "    \n",
              "    \n",
              "            var marker_b34be52ff9227fe0e905801c0fc4a161 = L.marker(\n",
              "                [41.9105832, -87.94048839999999],\n",
              "                {}\n",
              "            ).addTo(map_be1ea6176800cf6719766c62d67fe06d);\n",
              "        \n",
              "    \n",
              "        var popup_912f651c654f7afb7b7c494461573493 = L.popup({&quot;maxWidth&quot;: &quot;100%&quot;});\n",
              "\n",
              "        \n",
              "            var html_852165d19588a9361fbf70f456241e32 = $(`&lt;div id=&quot;html_852165d19588a9361fbf70f456241e32&quot; style=&quot;width: 100.0%; height: 100.0%;&quot;&gt;Zenwich&lt;/div&gt;`)[0];\n",
              "            popup_912f651c654f7afb7b7c494461573493.setContent(html_852165d19588a9361fbf70f456241e32);\n",
              "        \n",
              "\n",
              "        marker_b34be52ff9227fe0e905801c0fc4a161.bindPopup(popup_912f651c654f7afb7b7c494461573493)\n",
              "        ;\n",
              "\n",
              "        \n",
              "    \n",
              "    \n",
              "            var marker_e33513dda8a7e45b0a7cd37c5a5c52af = L.marker(\n",
              "                [41.8831061, -87.6254381],\n",
              "                {}\n",
              "            ).addTo(map_be1ea6176800cf6719766c62d67fe06d);\n",
              "        \n",
              "    \n",
              "        var popup_c7dd1d77763f6be4b5ae6090d0017be3 = L.popup({&quot;maxWidth&quot;: &quot;100%&quot;});\n",
              "\n",
              "        \n",
              "            var html_25f818f2bd21d681ab2236a83026e7bc = $(`&lt;div id=&quot;html_25f818f2bd21d681ab2236a83026e7bc&quot; style=&quot;width: 100.0%; height: 100.0%;&quot;&gt;Toni Patisserie&lt;/div&gt;`)[0];\n",
              "            popup_c7dd1d77763f6be4b5ae6090d0017be3.setContent(html_25f818f2bd21d681ab2236a83026e7bc);\n",
              "        \n",
              "\n",
              "        marker_e33513dda8a7e45b0a7cd37c5a5c52af.bindPopup(popup_c7dd1d77763f6be4b5ae6090d0017be3)\n",
              "        ;\n",
              "\n",
              "        \n",
              "    \n",
              "    \n",
              "            var marker_0e68f921a93898790bcb937eb0c3d56b = L.marker(\n",
              "                [41.9427248, -87.6442871],\n",
              "                {}\n",
              "            ).addTo(map_be1ea6176800cf6719766c62d67fe06d);\n",
              "        \n",
              "    \n",
              "        var popup_5113d22a6acb7681b0bd38b9d75139fa = L.popup({&quot;maxWidth&quot;: &quot;100%&quot;});\n",
              "\n",
              "        \n",
              "            var html_f1518b6203b76d459b645f9c28101f23 = $(`&lt;div id=&quot;html_f1518b6203b76d459b645f9c28101f23&quot; style=&quot;width: 100.0%; height: 100.0%;&quot;&gt;Phoebe’s Bakery&lt;/div&gt;`)[0];\n",
              "            popup_5113d22a6acb7681b0bd38b9d75139fa.setContent(html_f1518b6203b76d459b645f9c28101f23);\n",
              "        \n",
              "\n",
              "        marker_0e68f921a93898790bcb937eb0c3d56b.bindPopup(popup_5113d22a6acb7681b0bd38b9d75139fa)\n",
              "        ;\n",
              "\n",
              "        \n",
              "    \n",
              "&lt;/script&gt;\" style=\"position:absolute;width:100%;height:100%;left:0;top:0;border:none !important;\" allowfullscreen webkitallowfullscreen mozallowfullscreen></iframe></div></div>"
            ]
          },
          "metadata": {},
          "execution_count": 37
        }
      ]
    }
  ]
}