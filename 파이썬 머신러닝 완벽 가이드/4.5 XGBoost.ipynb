{
  "nbformat": 4,
  "nbformat_minor": 0,
  "metadata": {
    "colab": {
      "provenance": [],
      "authorship_tag": "ABX9TyOo1VIQaPeh2nP+Obd6qNxi"
    },
    "kernelspec": {
      "name": "python3",
      "display_name": "Python 3"
    },
    "language_info": {
      "name": "python"
    }
  },
  "cells": [
    {
      "cell_type": "markdown",
      "source": [
        "## 4.5 XGBoost(eXtra Gradient Boost)\n",
        "### 4.5.1 XGBoost 설치"
      ],
      "metadata": {
        "id": "c5MQ27hozy0k"
      }
    },
    {
      "cell_type": "code",
      "execution_count": 4,
      "metadata": {
        "colab": {
          "base_uri": "https://localhost:8080/"
        },
        "id": "oyqED2PpzvPE",
        "outputId": "0082b3ea-872e-42a0-909a-c6c571a59dce"
      },
      "outputs": [
        {
          "output_type": "stream",
          "name": "stdout",
          "text": [
            "Looking in indexes: https://pypi.org/simple, https://us-python.pkg.dev/colab-wheels/public/simple/\n",
            "Requirement already satisfied: xgboost in /usr/local/lib/python3.8/dist-packages (0.90)\n",
            "Requirement already satisfied: scipy in /usr/local/lib/python3.8/dist-packages (from xgboost) (1.7.3)\n",
            "Requirement already satisfied: numpy in /usr/local/lib/python3.8/dist-packages (from xgboost) (1.21.6)\n"
          ]
        }
      ],
      "source": [
        "#pip install xgboost"
      ]
    },
    {
      "cell_type": "code",
      "source": [
        "import xgboost as xgb\n",
        "from xgboost import XGBClassifier"
      ],
      "metadata": {
        "id": "Ts69vaBS2hMk"
      },
      "execution_count": 5,
      "outputs": []
    },
    {
      "cell_type": "markdown",
      "source": [
        "### 4.5.2 위스콘신 유방암 예측"
      ],
      "metadata": {
        "id": "zt3LDehS20ax"
      }
    },
    {
      "cell_type": "code",
      "source": [
        "from xgboost import plot_importance\n",
        "import pandas as pd\n",
        "import numpy as np\n",
        "from sklearn.datasets import load_breast_cancer\n",
        "from sklearn.model_selection import train_test_split\n",
        "import warnings\n",
        "warnings.filterwarnings('ignore')"
      ],
      "metadata": {
        "id": "sM76hny92-1c"
      },
      "execution_count": 6,
      "outputs": []
    },
    {
      "cell_type": "code",
      "source": [
        "dataset = load_breast_cancer()\n",
        "features = dataset.data\n",
        "labels = dataset.target"
      ],
      "metadata": {
        "id": "gnaPtSdn3SnR"
      },
      "execution_count": 8,
      "outputs": []
    },
    {
      "cell_type": "code",
      "source": [
        "cancer_df = pd.DataFrame(data=features, columns = dataset.feature_names)\n",
        "cancer_df['target'] = labels\n",
        "cancer_df.head()"
      ],
      "metadata": {
        "colab": {
          "base_uri": "https://localhost:8080/",
          "height": 305
        },
        "id": "uICytQMW3ZWq",
        "outputId": "b99710aa-b4bb-41c8-a431-96f91a0b8554"
      },
      "execution_count": 9,
      "outputs": [
        {
          "output_type": "execute_result",
          "data": {
            "text/plain": [
              "   mean radius  mean texture  ...  worst fractal dimension  target\n",
              "0        17.99         10.38  ...                  0.11890       0\n",
              "1        20.57         17.77  ...                  0.08902       0\n",
              "2        19.69         21.25  ...                  0.08758       0\n",
              "3        11.42         20.38  ...                  0.17300       0\n",
              "4        20.29         14.34  ...                  0.07678       0\n",
              "\n",
              "[5 rows x 31 columns]"
            ],
            "text/html": [
              "\n",
              "  <div id=\"df-6c303eac-75e7-484c-82e5-94f3a49cf550\">\n",
              "    <div class=\"colab-df-container\">\n",
              "      <div>\n",
              "<style scoped>\n",
              "    .dataframe tbody tr th:only-of-type {\n",
              "        vertical-align: middle;\n",
              "    }\n",
              "\n",
              "    .dataframe tbody tr th {\n",
              "        vertical-align: top;\n",
              "    }\n",
              "\n",
              "    .dataframe thead th {\n",
              "        text-align: right;\n",
              "    }\n",
              "</style>\n",
              "<table border=\"1\" class=\"dataframe\">\n",
              "  <thead>\n",
              "    <tr style=\"text-align: right;\">\n",
              "      <th></th>\n",
              "      <th>mean radius</th>\n",
              "      <th>mean texture</th>\n",
              "      <th>mean perimeter</th>\n",
              "      <th>mean area</th>\n",
              "      <th>mean smoothness</th>\n",
              "      <th>mean compactness</th>\n",
              "      <th>mean concavity</th>\n",
              "      <th>mean concave points</th>\n",
              "      <th>mean symmetry</th>\n",
              "      <th>mean fractal dimension</th>\n",
              "      <th>radius error</th>\n",
              "      <th>texture error</th>\n",
              "      <th>perimeter error</th>\n",
              "      <th>area error</th>\n",
              "      <th>smoothness error</th>\n",
              "      <th>compactness error</th>\n",
              "      <th>concavity error</th>\n",
              "      <th>concave points error</th>\n",
              "      <th>symmetry error</th>\n",
              "      <th>fractal dimension error</th>\n",
              "      <th>worst radius</th>\n",
              "      <th>worst texture</th>\n",
              "      <th>worst perimeter</th>\n",
              "      <th>worst area</th>\n",
              "      <th>worst smoothness</th>\n",
              "      <th>worst compactness</th>\n",
              "      <th>worst concavity</th>\n",
              "      <th>worst concave points</th>\n",
              "      <th>worst symmetry</th>\n",
              "      <th>worst fractal dimension</th>\n",
              "      <th>target</th>\n",
              "    </tr>\n",
              "  </thead>\n",
              "  <tbody>\n",
              "    <tr>\n",
              "      <th>0</th>\n",
              "      <td>17.99</td>\n",
              "      <td>10.38</td>\n",
              "      <td>122.80</td>\n",
              "      <td>1001.0</td>\n",
              "      <td>0.11840</td>\n",
              "      <td>0.27760</td>\n",
              "      <td>0.3001</td>\n",
              "      <td>0.14710</td>\n",
              "      <td>0.2419</td>\n",
              "      <td>0.07871</td>\n",
              "      <td>1.0950</td>\n",
              "      <td>0.9053</td>\n",
              "      <td>8.589</td>\n",
              "      <td>153.40</td>\n",
              "      <td>0.006399</td>\n",
              "      <td>0.04904</td>\n",
              "      <td>0.05373</td>\n",
              "      <td>0.01587</td>\n",
              "      <td>0.03003</td>\n",
              "      <td>0.006193</td>\n",
              "      <td>25.38</td>\n",
              "      <td>17.33</td>\n",
              "      <td>184.60</td>\n",
              "      <td>2019.0</td>\n",
              "      <td>0.1622</td>\n",
              "      <td>0.6656</td>\n",
              "      <td>0.7119</td>\n",
              "      <td>0.2654</td>\n",
              "      <td>0.4601</td>\n",
              "      <td>0.11890</td>\n",
              "      <td>0</td>\n",
              "    </tr>\n",
              "    <tr>\n",
              "      <th>1</th>\n",
              "      <td>20.57</td>\n",
              "      <td>17.77</td>\n",
              "      <td>132.90</td>\n",
              "      <td>1326.0</td>\n",
              "      <td>0.08474</td>\n",
              "      <td>0.07864</td>\n",
              "      <td>0.0869</td>\n",
              "      <td>0.07017</td>\n",
              "      <td>0.1812</td>\n",
              "      <td>0.05667</td>\n",
              "      <td>0.5435</td>\n",
              "      <td>0.7339</td>\n",
              "      <td>3.398</td>\n",
              "      <td>74.08</td>\n",
              "      <td>0.005225</td>\n",
              "      <td>0.01308</td>\n",
              "      <td>0.01860</td>\n",
              "      <td>0.01340</td>\n",
              "      <td>0.01389</td>\n",
              "      <td>0.003532</td>\n",
              "      <td>24.99</td>\n",
              "      <td>23.41</td>\n",
              "      <td>158.80</td>\n",
              "      <td>1956.0</td>\n",
              "      <td>0.1238</td>\n",
              "      <td>0.1866</td>\n",
              "      <td>0.2416</td>\n",
              "      <td>0.1860</td>\n",
              "      <td>0.2750</td>\n",
              "      <td>0.08902</td>\n",
              "      <td>0</td>\n",
              "    </tr>\n",
              "    <tr>\n",
              "      <th>2</th>\n",
              "      <td>19.69</td>\n",
              "      <td>21.25</td>\n",
              "      <td>130.00</td>\n",
              "      <td>1203.0</td>\n",
              "      <td>0.10960</td>\n",
              "      <td>0.15990</td>\n",
              "      <td>0.1974</td>\n",
              "      <td>0.12790</td>\n",
              "      <td>0.2069</td>\n",
              "      <td>0.05999</td>\n",
              "      <td>0.7456</td>\n",
              "      <td>0.7869</td>\n",
              "      <td>4.585</td>\n",
              "      <td>94.03</td>\n",
              "      <td>0.006150</td>\n",
              "      <td>0.04006</td>\n",
              "      <td>0.03832</td>\n",
              "      <td>0.02058</td>\n",
              "      <td>0.02250</td>\n",
              "      <td>0.004571</td>\n",
              "      <td>23.57</td>\n",
              "      <td>25.53</td>\n",
              "      <td>152.50</td>\n",
              "      <td>1709.0</td>\n",
              "      <td>0.1444</td>\n",
              "      <td>0.4245</td>\n",
              "      <td>0.4504</td>\n",
              "      <td>0.2430</td>\n",
              "      <td>0.3613</td>\n",
              "      <td>0.08758</td>\n",
              "      <td>0</td>\n",
              "    </tr>\n",
              "    <tr>\n",
              "      <th>3</th>\n",
              "      <td>11.42</td>\n",
              "      <td>20.38</td>\n",
              "      <td>77.58</td>\n",
              "      <td>386.1</td>\n",
              "      <td>0.14250</td>\n",
              "      <td>0.28390</td>\n",
              "      <td>0.2414</td>\n",
              "      <td>0.10520</td>\n",
              "      <td>0.2597</td>\n",
              "      <td>0.09744</td>\n",
              "      <td>0.4956</td>\n",
              "      <td>1.1560</td>\n",
              "      <td>3.445</td>\n",
              "      <td>27.23</td>\n",
              "      <td>0.009110</td>\n",
              "      <td>0.07458</td>\n",
              "      <td>0.05661</td>\n",
              "      <td>0.01867</td>\n",
              "      <td>0.05963</td>\n",
              "      <td>0.009208</td>\n",
              "      <td>14.91</td>\n",
              "      <td>26.50</td>\n",
              "      <td>98.87</td>\n",
              "      <td>567.7</td>\n",
              "      <td>0.2098</td>\n",
              "      <td>0.8663</td>\n",
              "      <td>0.6869</td>\n",
              "      <td>0.2575</td>\n",
              "      <td>0.6638</td>\n",
              "      <td>0.17300</td>\n",
              "      <td>0</td>\n",
              "    </tr>\n",
              "    <tr>\n",
              "      <th>4</th>\n",
              "      <td>20.29</td>\n",
              "      <td>14.34</td>\n",
              "      <td>135.10</td>\n",
              "      <td>1297.0</td>\n",
              "      <td>0.10030</td>\n",
              "      <td>0.13280</td>\n",
              "      <td>0.1980</td>\n",
              "      <td>0.10430</td>\n",
              "      <td>0.1809</td>\n",
              "      <td>0.05883</td>\n",
              "      <td>0.7572</td>\n",
              "      <td>0.7813</td>\n",
              "      <td>5.438</td>\n",
              "      <td>94.44</td>\n",
              "      <td>0.011490</td>\n",
              "      <td>0.02461</td>\n",
              "      <td>0.05688</td>\n",
              "      <td>0.01885</td>\n",
              "      <td>0.01756</td>\n",
              "      <td>0.005115</td>\n",
              "      <td>22.54</td>\n",
              "      <td>16.67</td>\n",
              "      <td>152.20</td>\n",
              "      <td>1575.0</td>\n",
              "      <td>0.1374</td>\n",
              "      <td>0.2050</td>\n",
              "      <td>0.4000</td>\n",
              "      <td>0.1625</td>\n",
              "      <td>0.2364</td>\n",
              "      <td>0.07678</td>\n",
              "      <td>0</td>\n",
              "    </tr>\n",
              "  </tbody>\n",
              "</table>\n",
              "</div>\n",
              "      <button class=\"colab-df-convert\" onclick=\"convertToInteractive('df-6c303eac-75e7-484c-82e5-94f3a49cf550')\"\n",
              "              title=\"Convert this dataframe to an interactive table.\"\n",
              "              style=\"display:none;\">\n",
              "        \n",
              "  <svg xmlns=\"http://www.w3.org/2000/svg\" height=\"24px\"viewBox=\"0 0 24 24\"\n",
              "       width=\"24px\">\n",
              "    <path d=\"M0 0h24v24H0V0z\" fill=\"none\"/>\n",
              "    <path d=\"M18.56 5.44l.94 2.06.94-2.06 2.06-.94-2.06-.94-.94-2.06-.94 2.06-2.06.94zm-11 1L8.5 8.5l.94-2.06 2.06-.94-2.06-.94L8.5 2.5l-.94 2.06-2.06.94zm10 10l.94 2.06.94-2.06 2.06-.94-2.06-.94-.94-2.06-.94 2.06-2.06.94z\"/><path d=\"M17.41 7.96l-1.37-1.37c-.4-.4-.92-.59-1.43-.59-.52 0-1.04.2-1.43.59L10.3 9.45l-7.72 7.72c-.78.78-.78 2.05 0 2.83L4 21.41c.39.39.9.59 1.41.59.51 0 1.02-.2 1.41-.59l7.78-7.78 2.81-2.81c.8-.78.8-2.07 0-2.86zM5.41 20L4 18.59l7.72-7.72 1.47 1.35L5.41 20z\"/>\n",
              "  </svg>\n",
              "      </button>\n",
              "      \n",
              "  <style>\n",
              "    .colab-df-container {\n",
              "      display:flex;\n",
              "      flex-wrap:wrap;\n",
              "      gap: 12px;\n",
              "    }\n",
              "\n",
              "    .colab-df-convert {\n",
              "      background-color: #E8F0FE;\n",
              "      border: none;\n",
              "      border-radius: 50%;\n",
              "      cursor: pointer;\n",
              "      display: none;\n",
              "      fill: #1967D2;\n",
              "      height: 32px;\n",
              "      padding: 0 0 0 0;\n",
              "      width: 32px;\n",
              "    }\n",
              "\n",
              "    .colab-df-convert:hover {\n",
              "      background-color: #E2EBFA;\n",
              "      box-shadow: 0px 1px 2px rgba(60, 64, 67, 0.3), 0px 1px 3px 1px rgba(60, 64, 67, 0.15);\n",
              "      fill: #174EA6;\n",
              "    }\n",
              "\n",
              "    [theme=dark] .colab-df-convert {\n",
              "      background-color: #3B4455;\n",
              "      fill: #D2E3FC;\n",
              "    }\n",
              "\n",
              "    [theme=dark] .colab-df-convert:hover {\n",
              "      background-color: #434B5C;\n",
              "      box-shadow: 0px 1px 3px 1px rgba(0, 0, 0, 0.15);\n",
              "      filter: drop-shadow(0px 1px 2px rgba(0, 0, 0, 0.3));\n",
              "      fill: #FFFFFF;\n",
              "    }\n",
              "  </style>\n",
              "\n",
              "      <script>\n",
              "        const buttonEl =\n",
              "          document.querySelector('#df-6c303eac-75e7-484c-82e5-94f3a49cf550 button.colab-df-convert');\n",
              "        buttonEl.style.display =\n",
              "          google.colab.kernel.accessAllowed ? 'block' : 'none';\n",
              "\n",
              "        async function convertToInteractive(key) {\n",
              "          const element = document.querySelector('#df-6c303eac-75e7-484c-82e5-94f3a49cf550');\n",
              "          const dataTable =\n",
              "            await google.colab.kernel.invokeFunction('convertToInteractive',\n",
              "                                                     [key], {});\n",
              "          if (!dataTable) return;\n",
              "\n",
              "          const docLinkHtml = 'Like what you see? Visit the ' +\n",
              "            '<a target=\"_blank\" href=https://colab.research.google.com/notebooks/data_table.ipynb>data table notebook</a>'\n",
              "            + ' to learn more about interactive tables.';\n",
              "          element.innerHTML = '';\n",
              "          dataTable['output_type'] = 'display_data';\n",
              "          await google.colab.output.renderOutput(dataTable, element);\n",
              "          const docLink = document.createElement('div');\n",
              "          docLink.innerHTML = docLinkHtml;\n",
              "          element.appendChild(docLink);\n",
              "        }\n",
              "      </script>\n",
              "    </div>\n",
              "  </div>\n",
              "  "
            ]
          },
          "metadata": {},
          "execution_count": 9
        }
      ]
    },
    {
      "cell_type": "code",
      "source": [
        "print(dataset.target_names)\n",
        "print(cancer_df['target'].value_counts())"
      ],
      "metadata": {
        "colab": {
          "base_uri": "https://localhost:8080/"
        },
        "id": "7-3B-_kQ3lHk",
        "outputId": "a1b61dd8-eb82-4aaa-947b-572562a7299f"
      },
      "execution_count": 10,
      "outputs": [
        {
          "output_type": "stream",
          "name": "stdout",
          "text": [
            "['malignant' 'benign']\n",
            "1    357\n",
            "0    212\n",
            "Name: target, dtype: int64\n"
          ]
        }
      ]
    },
    {
      "cell_type": "markdown",
      "source": [
        "양성: malignant(357)\n",
        "음성: benign(212)"
      ],
      "metadata": {
        "id": "EP3G9Dhi3uku"
      }
    },
    {
      "cell_type": "code",
      "source": [
        "# cancer_df에서 feature용 DataFrame과 Label용 Series 객체 추출\n",
        "# 맨 마지막 칼럼이 label\n",
        "\n",
        "X_features = cancer_df.iloc[:,:-1]\n",
        "y_label = cancer_df.iloc[:,-1]"
      ],
      "metadata": {
        "id": "Zja1cqao3z-h"
      },
      "execution_count": 11,
      "outputs": []
    },
    {
      "cell_type": "code",
      "source": [
        "X_train, X_test, y_train, y_test = train_test_split(X_features, y_label, test_size=0.2, random_state=156)\n",
        "\n",
        "# 위에서 만든 X_train, y_train을 다시 쪼개서 90%는 학습과 10%는 검증용 데이터로 분리\n",
        "X_tr, X_val, y_tr, y_val = train_test_split(X_train, y_train, test_size=0.1, random_state=156)\n",
        "\n",
        "print(X_train.shape, X_test.shape)\n",
        "print(X_tr.shape, X_val.shape)"
      ],
      "metadata": {
        "colab": {
          "base_uri": "https://localhost:8080/"
        },
        "id": "9ZMqunQf4EK5",
        "outputId": "481d00dd-d3bc-43f0-d000-36181ca32184"
      },
      "execution_count": 12,
      "outputs": [
        {
          "output_type": "stream",
          "name": "stdout",
          "text": [
            "(455, 30) (114, 30)\n",
            "(409, 30) (46, 30)\n"
          ]
        }
      ]
    },
    {
      "cell_type": "code",
      "source": [
        "dtr = xgb.DMatrix(data=X_tr, label=y_tr)\n",
        "dval = xgb.DMatrix(data=X_val, label=y_val)\n",
        "dtest = xgb.DMatrix(data=X_test, label=y_test)"
      ],
      "metadata": {
        "id": "C1XGjQ1A4og2"
      },
      "execution_count": 13,
      "outputs": []
    },
    {
      "cell_type": "code",
      "source": [
        "params={'max_depth':3, \n",
        "        'eta':0.05,\n",
        "        'objective': 'binary:logistic',\n",
        "        'eval_metric':'logloss'}\n",
        "num_rounds=400"
      ],
      "metadata": {
        "id": "8cda1-3t43-C"
      },
      "execution_count": 15,
      "outputs": []
    },
    {
      "cell_type": "code",
      "source": [
        "# 학습 데이터 셋은 'train' 평가 데이터셋은 'eval'로 명기\n",
        "eval_list = [(dtr, 'train'), (dval, 'eval')]\n",
        "\n",
        "xgb_model = xgb.train(params = params, dtrain = dtr, num_boost_round = num_rounds, early_stopping_rounds=50, evals=eval_list)"
      ],
      "metadata": {
        "colab": {
          "base_uri": "https://localhost:8080/"
        },
        "id": "4CjWt03L5GtB",
        "outputId": "14878603-b08d-40e9-cd49-c9265e61fea8"
      },
      "execution_count": 16,
      "outputs": [
        {
          "output_type": "stream",
          "name": "stdout",
          "text": [
            "[0]\ttrain-logloss:0.650163\teval-logloss:0.661831\n",
            "Multiple eval metrics have been passed: 'eval-logloss' will be used for early stopping.\n",
            "\n",
            "Will train until eval-logloss hasn't improved in 50 rounds.\n",
            "[1]\ttrain-logloss:0.611313\teval-logloss:0.636086\n",
            "[2]\ttrain-logloss:0.575629\teval-logloss:0.611436\n",
            "[3]\ttrain-logloss:0.543102\teval-logloss:0.592036\n",
            "[4]\ttrain-logloss:0.513233\teval-logloss:0.573291\n",
            "[5]\ttrain-logloss:0.484475\teval-logloss:0.550371\n",
            "[6]\ttrain-logloss:0.457959\teval-logloss:0.529295\n",
            "[7]\ttrain-logloss:0.434357\teval-logloss:0.51534\n",
            "[8]\ttrain-logloss:0.411503\teval-logloss:0.497179\n",
            "[9]\ttrain-logloss:0.390274\teval-logloss:0.481542\n",
            "[10]\ttrain-logloss:0.371284\teval-logloss:0.469904\n",
            "[11]\ttrain-logloss:0.352541\teval-logloss:0.45474\n",
            "[12]\ttrain-logloss:0.335277\teval-logloss:0.442294\n",
            "[13]\ttrain-logloss:0.318925\teval-logloss:0.429608\n",
            "[14]\ttrain-logloss:0.304394\teval-logloss:0.42065\n",
            "[15]\ttrain-logloss:0.289996\teval-logloss:0.409577\n",
            "[16]\ttrain-logloss:0.276514\teval-logloss:0.398867\n",
            "[17]\ttrain-logloss:0.263894\teval-logloss:0.390504\n",
            "[18]\ttrain-logloss:0.252102\teval-logloss:0.382539\n",
            "[19]\ttrain-logloss:0.24123\teval-logloss:0.373933\n",
            "[20]\ttrain-logloss:0.230763\teval-logloss:0.367887\n",
            "[21]\ttrain-logloss:0.220913\teval-logloss:0.360174\n",
            "[22]\ttrain-logloss:0.211554\teval-logloss:0.354212\n",
            "[23]\ttrain-logloss:0.20263\teval-logloss:0.346828\n",
            "[24]\ttrain-logloss:0.19434\teval-logloss:0.341107\n",
            "[25]\ttrain-logloss:0.186369\teval-logloss:0.336341\n",
            "[26]\ttrain-logloss:0.178749\teval-logloss:0.330823\n",
            "[27]\ttrain-logloss:0.171671\teval-logloss:0.326745\n",
            "[28]\ttrain-logloss:0.164815\teval-logloss:0.32099\n",
            "[29]\ttrain-logloss:0.158348\teval-logloss:0.316706\n",
            "[30]\ttrain-logloss:0.152249\teval-logloss:0.312766\n",
            "[31]\ttrain-logloss:0.146498\teval-logloss:0.308823\n",
            "[32]\ttrain-logloss:0.141022\teval-logloss:0.304374\n",
            "[33]\ttrain-logloss:0.135903\teval-logloss:0.301034\n",
            "[34]\ttrain-logloss:0.131089\teval-logloss:0.297937\n",
            "[35]\ttrain-logloss:0.126469\teval-logloss:0.294994\n",
            "[36]\ttrain-logloss:0.121972\teval-logloss:0.292951\n",
            "[37]\ttrain-logloss:0.117843\teval-logloss:0.290434\n",
            "[38]\ttrain-logloss:0.113793\teval-logloss:0.289272\n",
            "[39]\ttrain-logloss:0.109943\teval-logloss:0.285777\n",
            "[40]\ttrain-logloss:0.106376\teval-logloss:0.283644\n",
            "[41]\ttrain-logloss:0.103022\teval-logloss:0.281831\n",
            "[42]\ttrain-logloss:0.099625\teval-logloss:0.280047\n",
            "[43]\ttrain-logloss:0.096486\teval-logloss:0.279718\n",
            "[44]\ttrain-logloss:0.093594\teval-logloss:0.277438\n",
            "[45]\ttrain-logloss:0.090803\teval-logloss:0.275416\n",
            "[46]\ttrain-logloss:0.088072\teval-logloss:0.275038\n",
            "[47]\ttrain-logloss:0.085411\teval-logloss:0.274579\n",
            "[48]\ttrain-logloss:0.082988\teval-logloss:0.273483\n",
            "[49]\ttrain-logloss:0.080349\teval-logloss:0.272474\n",
            "[50]\ttrain-logloss:0.077858\teval-logloss:0.271628\n",
            "[51]\ttrain-logloss:0.075504\teval-logloss:0.270936\n",
            "[52]\ttrain-logloss:0.073438\teval-logloss:0.26967\n",
            "[53]\ttrain-logloss:0.071468\teval-logloss:0.270078\n",
            "[54]\ttrain-logloss:0.069642\teval-logloss:0.268902\n",
            "[55]\ttrain-logloss:0.067661\teval-logloss:0.268544\n",
            "[56]\ttrain-logloss:0.065915\teval-logloss:0.268998\n",
            "[57]\ttrain-logloss:0.064327\teval-logloss:0.267897\n",
            "[58]\ttrain-logloss:0.062588\teval-logloss:0.266633\n",
            "[59]\ttrain-logloss:0.061074\teval-logloss:0.267428\n",
            "[60]\ttrain-logloss:0.05957\teval-logloss:0.266097\n",
            "[61]\ttrain-logloss:0.058166\teval-logloss:0.266438\n",
            "[62]\ttrain-logloss:0.056912\teval-logloss:0.26673\n",
            "[63]\ttrain-logloss:0.055498\teval-logloss:0.265499\n",
            "[64]\ttrain-logloss:0.054219\teval-logloss:0.26443\n",
            "[65]\ttrain-logloss:0.053109\teval-logloss:0.265004\n",
            "[66]\ttrain-logloss:0.05207\teval-logloss:0.265905\n",
            "[67]\ttrain-logloss:0.050929\teval-logloss:0.265012\n",
            "[68]\ttrain-logloss:0.04976\teval-logloss:0.264348\n",
            "[69]\ttrain-logloss:0.048717\teval-logloss:0.263599\n",
            "[70]\ttrain-logloss:0.047764\teval-logloss:0.263186\n",
            "[71]\ttrain-logloss:0.046802\teval-logloss:0.262547\n",
            "[72]\ttrain-logloss:0.0458\teval-logloss:0.26204\n",
            "[73]\ttrain-logloss:0.044838\teval-logloss:0.262537\n",
            "[74]\ttrain-logloss:0.043883\teval-logloss:0.262887\n",
            "[75]\ttrain-logloss:0.043086\teval-logloss:0.262487\n",
            "[76]\ttrain-logloss:0.042236\teval-logloss:0.262175\n",
            "[77]\ttrain-logloss:0.04133\teval-logloss:0.261664\n",
            "[78]\ttrain-logloss:0.0405\teval-logloss:0.26179\n",
            "[79]\ttrain-logloss:0.039667\teval-logloss:0.261034\n",
            "[80]\ttrain-logloss:0.038765\teval-logloss:0.260937\n",
            "[81]\ttrain-logloss:0.038064\teval-logloss:0.261483\n",
            "[82]\ttrain-logloss:0.037396\teval-logloss:0.260539\n",
            "[83]\ttrain-logloss:0.036763\teval-logloss:0.259672\n",
            "[84]\ttrain-logloss:0.036052\teval-logloss:0.259053\n",
            "[85]\ttrain-logloss:0.035453\teval-logloss:0.260073\n",
            "[86]\ttrain-logloss:0.034885\teval-logloss:0.259836\n",
            "[87]\ttrain-logloss:0.03425\teval-logloss:0.259332\n",
            "[88]\ttrain-logloss:0.033608\teval-logloss:0.259319\n",
            "[89]\ttrain-logloss:0.033107\teval-logloss:0.260023\n",
            "[90]\ttrain-logloss:0.0326\teval-logloss:0.25936\n",
            "[91]\ttrain-logloss:0.032016\teval-logloss:0.258861\n",
            "[92]\ttrain-logloss:0.031522\teval-logloss:0.259177\n",
            "[93]\ttrain-logloss:0.031067\teval-logloss:0.258645\n",
            "[94]\ttrain-logloss:0.030485\teval-logloss:0.259511\n",
            "[95]\ttrain-logloss:0.030072\teval-logloss:0.260911\n",
            "[96]\ttrain-logloss:0.029626\teval-logloss:0.260142\n",
            "[97]\ttrain-logloss:0.029131\teval-logloss:0.25974\n",
            "[98]\ttrain-logloss:0.02866\teval-logloss:0.259371\n",
            "[99]\ttrain-logloss:0.028285\teval-logloss:0.258932\n",
            "[100]\ttrain-logloss:0.027886\teval-logloss:0.259282\n",
            "[101]\ttrain-logloss:0.027512\teval-logloss:0.259552\n",
            "[102]\ttrain-logloss:0.027137\teval-logloss:0.259006\n",
            "[103]\ttrain-logloss:0.026676\teval-logloss:0.259906\n",
            "[104]\ttrain-logloss:0.026343\teval-logloss:0.259499\n",
            "[105]\ttrain-logloss:0.025943\teval-logloss:0.25924\n",
            "[106]\ttrain-logloss:0.025561\teval-logloss:0.259006\n",
            "[107]\ttrain-logloss:0.025219\teval-logloss:0.257375\n",
            "[108]\ttrain-logloss:0.024916\teval-logloss:0.257017\n",
            "[109]\ttrain-logloss:0.024525\teval-logloss:0.257891\n",
            "[110]\ttrain-logloss:0.02418\teval-logloss:0.257703\n",
            "[111]\ttrain-logloss:0.023838\teval-logloss:0.25842\n",
            "[112]\ttrain-logloss:0.023563\teval-logloss:0.2581\n",
            "[113]\ttrain-logloss:0.023219\teval-logloss:0.258476\n",
            "[114]\ttrain-logloss:0.022903\teval-logloss:0.258327\n",
            "[115]\ttrain-logloss:0.022602\teval-logloss:0.258196\n",
            "[116]\ttrain-logloss:0.022286\teval-logloss:0.259054\n",
            "[117]\ttrain-logloss:0.022039\teval-logloss:0.258778\n",
            "[118]\ttrain-logloss:0.021756\teval-logloss:0.25728\n",
            "[119]\ttrain-logloss:0.021492\teval-logloss:0.257225\n",
            "[120]\ttrain-logloss:0.021194\teval-logloss:0.257639\n",
            "[121]\ttrain-logloss:0.020948\teval-logloss:0.25761\n",
            "[122]\ttrain-logloss:0.020666\teval-logloss:0.258319\n",
            "[123]\ttrain-logloss:0.020448\teval-logloss:0.25808\n",
            "[124]\ttrain-logloss:0.020231\teval-logloss:0.25855\n",
            "[125]\ttrain-logloss:0.019979\teval-logloss:0.257135\n",
            "[126]\ttrain-logloss:0.019728\teval-logloss:0.255869\n",
            "[127]\ttrain-logloss:0.019465\teval-logloss:0.256403\n",
            "[128]\ttrain-logloss:0.019271\teval-logloss:0.256846\n",
            "[129]\ttrain-logloss:0.019079\teval-logloss:0.256648\n",
            "[130]\ttrain-logloss:0.018855\teval-logloss:0.257117\n",
            "[131]\ttrain-logloss:0.018634\teval-logloss:0.256086\n",
            "[132]\ttrain-logloss:0.018388\teval-logloss:0.256486\n",
            "[133]\ttrain-logloss:0.018156\teval-logloss:0.257893\n",
            "[134]\ttrain-logloss:0.018016\teval-logloss:0.258114\n",
            "[135]\ttrain-logloss:0.017846\teval-logloss:0.257936\n",
            "[136]\ttrain-logloss:0.017628\teval-logloss:0.258756\n",
            "[137]\ttrain-logloss:0.01748\teval-logloss:0.258839\n",
            "[138]\ttrain-logloss:0.017322\teval-logloss:0.258673\n",
            "[139]\ttrain-logloss:0.017188\teval-logloss:0.258756\n",
            "[140]\ttrain-logloss:0.016962\teval-logloss:0.259871\n",
            "[141]\ttrain-logloss:0.016808\teval-logloss:0.259601\n",
            "[142]\ttrain-logloss:0.016689\teval-logloss:0.259824\n",
            "[143]\ttrain-logloss:0.016565\teval-logloss:0.259922\n",
            "[144]\ttrain-logloss:0.016383\teval-logloss:0.260348\n",
            "[145]\ttrain-logloss:0.016227\teval-logloss:0.260546\n",
            "[146]\ttrain-logloss:0.016061\teval-logloss:0.260917\n",
            "[147]\ttrain-logloss:0.015892\teval-logloss:0.26137\n",
            "[148]\ttrain-logloss:0.015719\teval-logloss:0.259991\n",
            "[149]\ttrain-logloss:0.015565\teval-logloss:0.260284\n",
            "[150]\ttrain-logloss:0.015457\teval-logloss:0.260479\n",
            "[151]\ttrain-logloss:0.015307\teval-logloss:0.261421\n",
            "[152]\ttrain-logloss:0.015151\teval-logloss:0.261877\n",
            "[153]\ttrain-logloss:0.015006\teval-logloss:0.262274\n",
            "[154]\ttrain-logloss:0.01486\teval-logloss:0.262866\n",
            "[155]\ttrain-logloss:0.014759\teval-logloss:0.262988\n",
            "[156]\ttrain-logloss:0.014615\teval-logloss:0.263459\n",
            "[157]\ttrain-logloss:0.014481\teval-logloss:0.263786\n",
            "[158]\ttrain-logloss:0.014336\teval-logloss:0.263057\n",
            "[159]\ttrain-logloss:0.014243\teval-logloss:0.262369\n",
            "[160]\ttrain-logloss:0.014103\teval-logloss:0.262511\n",
            "[161]\ttrain-logloss:0.014009\teval-logloss:0.262647\n",
            "[162]\ttrain-logloss:0.013918\teval-logloss:0.262639\n",
            "[163]\ttrain-logloss:0.013805\teval-logloss:0.262501\n",
            "[164]\ttrain-logloss:0.013717\teval-logloss:0.262639\n",
            "[165]\ttrain-logloss:0.013587\teval-logloss:0.262551\n",
            "[166]\ttrain-logloss:0.013503\teval-logloss:0.261884\n",
            "[167]\ttrain-logloss:0.013417\teval-logloss:0.262026\n",
            "[168]\ttrain-logloss:0.013312\teval-logloss:0.261898\n",
            "[169]\ttrain-logloss:0.013192\teval-logloss:0.26184\n",
            "[170]\ttrain-logloss:0.013124\teval-logloss:0.261331\n",
            "[171]\ttrain-logloss:0.013044\teval-logloss:0.261479\n",
            "[172]\ttrain-logloss:0.01297\teval-logloss:0.26157\n",
            "[173]\ttrain-logloss:0.012846\teval-logloss:0.262534\n",
            "[174]\ttrain-logloss:0.012777\teval-logloss:0.26229\n",
            "[175]\ttrain-logloss:0.012668\teval-logloss:0.260863\n",
            "[176]\ttrain-logloss:0.012581\teval-logloss:0.261032\n",
            "Stopping. Best iteration:\n",
            "[126]\ttrain-logloss:0.019728\teval-logloss:0.255869\n",
            "\n"
          ]
        }
      ]
    },
    {
      "cell_type": "markdown",
      "source": [
        "126번째 반복에서 eval-logloss가 0.25587로 가장 낮음"
      ],
      "metadata": {
        "id": "1_VguGdN5wro"
      }
    },
    {
      "cell_type": "code",
      "source": [
        "pred_probs = xgb_model.predict(dtest)\n",
        "print('predict( ) 수행 결과값을 10개만 표시, 예측 확률 값으로 표시됨')\n",
        "print(np.round(pred_probs[:10], 3))\n",
        "\n",
        "# 예측 확률이 0.5보다 크면 1, 그렇지 않으면 0으로 예측 값 결정하여 List 객체인 preds에 저장\n",
        "preds = [ 1 if x >0.5 else 0 for x in pred_probs]\n",
        "print('예측값 10개만 표시: ', preds[:10])"
      ],
      "metadata": {
        "colab": {
          "base_uri": "https://localhost:8080/"
        },
        "id": "wnRSQONE5mDd",
        "outputId": "8fb08683-0e5f-481c-e2eb-8f9b52815114"
      },
      "execution_count": 17,
      "outputs": [
        {
          "output_type": "stream",
          "name": "stdout",
          "text": [
            "predict( ) 수행 결과값을 10개만 표시, 예측 확률 값으로 표시됨\n",
            "[0.845 0.008 0.68  0.081 0.975 0.999 0.998 0.998 0.996 0.001]\n",
            "예측값 10개만 표시:  [1, 0, 1, 0, 1, 1, 1, 1, 1, 0]\n"
          ]
        }
      ]
    },
    {
      "cell_type": "code",
      "source": [
        "from sklearn.metrics import confusion_matrix, accuracy_score\n",
        "from sklearn.metrics import precision_score, recall_score\n",
        "from sklearn.metrics import f1_score, roc_auc_score\n",
        "\n",
        "def get_clf_eval(y_test, pred=None, pred_proba=None):\n",
        "    confusion = confusion_matrix( y_test, pred)\n",
        "    accuracy = accuracy_score(y_test , pred)\n",
        "    precision = precision_score(y_test , pred)\n",
        "    recall = recall_score(y_test , pred)\n",
        "    f1 = f1_score(y_test,pred)\n",
        "    # ROC-AUC 추가 \n",
        "    roc_auc = roc_auc_score(y_test, pred_proba)\n",
        "    print('오차 행렬')\n",
        "    print(confusion)\n",
        "    # ROC-AUC print 추가\n",
        "    print('정확도: {0:.4f}, 정밀도: {1:.4f}, 재현율: {2:.4f},\\\n",
        "    F1: {3:.4f}, AUC:{4:.4f}'.format(accuracy, precision, recall, f1, roc_auc))"
      ],
      "metadata": {
        "id": "m2bbH_uL6LCl"
      },
      "execution_count": 18,
      "outputs": []
    },
    {
      "cell_type": "code",
      "source": [
        "get_clf_eval(y_test , preds, pred_probs)"
      ],
      "metadata": {
        "colab": {
          "base_uri": "https://localhost:8080/"
        },
        "id": "Cg0iEU7j6fUB",
        "outputId": "be26f8a8-20cd-44d8-bdd3-4dc9475b3ecb"
      },
      "execution_count": 19,
      "outputs": [
        {
          "output_type": "stream",
          "name": "stdout",
          "text": [
            "오차 행렬\n",
            "[[34  3]\n",
            " [ 2 75]]\n",
            "정확도: 0.9561, 정밀도: 0.9615, 재현율: 0.9740,    F1: 0.9677, AUC:0.9937\n"
          ]
        }
      ]
    },
    {
      "cell_type": "markdown",
      "source": [
        "### 4.5.3 사이킷런 래퍼 XGBoost 개요 및 적용"
      ],
      "metadata": {
        "id": "8O-Cz1en6k3L"
      }
    },
    {
      "cell_type": "code",
      "source": [
        "from xgboost import XGBClassifier\n",
        "\n",
        "xgb_wrapper = XGBClassifier(n_estimators=400, learning_Rate=0.05, max_depth=3, eval_metric='logloss')\n",
        "xgb_wrapper.fit(X_train, y_train, verbose=True)\n",
        "w_preds = xgb_wrapper.predict(X_test)\n",
        "w_preds_proba = xgb_wrapper.predict_proba(X_test)[:,1]"
      ],
      "metadata": {
        "id": "-AOVwYTZ6wLv"
      },
      "execution_count": 21,
      "outputs": []
    },
    {
      "cell_type": "code",
      "source": [
        "get_clf_eval(y_test, w_preds, w_preds_proba)"
      ],
      "metadata": {
        "colab": {
          "base_uri": "https://localhost:8080/"
        },
        "id": "a0g5blkI7aiM",
        "outputId": "550626d4-133f-4967-e9a0-afe4ba6e324f"
      },
      "execution_count": 23,
      "outputs": [
        {
          "output_type": "stream",
          "name": "stdout",
          "text": [
            "오차 행렬\n",
            "[[35  2]\n",
            " [ 1 76]]\n",
            "정확도: 0.9737, 정밀도: 0.9744, 재현율: 0.9870,    F1: 0.9806, AUC:0.9951\n"
          ]
        }
      ]
    },
    {
      "cell_type": "code",
      "source": [
        "xgb_wrapper = XGBClassifier(n_estimators=400, learning_Rate=0.05, max_depth=3)\n",
        "evals = [(X_tr, y_tr), (X_val, y_val)]\n",
        "xgb_wrapper.fit(X_tr, y_tr, early_stopping_rounds=50, eval_metric = 'logloss', eval_set=evals, verbose=True)\n",
        "ws50_preds = xgb_wrapper.predict(X_test)\n",
        "ws50_pred_proba=xgb_wrapper.predict_proba(X_test)[:,1]"
      ],
      "metadata": {
        "colab": {
          "base_uri": "https://localhost:8080/"
        },
        "id": "Drn4s68X7o8x",
        "outputId": "edfb1c7b-6c18-4187-b6ff-0477061f2006"
      },
      "execution_count": 24,
      "outputs": [
        {
          "output_type": "stream",
          "name": "stdout",
          "text": [
            "[0]\tvalidation_0-logloss:0.609309\tvalidation_1-logloss:0.632341\n",
            "Multiple eval metrics have been passed: 'validation_1-logloss' will be used for early stopping.\n",
            "\n",
            "Will train until validation_1-logloss hasn't improved in 50 rounds.\n",
            "[1]\tvalidation_0-logloss:0.54033\tvalidation_1-logloss:0.591335\n",
            "[2]\tvalidation_0-logloss:0.482451\tvalidation_1-logloss:0.555478\n",
            "[3]\tvalidation_0-logloss:0.43082\tvalidation_1-logloss:0.514399\n",
            "[4]\tvalidation_0-logloss:0.386624\tvalidation_1-logloss:0.481856\n",
            "[5]\tvalidation_0-logloss:0.350313\tvalidation_1-logloss:0.460872\n",
            "[6]\tvalidation_0-logloss:0.316809\tvalidation_1-logloss:0.436703\n",
            "[7]\tvalidation_0-logloss:0.287157\tvalidation_1-logloss:0.412904\n",
            "[8]\tvalidation_0-logloss:0.262035\tvalidation_1-logloss:0.392834\n",
            "[9]\tvalidation_0-logloss:0.239122\tvalidation_1-logloss:0.378621\n",
            "[10]\tvalidation_0-logloss:0.218812\tvalidation_1-logloss:0.365379\n",
            "[11]\tvalidation_0-logloss:0.200896\tvalidation_1-logloss:0.351744\n",
            "[12]\tvalidation_0-logloss:0.184499\tvalidation_1-logloss:0.339446\n",
            "[13]\tvalidation_0-logloss:0.169929\tvalidation_1-logloss:0.331118\n",
            "[14]\tvalidation_0-logloss:0.156869\tvalidation_1-logloss:0.321881\n",
            "[15]\tvalidation_0-logloss:0.14536\tvalidation_1-logloss:0.312172\n",
            "[16]\tvalidation_0-logloss:0.13488\tvalidation_1-logloss:0.305875\n",
            "[17]\tvalidation_0-logloss:0.125304\tvalidation_1-logloss:0.30019\n",
            "[18]\tvalidation_0-logloss:0.116696\tvalidation_1-logloss:0.292511\n",
            "[19]\tvalidation_0-logloss:0.109062\tvalidation_1-logloss:0.288474\n",
            "[20]\tvalidation_0-logloss:0.102276\tvalidation_1-logloss:0.283414\n",
            "[21]\tvalidation_0-logloss:0.095992\tvalidation_1-logloss:0.279881\n",
            "[22]\tvalidation_0-logloss:0.090174\tvalidation_1-logloss:0.280572\n",
            "[23]\tvalidation_0-logloss:0.085047\tvalidation_1-logloss:0.276872\n",
            "[24]\tvalidation_0-logloss:0.080201\tvalidation_1-logloss:0.27689\n",
            "[25]\tvalidation_0-logloss:0.075312\tvalidation_1-logloss:0.275313\n",
            "[26]\tvalidation_0-logloss:0.070955\tvalidation_1-logloss:0.274311\n",
            "[27]\tvalidation_0-logloss:0.067328\tvalidation_1-logloss:0.272641\n",
            "[28]\tvalidation_0-logloss:0.064117\tvalidation_1-logloss:0.270379\n",
            "[29]\tvalidation_0-logloss:0.061283\tvalidation_1-logloss:0.270024\n",
            "[30]\tvalidation_0-logloss:0.058155\tvalidation_1-logloss:0.268063\n",
            "[31]\tvalidation_0-logloss:0.055504\tvalidation_1-logloss:0.269887\n",
            "[32]\tvalidation_0-logloss:0.052966\tvalidation_1-logloss:0.267692\n",
            "[33]\tvalidation_0-logloss:0.050644\tvalidation_1-logloss:0.270453\n",
            "[34]\tvalidation_0-logloss:0.048402\tvalidation_1-logloss:0.269338\n",
            "[35]\tvalidation_0-logloss:0.04642\tvalidation_1-logloss:0.267911\n",
            "[36]\tvalidation_0-logloss:0.044638\tvalidation_1-logloss:0.266808\n",
            "[37]\tvalidation_0-logloss:0.042721\tvalidation_1-logloss:0.265969\n",
            "[38]\tvalidation_0-logloss:0.040926\tvalidation_1-logloss:0.26624\n",
            "[39]\tvalidation_0-logloss:0.039317\tvalidation_1-logloss:0.266561\n",
            "[40]\tvalidation_0-logloss:0.037605\tvalidation_1-logloss:0.266683\n",
            "[41]\tvalidation_0-logloss:0.036162\tvalidation_1-logloss:0.266116\n",
            "[42]\tvalidation_0-logloss:0.034947\tvalidation_1-logloss:0.26822\n",
            "[43]\tvalidation_0-logloss:0.033819\tvalidation_1-logloss:0.266617\n",
            "[44]\tvalidation_0-logloss:0.03259\tvalidation_1-logloss:0.265662\n",
            "[45]\tvalidation_0-logloss:0.031477\tvalidation_1-logloss:0.264857\n",
            "[46]\tvalidation_0-logloss:0.030497\tvalidation_1-logloss:0.265705\n",
            "[47]\tvalidation_0-logloss:0.029586\tvalidation_1-logloss:0.266797\n",
            "[48]\tvalidation_0-logloss:0.028792\tvalidation_1-logloss:0.265873\n",
            "[49]\tvalidation_0-logloss:0.027989\tvalidation_1-logloss:0.264959\n",
            "[50]\tvalidation_0-logloss:0.027289\tvalidation_1-logloss:0.264182\n",
            "[51]\tvalidation_0-logloss:0.026369\tvalidation_1-logloss:0.265497\n",
            "[52]\tvalidation_0-logloss:0.025576\tvalidation_1-logloss:0.265145\n",
            "[53]\tvalidation_0-logloss:0.024841\tvalidation_1-logloss:0.265722\n",
            "[54]\tvalidation_0-logloss:0.024143\tvalidation_1-logloss:0.265476\n",
            "[55]\tvalidation_0-logloss:0.023584\tvalidation_1-logloss:0.264875\n",
            "[56]\tvalidation_0-logloss:0.022973\tvalidation_1-logloss:0.262037\n",
            "[57]\tvalidation_0-logloss:0.022368\tvalidation_1-logloss:0.261927\n",
            "[58]\tvalidation_0-logloss:0.021762\tvalidation_1-logloss:0.26204\n",
            "[59]\tvalidation_0-logloss:0.021286\tvalidation_1-logloss:0.263046\n",
            "[60]\tvalidation_0-logloss:0.020721\tvalidation_1-logloss:0.260427\n",
            "[61]\tvalidation_0-logloss:0.020161\tvalidation_1-logloss:0.26078\n",
            "[62]\tvalidation_0-logloss:0.019623\tvalidation_1-logloss:0.261795\n",
            "[63]\tvalidation_0-logloss:0.019222\tvalidation_1-logloss:0.261374\n",
            "[64]\tvalidation_0-logloss:0.018861\tvalidation_1-logloss:0.262219\n",
            "[65]\tvalidation_0-logloss:0.018495\tvalidation_1-logloss:0.26168\n",
            "[66]\tvalidation_0-logloss:0.018065\tvalidation_1-logloss:0.263249\n",
            "[67]\tvalidation_0-logloss:0.017757\tvalidation_1-logloss:0.263281\n",
            "[68]\tvalidation_0-logloss:0.017475\tvalidation_1-logloss:0.263541\n",
            "[69]\tvalidation_0-logloss:0.017033\tvalidation_1-logloss:0.264113\n",
            "[70]\tvalidation_0-logloss:0.01672\tvalidation_1-logloss:0.263771\n",
            "[71]\tvalidation_0-logloss:0.016393\tvalidation_1-logloss:0.263379\n",
            "[72]\tvalidation_0-logloss:0.016059\tvalidation_1-logloss:0.265374\n",
            "[73]\tvalidation_0-logloss:0.015689\tvalidation_1-logloss:0.265658\n",
            "[74]\tvalidation_0-logloss:0.015425\tvalidation_1-logloss:0.265203\n",
            "[75]\tvalidation_0-logloss:0.015105\tvalidation_1-logloss:0.266304\n",
            "[76]\tvalidation_0-logloss:0.014894\tvalidation_1-logloss:0.266642\n",
            "[77]\tvalidation_0-logloss:0.014608\tvalidation_1-logloss:0.267473\n",
            "[78]\tvalidation_0-logloss:0.014412\tvalidation_1-logloss:0.267715\n",
            "[79]\tvalidation_0-logloss:0.014133\tvalidation_1-logloss:0.269011\n",
            "[80]\tvalidation_0-logloss:0.013952\tvalidation_1-logloss:0.269354\n",
            "[81]\tvalidation_0-logloss:0.013682\tvalidation_1-logloss:0.269257\n",
            "[82]\tvalidation_0-logloss:0.013508\tvalidation_1-logloss:0.267855\n",
            "[83]\tvalidation_0-logloss:0.01335\tvalidation_1-logloss:0.267231\n",
            "[84]\tvalidation_0-logloss:0.013096\tvalidation_1-logloss:0.269245\n",
            "[85]\tvalidation_0-logloss:0.012875\tvalidation_1-logloss:0.266267\n",
            "[86]\tvalidation_0-logloss:0.01273\tvalidation_1-logloss:0.266553\n",
            "[87]\tvalidation_0-logloss:0.01255\tvalidation_1-logloss:0.266968\n",
            "[88]\tvalidation_0-logloss:0.012427\tvalidation_1-logloss:0.266324\n",
            "[89]\tvalidation_0-logloss:0.012219\tvalidation_1-logloss:0.267166\n",
            "[90]\tvalidation_0-logloss:0.012079\tvalidation_1-logloss:0.268139\n",
            "[91]\tvalidation_0-logloss:0.011945\tvalidation_1-logloss:0.267529\n",
            "[92]\tvalidation_0-logloss:0.011843\tvalidation_1-logloss:0.267443\n",
            "[93]\tvalidation_0-logloss:0.011735\tvalidation_1-logloss:0.266417\n",
            "[94]\tvalidation_0-logloss:0.011611\tvalidation_1-logloss:0.265844\n",
            "[95]\tvalidation_0-logloss:0.011468\tvalidation_1-logloss:0.266871\n",
            "[96]\tvalidation_0-logloss:0.011352\tvalidation_1-logloss:0.26678\n",
            "[97]\tvalidation_0-logloss:0.011235\tvalidation_1-logloss:0.267165\n",
            "[98]\tvalidation_0-logloss:0.011183\tvalidation_1-logloss:0.266639\n",
            "[99]\tvalidation_0-logloss:0.011048\tvalidation_1-logloss:0.265227\n",
            "[100]\tvalidation_0-logloss:0.010956\tvalidation_1-logloss:0.265839\n",
            "[101]\tvalidation_0-logloss:0.010865\tvalidation_1-logloss:0.265493\n",
            "[102]\tvalidation_0-logloss:0.010762\tvalidation_1-logloss:0.264937\n",
            "[103]\tvalidation_0-logloss:0.010715\tvalidation_1-logloss:0.264332\n",
            "[104]\tvalidation_0-logloss:0.010598\tvalidation_1-logloss:0.264731\n",
            "[105]\tvalidation_0-logloss:0.010554\tvalidation_1-logloss:0.26424\n",
            "[106]\tvalidation_0-logloss:0.010463\tvalidation_1-logloss:0.26376\n",
            "[107]\tvalidation_0-logloss:0.010344\tvalidation_1-logloss:0.262308\n",
            "[108]\tvalidation_0-logloss:0.010269\tvalidation_1-logloss:0.262839\n",
            "[109]\tvalidation_0-logloss:0.010229\tvalidation_1-logloss:0.262269\n",
            "[110]\tvalidation_0-logloss:0.010168\tvalidation_1-logloss:0.262791\n",
            "Stopping. Best iteration:\n",
            "[60]\tvalidation_0-logloss:0.020721\tvalidation_1-logloss:0.260427\n",
            "\n"
          ]
        }
      ]
    },
    {
      "cell_type": "code",
      "source": [
        "get_clf_eval(y_test, ws50_preds, ws50_pred_proba)"
      ],
      "metadata": {
        "colab": {
          "base_uri": "https://localhost:8080/"
        },
        "id": "MXUoV4J08MIr",
        "outputId": "c7016035-4095-423f-d681-d2c4661cfb7d"
      },
      "execution_count": 25,
      "outputs": [
        {
          "output_type": "stream",
          "name": "stdout",
          "text": [
            "오차 행렬\n",
            "[[34  3]\n",
            " [ 3 74]]\n",
            "정확도: 0.9474, 정밀도: 0.9610, 재현율: 0.9610,    F1: 0.9610, AUC:0.9940\n"
          ]
        }
      ]
    },
    {
      "cell_type": "code",
      "source": [
        "# early_stop 10으로 재학습\n",
        "xgb_wrapper.fit(X_tr, y_tr, early_stopping_rounds=10, eval_metric = 'logloss', eval_set=evals, verbose=True)\n",
        "ws10_preds = xgb_wrapper.predict(X_test)\n",
        "ws10_pred_proba=xgb_wrapper.predict_proba(X_test)[:,1]\n",
        "get_clf_eval(y_test, ws10_preds, ws10_pred_proba)"
      ],
      "metadata": {
        "colab": {
          "base_uri": "https://localhost:8080/"
        },
        "id": "d8Wdhi2i8Tkc",
        "outputId": "abccc731-70e8-4214-f7a0-73ba54a781aa"
      },
      "execution_count": 26,
      "outputs": [
        {
          "output_type": "stream",
          "name": "stdout",
          "text": [
            "[0]\tvalidation_0-logloss:0.609309\tvalidation_1-logloss:0.632341\n",
            "Multiple eval metrics have been passed: 'validation_1-logloss' will be used for early stopping.\n",
            "\n",
            "Will train until validation_1-logloss hasn't improved in 10 rounds.\n",
            "[1]\tvalidation_0-logloss:0.54033\tvalidation_1-logloss:0.591335\n",
            "[2]\tvalidation_0-logloss:0.482451\tvalidation_1-logloss:0.555478\n",
            "[3]\tvalidation_0-logloss:0.43082\tvalidation_1-logloss:0.514399\n",
            "[4]\tvalidation_0-logloss:0.386624\tvalidation_1-logloss:0.481856\n",
            "[5]\tvalidation_0-logloss:0.350313\tvalidation_1-logloss:0.460872\n",
            "[6]\tvalidation_0-logloss:0.316809\tvalidation_1-logloss:0.436703\n",
            "[7]\tvalidation_0-logloss:0.287157\tvalidation_1-logloss:0.412904\n",
            "[8]\tvalidation_0-logloss:0.262035\tvalidation_1-logloss:0.392834\n",
            "[9]\tvalidation_0-logloss:0.239122\tvalidation_1-logloss:0.378621\n",
            "[10]\tvalidation_0-logloss:0.218812\tvalidation_1-logloss:0.365379\n",
            "[11]\tvalidation_0-logloss:0.200896\tvalidation_1-logloss:0.351744\n",
            "[12]\tvalidation_0-logloss:0.184499\tvalidation_1-logloss:0.339446\n",
            "[13]\tvalidation_0-logloss:0.169929\tvalidation_1-logloss:0.331118\n",
            "[14]\tvalidation_0-logloss:0.156869\tvalidation_1-logloss:0.321881\n",
            "[15]\tvalidation_0-logloss:0.14536\tvalidation_1-logloss:0.312172\n",
            "[16]\tvalidation_0-logloss:0.13488\tvalidation_1-logloss:0.305875\n",
            "[17]\tvalidation_0-logloss:0.125304\tvalidation_1-logloss:0.30019\n",
            "[18]\tvalidation_0-logloss:0.116696\tvalidation_1-logloss:0.292511\n",
            "[19]\tvalidation_0-logloss:0.109062\tvalidation_1-logloss:0.288474\n",
            "[20]\tvalidation_0-logloss:0.102276\tvalidation_1-logloss:0.283414\n",
            "[21]\tvalidation_0-logloss:0.095992\tvalidation_1-logloss:0.279881\n",
            "[22]\tvalidation_0-logloss:0.090174\tvalidation_1-logloss:0.280572\n",
            "[23]\tvalidation_0-logloss:0.085047\tvalidation_1-logloss:0.276872\n",
            "[24]\tvalidation_0-logloss:0.080201\tvalidation_1-logloss:0.27689\n",
            "[25]\tvalidation_0-logloss:0.075312\tvalidation_1-logloss:0.275313\n",
            "[26]\tvalidation_0-logloss:0.070955\tvalidation_1-logloss:0.274311\n",
            "[27]\tvalidation_0-logloss:0.067328\tvalidation_1-logloss:0.272641\n",
            "[28]\tvalidation_0-logloss:0.064117\tvalidation_1-logloss:0.270379\n",
            "[29]\tvalidation_0-logloss:0.061283\tvalidation_1-logloss:0.270024\n",
            "[30]\tvalidation_0-logloss:0.058155\tvalidation_1-logloss:0.268063\n",
            "[31]\tvalidation_0-logloss:0.055504\tvalidation_1-logloss:0.269887\n",
            "[32]\tvalidation_0-logloss:0.052966\tvalidation_1-logloss:0.267692\n",
            "[33]\tvalidation_0-logloss:0.050644\tvalidation_1-logloss:0.270453\n",
            "[34]\tvalidation_0-logloss:0.048402\tvalidation_1-logloss:0.269338\n",
            "[35]\tvalidation_0-logloss:0.04642\tvalidation_1-logloss:0.267911\n",
            "[36]\tvalidation_0-logloss:0.044638\tvalidation_1-logloss:0.266808\n",
            "[37]\tvalidation_0-logloss:0.042721\tvalidation_1-logloss:0.265969\n",
            "[38]\tvalidation_0-logloss:0.040926\tvalidation_1-logloss:0.26624\n",
            "[39]\tvalidation_0-logloss:0.039317\tvalidation_1-logloss:0.266561\n",
            "[40]\tvalidation_0-logloss:0.037605\tvalidation_1-logloss:0.266683\n",
            "[41]\tvalidation_0-logloss:0.036162\tvalidation_1-logloss:0.266116\n",
            "[42]\tvalidation_0-logloss:0.034947\tvalidation_1-logloss:0.26822\n",
            "[43]\tvalidation_0-logloss:0.033819\tvalidation_1-logloss:0.266617\n",
            "[44]\tvalidation_0-logloss:0.03259\tvalidation_1-logloss:0.265662\n",
            "[45]\tvalidation_0-logloss:0.031477\tvalidation_1-logloss:0.264857\n",
            "[46]\tvalidation_0-logloss:0.030497\tvalidation_1-logloss:0.265705\n",
            "[47]\tvalidation_0-logloss:0.029586\tvalidation_1-logloss:0.266797\n",
            "[48]\tvalidation_0-logloss:0.028792\tvalidation_1-logloss:0.265873\n",
            "[49]\tvalidation_0-logloss:0.027989\tvalidation_1-logloss:0.264959\n",
            "[50]\tvalidation_0-logloss:0.027289\tvalidation_1-logloss:0.264182\n",
            "[51]\tvalidation_0-logloss:0.026369\tvalidation_1-logloss:0.265497\n",
            "[52]\tvalidation_0-logloss:0.025576\tvalidation_1-logloss:0.265145\n",
            "[53]\tvalidation_0-logloss:0.024841\tvalidation_1-logloss:0.265722\n",
            "[54]\tvalidation_0-logloss:0.024143\tvalidation_1-logloss:0.265476\n",
            "[55]\tvalidation_0-logloss:0.023584\tvalidation_1-logloss:0.264875\n",
            "[56]\tvalidation_0-logloss:0.022973\tvalidation_1-logloss:0.262037\n",
            "[57]\tvalidation_0-logloss:0.022368\tvalidation_1-logloss:0.261927\n",
            "[58]\tvalidation_0-logloss:0.021762\tvalidation_1-logloss:0.26204\n",
            "[59]\tvalidation_0-logloss:0.021286\tvalidation_1-logloss:0.263046\n",
            "[60]\tvalidation_0-logloss:0.020721\tvalidation_1-logloss:0.260427\n",
            "[61]\tvalidation_0-logloss:0.020161\tvalidation_1-logloss:0.26078\n",
            "[62]\tvalidation_0-logloss:0.019623\tvalidation_1-logloss:0.261795\n",
            "[63]\tvalidation_0-logloss:0.019222\tvalidation_1-logloss:0.261374\n",
            "[64]\tvalidation_0-logloss:0.018861\tvalidation_1-logloss:0.262219\n",
            "[65]\tvalidation_0-logloss:0.018495\tvalidation_1-logloss:0.26168\n",
            "[66]\tvalidation_0-logloss:0.018065\tvalidation_1-logloss:0.263249\n",
            "[67]\tvalidation_0-logloss:0.017757\tvalidation_1-logloss:0.263281\n",
            "[68]\tvalidation_0-logloss:0.017475\tvalidation_1-logloss:0.263541\n",
            "[69]\tvalidation_0-logloss:0.017033\tvalidation_1-logloss:0.264113\n",
            "[70]\tvalidation_0-logloss:0.01672\tvalidation_1-logloss:0.263771\n",
            "Stopping. Best iteration:\n",
            "[60]\tvalidation_0-logloss:0.020721\tvalidation_1-logloss:0.260427\n",
            "\n",
            "오차 행렬\n",
            "[[34  3]\n",
            " [ 3 74]]\n",
            "정확도: 0.9474, 정밀도: 0.9610, 재현율: 0.9610,    F1: 0.9610, AUC:0.9940\n"
          ]
        }
      ]
    }
  ]
}
